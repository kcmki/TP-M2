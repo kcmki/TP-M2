{
 "cells": [
  {
   "cell_type": "code",
   "execution_count": 1,
   "metadata": {},
   "outputs": [],
   "source": [
    "import numpy as np\n",
    "from scipy.signal import convolve2d\n"
   ]
  },
  {
   "cell_type": "code",
   "execution_count": 11,
   "metadata": {},
   "outputs": [
    {
     "name": "stdout",
     "output_type": "stream",
     "text": [
      "Original Matrix:\n",
      "[[  0 234 228   0   0]\n",
      " [  0 234 228   0   0]\n",
      " [  0 234 228   0   0]\n",
      " [  0 234 228   0   0]\n",
      " [  0 234 228   0   0]]\n",
      "\n",
      "Laplacian Result:\n",
      "[[-234  240  222 -228    0]\n",
      " [-234  240  222 -228    0]\n",
      " [-234  240  222 -228    0]\n",
      " [-234  240  222 -228    0]\n",
      " [-234  240  222 -228    0]]\n",
      "\n",
      "Edges (Detected Contours):\n",
      "[[ True  True  True  True False]\n",
      " [ True  True  True  True False]\n",
      " [ True  True  True  True False]\n",
      " [ True  True  True  True False]\n",
      " [ True  True  True  True False]]\n"
     ]
    }
   ],
   "source": [
    "# Given Matrix\n",
    "matrix = np.array([\n",
    "    [0, 234, 228, 0, 0],\n",
    "    [0, 234, 228, 0, 0],\n",
    "    [0, 234, 228, 0, 0],\n",
    "    [0, 234, 228, 0, 0],\n",
    "    [0, 234, 228, 0, 0]\n",
    "],dtype=np.int16)\n",
    "\n",
    "# Laplacian Kernel\n",
    "laplacian_kernel = np.array([[0, -1, 0], [-1, 4, -1], [0, -1, 0]],dtype=np.int16)\n",
    "\n",
    "# Apply Laplacian filter\n",
    "laplacian_result = convolve2d(matrix, laplacian_kernel, mode='same', boundary='symm')\n",
    "laplacian_result = np.array(laplacian_result,dtype=np.int16)\n",
    "\n",
    "# Threshold for edge detection\n",
    "\n",
    "threshold = 128  # Adjust as needed\n",
    "edges = np.abs(laplacian_result) > threshold\n",
    "\n",
    "# Print results\n",
    "print(\"Original Matrix:\")\n",
    "print(matrix)\n",
    "print(\"\\nLaplacian Result:\")\n",
    "print(laplacian_result)\n",
    "print(\"\\nEdges (Detected Contours):\")\n",
    "print(edges)"
   ]
  }
 ],
 "metadata": {
  "kernelspec": {
   "display_name": "Python 3",
   "language": "python",
   "name": "python3"
  },
  "language_info": {
   "codemirror_mode": {
    "name": "ipython",
    "version": 3
   },
   "file_extension": ".py",
   "mimetype": "text/x-python",
   "name": "python",
   "nbconvert_exporter": "python",
   "pygments_lexer": "ipython3",
   "version": "3.12.0"
  }
 },
 "nbformat": 4,
 "nbformat_minor": 2
}
