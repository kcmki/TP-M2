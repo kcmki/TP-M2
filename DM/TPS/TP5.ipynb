{
 "cells": [
  {
   "cell_type": "code",
   "execution_count": 15,
   "metadata": {},
   "outputs": [],
   "source": [
    "import pandas as pd\n",
    "import numpy as np\n",
    "from matplotlib import pyplot as plt\n",
    "from math import sqrt\n"
   ]
  },
  {
   "cell_type": "markdown",
   "metadata": {},
   "source": [
    "# TP 5 : KNN"
   ]
  },
  {
   "cell_type": "code",
   "execution_count": 16,
   "metadata": {},
   "outputs": [],
   "source": [
    "def sepLine(line):\n",
    "    return line.split(\";\")[1:]\n",
    "def getArray(file):\n",
    "    arr = []\n",
    "    for line in file:\n",
    "        line = sepLine(line)\n",
    "        Line = []\n",
    "        for x in line:\n",
    "\n",
    "            x = x.replace(\",\",\".\")\n",
    "\n",
    "            try:\n",
    "                Line.append(float(x))\n",
    "            except:\n",
    "                Line.append(x)\n",
    "        arr.append(Line)\n",
    "    return arr\n",
    "\n",
    "\n",
    "f = \"Exo1.csv\"\n",
    "file = open(f,\"r\")\n",
    "\n",
    "array = getArray(file)"
   ]
  },
  {
   "cell_type": "code",
   "execution_count": 22,
   "metadata": {},
   "outputs": [],
   "source": [
    "\n",
    "\n",
    "class Knn:\n",
    "    def __init__(self,data):\n",
    "        self.data = data\n",
    "        \n",
    "    def manhattan(self,index):\n",
    "        distances = {}\n",
    "        for i in range(len(self.data)):\n",
    "            somme=0\n",
    "            for j in range(len(self.data[i])):\n",
    "                somme += abs(self.data[index][j]-self.data[i][j])\n",
    "            distances[i]=somme\n",
    "        return distances\n",
    "    \n",
    "    def euclidienne(self,index):\n",
    "        distances = {}\n",
    "        for i in range(len(self.data)):\n",
    "            somme=0\n",
    "            for j in range(len(self.data[i])):\n",
    "                somme += pow(self.data[index][j]-self.data[i][j],2)\n",
    "            distances[i]=sqrt(somme)\n",
    "        return distances\n",
    "    \n",
    "    def minkowski(self,index,p):\n",
    "        distances = {}\n",
    "        for i in range(len(self.data)):\n",
    "            somme=0\n",
    "            for j in range(len(self.data[i])):\n",
    "                somme += pow(abs(self.data[index][j]-self.data[i][j]),p)\n",
    "            distances[i]=pow(somme,1/p)\n",
    "        return distances\n",
    "    \n",
    "    def cosine(self,index):\n",
    "        distances = {}\n",
    "        for i in range(len(self.data)):\n",
    "            somme=0\n",
    "            for j in range(len(self.data[i])):\n",
    "                ab = self.data[i][j] * self.data[index][j]\n",
    "                a2 = pow(self.data[i][j],2)\n",
    "                b2 = pow(self.data[index][j])\n",
    "\n",
    "            somme = ab/(sqrt(a2)*sqrt(b2))\n",
    "            distances[i]= 1 - somme\n",
    "        return distances\n",
    "        pass\n",
    "    def hamming(self,index):\n",
    "        distances = {}\n",
    "        for i in range(len(self.data)):\n",
    "            somme=0\n",
    "            for j in range(len(self.data[i])):\n",
    "                if self.data[index][j] != self.data[i][j]:\n",
    "                    somme+=1\n",
    "            distances[i]=somme\n",
    "    \n",
    "        return distances"
   ]
  },
  {
   "cell_type": "code",
   "execution_count": 24,
   "metadata": {},
   "outputs": [
    {
     "ename": "AttributeError",
     "evalue": "'dict' object has no attribute 'sort'",
     "output_type": "error",
     "traceback": [
      "\u001b[1;31m---------------------------------------------------------------------------\u001b[0m",
      "\u001b[1;31mAttributeError\u001b[0m                            Traceback (most recent call last)",
      "\u001b[1;32mc:\\Users\\mekki\\Desktop\\TP2\\DM\\TPS\\TP5.ipynb Cell 5\u001b[0m line \u001b[0;36m3\n\u001b[0;32m      <a href='vscode-notebook-cell:/c%3A/Users/mekki/Desktop/TP2/DM/TPS/TP5.ipynb#W5sZmlsZQ%3D%3D?line=0'>1</a>\u001b[0m knn \u001b[39m=\u001b[39m Knn(data\u001b[39m=\u001b[39marray)\n\u001b[1;32m----> <a href='vscode-notebook-cell:/c%3A/Users/mekki/Desktop/TP2/DM/TPS/TP5.ipynb#W5sZmlsZQ%3D%3D?line=2'>3</a>\u001b[0m knn\u001b[39m.\u001b[39;49mhamming(\u001b[39m12\u001b[39;49m)\u001b[39m.\u001b[39;49msort()\n",
      "\u001b[1;31mAttributeError\u001b[0m: 'dict' object has no attribute 'sort'"
     ]
    }
   ],
   "source": [
    "knn = Knn(data=array)\n",
    "\n",
    "knn.hamming(12).sort()"
   ]
  }
 ],
 "metadata": {
  "kernelspec": {
   "display_name": "Python 3",
   "language": "python",
   "name": "python3"
  },
  "language_info": {
   "codemirror_mode": {
    "name": "ipython",
    "version": 3
   },
   "file_extension": ".py",
   "mimetype": "text/x-python",
   "name": "python",
   "nbconvert_exporter": "python",
   "pygments_lexer": "ipython3",
   "version": "3.12.0"
  }
 },
 "nbformat": 4,
 "nbformat_minor": 2
}
