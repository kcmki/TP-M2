{
 "cells": [
  {
   "cell_type": "code",
   "execution_count": 7,
   "metadata": {},
   "outputs": [],
   "source": [
    "import pandas as pd\n",
    "import numpy as np"
   ]
  },
  {
   "cell_type": "markdown",
   "metadata": {},
   "source": [
    "# Qst 1\n",
    "lecture des données"
   ]
  },
  {
   "cell_type": "code",
   "execution_count": 29,
   "metadata": {},
   "outputs": [
    {
     "name": "stdout",
     "output_type": "stream",
     "text": [
      "(112, 4)\n",
      "448\n"
     ]
    }
   ],
   "source": [
    "data = pd.read_csv(\"Dataset-Exos2.csv\")\n",
    "#add column id\n",
    "data = data.dropna()\n",
    "print(data.shape)\n",
    "print(data.shape[0]*data.shape[1])\n"
   ]
  },
  {
   "cell_type": "code",
   "execution_count": 30,
   "metadata": {},
   "outputs": [
    {
     "name": "stdout",
     "output_type": "stream",
     "text": [
      "[[0 'Billy' 29.0 'Nonprofits & Activism' 'hd']\n",
      " [1 'Leila' 22.0 'People & Blogs' 'sd']\n",
      " [2 'Billy' 22.0 'People & Blogs' 'sd']\n",
      " [3 'Mark' 24.0 'Entertainment' 'hd']\n",
      " [4 'Billy' 24.0 'Entertainment' 'hd']\n",
      " [5 'Jane' 24.0 'Entertainment' 'hd']\n",
      " [6 'Babs' 22.0 'People & Blogs' 'hd']\n",
      " [7 'Jeff' 25.0 'News & Politics' 'hd']\n",
      " [8 'Leila' 28.0 'Science & Technology' 'hd']\n",
      " [9 'Jane' 27.0 'Education' 'hd']\n",
      " [10 'Naomy' 22.0 'People & Blogs' 'hd']\n",
      " [11 'Jane' 24.0 'Entertainment' 'sd']\n",
      " [12 'Mark' 22.0 'People & Blogs' 'sd']\n",
      " [13 'Flo' 28.0 'Science & Technology' 'sd']\n",
      " [14 'Phoebe' 28.0 'Science & Technology' 'sd']\n",
      " [15 'Jeff' 28.0 'Science & Technology' 'sd']\n",
      " [16 'Leila' 29.0 'Nonprofits & Activism' 'sd']\n",
      " [17 'Mark' 29.0 'Nonprofits & Activism' 'hd']\n",
      " [18 'Rachel' 22.0 'People & Blogs' 'hd']\n",
      " [19 'Naomy' 10.0 'Music' 'hd']\n",
      " [20 'Marie' 24.0 'Entertainment' 'hd']\n",
      " [21 'Ross' 25.0 'News & Politics' 'hd']\n",
      " [22 'Adam' 22.0 'People & Blogs' 'hd']\n",
      " [23 'Ben' 22.0 'People & Blogs' 'sd']\n",
      " [24 'Phoebe' 22.0 'People & Blogs' 'hd']\n",
      " [25 'Marie' 22.0 'People & Blogs' 'hd']\n",
      " [26 'Brad' 10.0 'Music' 'sd']\n",
      " [27 'Jess' 24.0 'Entertainment' 'hd']\n",
      " [28 'Jeff' 24.0 'Entertainment' 'hd']\n",
      " [29 'Mark' 27.0 'Education' 'hd']\n",
      " [30 'Brad' 28.0 'Science & Technology' 'sd']\n",
      " [31 'Ross' 27.0 'Education' 'hd']\n",
      " [32 'Cyrus' 28.0 'Science & Technology' 'sd']\n",
      " [33 'Monica' 28.0 'Science & Technology' 'sd']\n",
      " [34 'Joey' 25.0 'News & Politics' 'hd']\n",
      " [35 'Mark' 22.0 'People & Blogs' 'hd']\n",
      " [36 'Leila' 1.0 'Film & Animation' 'hd']\n",
      " [37 'Naomy' 22.0 'People & Blogs' 'hd']\n",
      " [38 'Jeff' 25.0 'News & Politics' 'hd']\n",
      " [39 'Sloane' 29.0 'Nonprofits & Activism' 'hd']\n",
      " [40 'Sloane' 22.0 'People & Blogs' 'hd']\n",
      " [41 'Jeff' 27.0 'Education' 'hd']\n",
      " [42 'Brad' 22.0 'People & Blogs' 'hd']\n",
      " [43 'Jeff' 28.0 'Science & Technology' 'sd']\n",
      " [44 'Rachel' 28.0 'Science & Technology' 'hd']\n",
      " [45 'Natoo' 17.0 'Sports' 'hd']\n",
      " [46 'Ze' 28.0 'Science & Technology' 'sd']\n",
      " [47 'Sloane' 28.0 'Science & Technology' 'hd']\n",
      " [48 'Natoo' 22.0 'People & Blogs' 'hd']\n",
      " [49 'Rachel' 28.0 'Science & Technology' 'sd']\n",
      " [50 'Jess' 25.0 'News & Politics' 'hd']\n",
      " [51 'Ze' 22.0 'People & Blogs' 'hd']\n",
      " [52 'Liza' 22.0 'People & Blogs' 'hd']\n",
      " [53 'Ibra' 22.0 'People & Blogs' 'hd']\n",
      " [54 'Ibra' 22.0 'People & Blogs' 'sd']\n",
      " [55 'Naomy' 28.0 'Science & Technology' 'hd']\n",
      " [56 'Jeff' 20.0 'Gaming' 'hd']\n",
      " [57 'Mark' 29.0 'Nonprofits & Activism' 'hd']\n",
      " [58 'Leila' 23.0 'Comedy' 'sd']\n",
      " [59 'Natoo' 28.0 'Science & Technology' 'sd']\n",
      " [60 'Bob' 22.0 'People & Blogs' 'hd']\n",
      " [61 'Liza' 27.0 'Education' 'hd']\n",
      " [62 'Natoo' 27.0 'Education' 'hd']\n",
      " [63 'Natoo' 29.0 'Nonprofits & Activism' 'sd']\n",
      " [64 'Natoo' 25.0 'News & Politics' 'sd']\n",
      " [65 'Kat' 22.0 'People & Blogs' 'sd']\n",
      " [66 'Kat' 28.0 'Science & Technology' 'sd']\n",
      " [67 'Kat' 28.0 'Science & Technology' 'hd']\n",
      " [68 'Brad' 22.0 'People & Blogs' 'hd']\n",
      " [69 'Brad' 29.0 'Nonprofits & Activism' 'hd']\n",
      " [70 'Jess' 28.0 'Science & Technology' 'sd']\n",
      " [71 'Joey' 22.0 'People & Blogs' 'hd']\n",
      " [72 'Ibra' 22.0 'People & Blogs' 'hd']\n",
      " [73 'Bob' 28.0 'Science & Technology' 'hd']\n",
      " [74 'Ibra' 22.0 'People & Blogs' 'hd']\n",
      " [75 'Chandler' 28.0 'Science & Technology' 'sd']\n",
      " [76 'Alex' 22.0 'People & Blogs' 'hd']\n",
      " [77 'Alex' 22.0 'People & Blogs' 'sd']\n",
      " [78 'Jack' 28.0 'Science & Technology' 'hd']\n",
      " [79 'Jack' 22.0 'People & Blogs' 'sd']\n",
      " [80 'Jack' 28.0 'Science & Technology' 'hd']\n",
      " [81 'Naomy' 29.0 'Nonprofits & Activism' 'hd']\n",
      " [82 'Ibra' 22.0 'People & Blogs' 'hd']\n",
      " [83 'Penny' 22.0 'People & Blogs' 'hd']\n",
      " [84 'Squeezy' 29.0 'Nonprofits & Activism' 'hd']\n",
      " [85 'Joey' 24.0 'Entertainment' 'hd']\n",
      " [86 'Sheldon' 28.0 'Science & Technology' 'hd']\n",
      " [87 'Sheldon' 22.0 'People & Blogs' 'sd']\n",
      " [88 'Billy' 28.0 'Science & Technology' 'hd']\n",
      " [89 'Leonard' 22.0 'People & Blogs' 'hd']\n",
      " [90 'Amy' 22.0 'People & Blogs' 'sd']\n",
      " [91 'Squeezy' 28.0 'Science & Technology' 'sd']\n",
      " [92 'Howard' 22.0 'People & Blogs' 'sd']\n",
      " [93 'Radjesh' 28.0 'Science & Technology' 'hd']\n",
      " [94 'Seb' 28.0 'Science & Technology' 'hd']\n",
      " [95 'Seb' 28.0 'Science & Technology' 'hd']\n",
      " [96 'Radjesh' 22.0 'People & Blogs' 'sd']\n",
      " [97 'Squeezy' 28.0 'Science & Technology' 'hd']\n",
      " [98 'Squeezy' 22.0 'People & Blogs' 'hd']\n",
      " [99 'Sloane' 22.0 'People & Blogs' 'hd']\n",
      " [100 'Mark' 28.0 'Science & Technology' 'hd']\n",
      " [101 'Brad' 22.0 'People & Blogs' 'hd']\n",
      " [102 'Bob' 27.0 'Education' 'sd']\n",
      " [103 'Jess' 29.0 'Nonprofits & Activism' 'hd']\n",
      " [104 'Loan' 22.0 'People & Blogs' 'sd']\n",
      " [105 'Clark' 22.0 'People & Blogs' 'hd']\n",
      " [106 'Loan' 22.0 'People & Blogs' 'hd']\n",
      " [107 'Jeff' 24.0 'Entertainment' 'hd']\n",
      " [108 'Billy' 26.0 'Howto & Style' 'sd']\n",
      " [109 'Clark' 28.0 'Science & Technology' 'hd']\n",
      " [110 'Billy' 24.0 'Entertainment' 'sd']\n",
      " [111 'Squeezy' 27.0 'Education' 'hd']]\n"
     ]
    }
   ],
   "source": [
    "ids = np.zeros((data.shape[0],1),dtype=np.uint16)\n",
    "for i in range(len(ids)):\n",
    "    ids[i] = i\n",
    "\n",
    "idata = np.column_stack((ids,data))\n",
    "print(idata)"
   ]
  },
  {
   "cell_type": "markdown",
   "metadata": {},
   "source": [
    "QUESTION 3"
   ]
  },
  {
   "cell_type": "code",
   "execution_count": 32,
   "metadata": {},
   "outputs": [
    {
     "ename": "TypeError",
     "evalue": "unsupported operand type(s) for -: 'str' and 'str'",
     "output_type": "error",
     "traceback": [
      "\u001b[1;31m---------------------------------------------------------------------------\u001b[0m",
      "\u001b[1;31mTypeError\u001b[0m                                 Traceback (most recent call last)",
      "\u001b[1;32mc:\\Users\\mekki\\Desktop\\TP2\\DM\\TP4\\TP4.ipynb Cell 6\u001b[0m line \u001b[0;36m7\n\u001b[0;32m      <a href='vscode-notebook-cell:/c%3A/Users/mekki/Desktop/TP2/DM/TP4/TP4.ipynb#W6sZmlsZQ%3D%3D?line=3'>4</a>\u001b[0m data \u001b[39m=\u001b[39m pd\u001b[39m.\u001b[39mread_csv(\u001b[39m'\u001b[39m\u001b[39mDataset-Exos2.csv\u001b[39m\u001b[39m'\u001b[39m)\n\u001b[0;32m      <a href='vscode-notebook-cell:/c%3A/Users/mekki/Desktop/TP2/DM/TP4/TP4.ipynb#W6sZmlsZQ%3D%3D?line=5'>6</a>\u001b[0m \u001b[39m# Calculer les quartiles Q1 et Q3\u001b[39;00m\n\u001b[1;32m----> <a href='vscode-notebook-cell:/c%3A/Users/mekki/Desktop/TP2/DM/TP4/TP4.ipynb#W6sZmlsZQ%3D%3D?line=6'>7</a>\u001b[0m Q1 \u001b[39m=\u001b[39m data\u001b[39m.\u001b[39;49mquantile(\u001b[39m0.1\u001b[39;49m)\n\u001b[0;32m      <a href='vscode-notebook-cell:/c%3A/Users/mekki/Desktop/TP2/DM/TP4/TP4.ipynb#W6sZmlsZQ%3D%3D?line=7'>8</a>\u001b[0m Q3 \u001b[39m=\u001b[39m data\u001b[39m.\u001b[39mquantile(\u001b[39m0.9\u001b[39m)\n\u001b[0;32m     <a href='vscode-notebook-cell:/c%3A/Users/mekki/Desktop/TP2/DM/TP4/TP4.ipynb#W6sZmlsZQ%3D%3D?line=9'>10</a>\u001b[0m \u001b[39m# Calculer l'IQR (Interquartile Range)\u001b[39;00m\n",
      "File \u001b[1;32mc:\\Users\\mekki\\AppData\\Local\\Programs\\Python\\Python312\\Lib\\site-packages\\pandas\\core\\frame.py:11789\u001b[0m, in \u001b[0;36mDataFrame.quantile\u001b[1;34m(self, q, axis, numeric_only, interpolation, method)\u001b[0m\n\u001b[0;32m  11782\u001b[0m axis \u001b[39m=\u001b[39m \u001b[39mself\u001b[39m\u001b[39m.\u001b[39m_get_axis_number(axis)\n\u001b[0;32m  11784\u001b[0m \u001b[39mif\u001b[39;00m \u001b[39mnot\u001b[39;00m is_list_like(q):\n\u001b[0;32m  11785\u001b[0m     \u001b[39m# BlockManager.quantile expects listlike, so we wrap and unwrap here\u001b[39;00m\n\u001b[0;32m  11786\u001b[0m     \u001b[39m# error: List item 0 has incompatible type \"Union[float, Union[Union[\u001b[39;00m\n\u001b[0;32m  11787\u001b[0m     \u001b[39m# ExtensionArray, ndarray[Any, Any]], Index, Series], Sequence[float]]\";\u001b[39;00m\n\u001b[0;32m  11788\u001b[0m     \u001b[39m# expected \"float\"\u001b[39;00m\n\u001b[1;32m> 11789\u001b[0m     res_df \u001b[39m=\u001b[39m \u001b[39mself\u001b[39;49m\u001b[39m.\u001b[39;49mquantile(  \u001b[39m# type: ignore[call-overload]\u001b[39;49;00m\n\u001b[0;32m  11790\u001b[0m         [q],\n\u001b[0;32m  11791\u001b[0m         axis\u001b[39m=\u001b[39;49maxis,\n\u001b[0;32m  11792\u001b[0m         numeric_only\u001b[39m=\u001b[39;49mnumeric_only,\n\u001b[0;32m  11793\u001b[0m         interpolation\u001b[39m=\u001b[39;49minterpolation,\n\u001b[0;32m  11794\u001b[0m         method\u001b[39m=\u001b[39;49mmethod,\n\u001b[0;32m  11795\u001b[0m     )\n\u001b[0;32m  11796\u001b[0m     \u001b[39mif\u001b[39;00m method \u001b[39m==\u001b[39m \u001b[39m\"\u001b[39m\u001b[39msingle\u001b[39m\u001b[39m\"\u001b[39m:\n\u001b[0;32m  11797\u001b[0m         res \u001b[39m=\u001b[39m res_df\u001b[39m.\u001b[39miloc[\u001b[39m0\u001b[39m]\n",
      "File \u001b[1;32mc:\\Users\\mekki\\AppData\\Local\\Programs\\Python\\Python312\\Lib\\site-packages\\pandas\\core\\frame.py:11834\u001b[0m, in \u001b[0;36mDataFrame.quantile\u001b[1;34m(self, q, axis, numeric_only, interpolation, method)\u001b[0m\n\u001b[0;32m  11830\u001b[0m     \u001b[39mraise\u001b[39;00m \u001b[39mValueError\u001b[39;00m(\n\u001b[0;32m  11831\u001b[0m         \u001b[39mf\u001b[39m\u001b[39m\"\u001b[39m\u001b[39mInvalid method: \u001b[39m\u001b[39m{\u001b[39;00mmethod\u001b[39m}\u001b[39;00m\u001b[39m. Method must be in \u001b[39m\u001b[39m{\u001b[39;00mvalid_method\u001b[39m}\u001b[39;00m\u001b[39m.\u001b[39m\u001b[39m\"\u001b[39m\n\u001b[0;32m  11832\u001b[0m     )\n\u001b[0;32m  11833\u001b[0m \u001b[39mif\u001b[39;00m method \u001b[39m==\u001b[39m \u001b[39m\"\u001b[39m\u001b[39msingle\u001b[39m\u001b[39m\"\u001b[39m:\n\u001b[1;32m> 11834\u001b[0m     res \u001b[39m=\u001b[39m data\u001b[39m.\u001b[39;49m_mgr\u001b[39m.\u001b[39;49mquantile(qs\u001b[39m=\u001b[39;49mq, interpolation\u001b[39m=\u001b[39;49minterpolation)\n\u001b[0;32m  11835\u001b[0m \u001b[39melif\u001b[39;00m method \u001b[39m==\u001b[39m \u001b[39m\"\u001b[39m\u001b[39mtable\u001b[39m\u001b[39m\"\u001b[39m:\n\u001b[0;32m  11836\u001b[0m     valid_interpolation \u001b[39m=\u001b[39m {\u001b[39m\"\u001b[39m\u001b[39mnearest\u001b[39m\u001b[39m\"\u001b[39m, \u001b[39m\"\u001b[39m\u001b[39mlower\u001b[39m\u001b[39m\"\u001b[39m, \u001b[39m\"\u001b[39m\u001b[39mhigher\u001b[39m\u001b[39m\"\u001b[39m}\n",
      "File \u001b[1;32mc:\\Users\\mekki\\AppData\\Local\\Programs\\Python\\Python312\\Lib\\site-packages\\pandas\\core\\internals\\managers.py:1508\u001b[0m, in \u001b[0;36mBlockManager.quantile\u001b[1;34m(self, qs, interpolation)\u001b[0m\n\u001b[0;32m   1504\u001b[0m new_axes \u001b[39m=\u001b[39m \u001b[39mlist\u001b[39m(\u001b[39mself\u001b[39m\u001b[39m.\u001b[39maxes)\n\u001b[0;32m   1505\u001b[0m new_axes[\u001b[39m1\u001b[39m] \u001b[39m=\u001b[39m Index(qs, dtype\u001b[39m=\u001b[39mnp\u001b[39m.\u001b[39mfloat64)\n\u001b[0;32m   1507\u001b[0m blocks \u001b[39m=\u001b[39m [\n\u001b[1;32m-> 1508\u001b[0m     blk\u001b[39m.\u001b[39;49mquantile(qs\u001b[39m=\u001b[39;49mqs, interpolation\u001b[39m=\u001b[39;49minterpolation) \u001b[39mfor\u001b[39;00m blk \u001b[39min\u001b[39;00m \u001b[39mself\u001b[39m\u001b[39m.\u001b[39mblocks\n\u001b[0;32m   1509\u001b[0m ]\n\u001b[0;32m   1511\u001b[0m \u001b[39mreturn\u001b[39;00m \u001b[39mtype\u001b[39m(\u001b[39mself\u001b[39m)(blocks, new_axes)\n",
      "File \u001b[1;32mc:\\Users\\mekki\\AppData\\Local\\Programs\\Python\\Python312\\Lib\\site-packages\\pandas\\core\\internals\\blocks.py:1587\u001b[0m, in \u001b[0;36mBlock.quantile\u001b[1;34m(self, qs, interpolation)\u001b[0m\n\u001b[0;32m   1584\u001b[0m \u001b[39massert\u001b[39;00m \u001b[39mself\u001b[39m\u001b[39m.\u001b[39mndim \u001b[39m==\u001b[39m \u001b[39m2\u001b[39m\n\u001b[0;32m   1585\u001b[0m \u001b[39massert\u001b[39;00m is_list_like(qs)  \u001b[39m# caller is responsible for this\u001b[39;00m\n\u001b[1;32m-> 1587\u001b[0m result \u001b[39m=\u001b[39m quantile_compat(\u001b[39mself\u001b[39;49m\u001b[39m.\u001b[39;49mvalues, np\u001b[39m.\u001b[39;49masarray(qs\u001b[39m.\u001b[39;49m_values), interpolation)\n\u001b[0;32m   1588\u001b[0m \u001b[39m# ensure_block_shape needed for cases where we start with EA and result\u001b[39;00m\n\u001b[0;32m   1589\u001b[0m \u001b[39m#  is ndarray, e.g. IntegerArray, SparseArray\u001b[39;00m\n\u001b[0;32m   1590\u001b[0m result \u001b[39m=\u001b[39m ensure_block_shape(result, ndim\u001b[39m=\u001b[39m\u001b[39m2\u001b[39m)\n",
      "File \u001b[1;32mc:\\Users\\mekki\\AppData\\Local\\Programs\\Python\\Python312\\Lib\\site-packages\\pandas\\core\\array_algos\\quantile.py:39\u001b[0m, in \u001b[0;36mquantile_compat\u001b[1;34m(values, qs, interpolation)\u001b[0m\n\u001b[0;32m     37\u001b[0m     fill_value \u001b[39m=\u001b[39m na_value_for_dtype(values\u001b[39m.\u001b[39mdtype, compat\u001b[39m=\u001b[39m\u001b[39mFalse\u001b[39;00m)\n\u001b[0;32m     38\u001b[0m     mask \u001b[39m=\u001b[39m isna(values)\n\u001b[1;32m---> 39\u001b[0m     \u001b[39mreturn\u001b[39;00m quantile_with_mask(values, mask, fill_value, qs, interpolation)\n\u001b[0;32m     40\u001b[0m \u001b[39melse\u001b[39;00m:\n\u001b[0;32m     41\u001b[0m     \u001b[39mreturn\u001b[39;00m values\u001b[39m.\u001b[39m_quantile(qs, interpolation)\n",
      "File \u001b[1;32mc:\\Users\\mekki\\AppData\\Local\\Programs\\Python\\Python312\\Lib\\site-packages\\pandas\\core\\array_algos\\quantile.py:97\u001b[0m, in \u001b[0;36mquantile_with_mask\u001b[1;34m(values, mask, fill_value, qs, interpolation)\u001b[0m\n\u001b[0;32m     95\u001b[0m     result \u001b[39m=\u001b[39m np\u001b[39m.\u001b[39mrepeat(flat, \u001b[39mlen\u001b[39m(values))\u001b[39m.\u001b[39mreshape(\u001b[39mlen\u001b[39m(values), \u001b[39mlen\u001b[39m(qs))\n\u001b[0;32m     96\u001b[0m \u001b[39melse\u001b[39;00m:\n\u001b[1;32m---> 97\u001b[0m     result \u001b[39m=\u001b[39m _nanpercentile(\n\u001b[0;32m     98\u001b[0m         values,\n\u001b[0;32m     99\u001b[0m         qs \u001b[39m*\u001b[39;49m \u001b[39m100.0\u001b[39;49m,\n\u001b[0;32m    100\u001b[0m         na_value\u001b[39m=\u001b[39;49mfill_value,\n\u001b[0;32m    101\u001b[0m         mask\u001b[39m=\u001b[39;49mmask,\n\u001b[0;32m    102\u001b[0m         interpolation\u001b[39m=\u001b[39;49minterpolation,\n\u001b[0;32m    103\u001b[0m     )\n\u001b[0;32m    105\u001b[0m     result \u001b[39m=\u001b[39m np\u001b[39m.\u001b[39marray(result, copy\u001b[39m=\u001b[39m\u001b[39mFalse\u001b[39;00m)\n\u001b[0;32m    106\u001b[0m     result \u001b[39m=\u001b[39m result\u001b[39m.\u001b[39mT\n",
      "File \u001b[1;32mc:\\Users\\mekki\\AppData\\Local\\Programs\\Python\\Python312\\Lib\\site-packages\\pandas\\core\\array_algos\\quantile.py:199\u001b[0m, in \u001b[0;36m_nanpercentile\u001b[1;34m(values, qs, na_value, mask, interpolation)\u001b[0m\n\u001b[0;32m    195\u001b[0m \u001b[39mif\u001b[39;00m mask\u001b[39m.\u001b[39many():\n\u001b[0;32m    196\u001b[0m     \u001b[39m# Caller is responsible for ensuring mask shape match\u001b[39;00m\n\u001b[0;32m    197\u001b[0m     \u001b[39massert\u001b[39;00m mask\u001b[39m.\u001b[39mshape \u001b[39m==\u001b[39m values\u001b[39m.\u001b[39mshape\n\u001b[0;32m    198\u001b[0m     result \u001b[39m=\u001b[39m [\n\u001b[1;32m--> 199\u001b[0m         _nanpercentile_1d(val, m, qs, na_value, interpolation\u001b[39m=\u001b[39;49minterpolation)\n\u001b[0;32m    200\u001b[0m         \u001b[39mfor\u001b[39;00m (val, m) \u001b[39min\u001b[39;00m \u001b[39mzip\u001b[39m(\u001b[39mlist\u001b[39m(values), \u001b[39mlist\u001b[39m(mask))\n\u001b[0;32m    201\u001b[0m     ]\n\u001b[0;32m    202\u001b[0m     \u001b[39mif\u001b[39;00m values\u001b[39m.\u001b[39mdtype\u001b[39m.\u001b[39mkind \u001b[39m==\u001b[39m \u001b[39m\"\u001b[39m\u001b[39mf\u001b[39m\u001b[39m\"\u001b[39m:\n\u001b[0;32m    203\u001b[0m         \u001b[39m# preserve itemsize\u001b[39;00m\n\u001b[0;32m    204\u001b[0m         result \u001b[39m=\u001b[39m np\u001b[39m.\u001b[39marray(result, dtype\u001b[39m=\u001b[39mvalues\u001b[39m.\u001b[39mdtype, copy\u001b[39m=\u001b[39m\u001b[39mFalse\u001b[39;00m)\u001b[39m.\u001b[39mT\n",
      "File \u001b[1;32mc:\\Users\\mekki\\AppData\\Local\\Programs\\Python\\Python312\\Lib\\site-packages\\pandas\\core\\array_algos\\quantile.py:145\u001b[0m, in \u001b[0;36m_nanpercentile_1d\u001b[1;34m(values, mask, qs, na_value, interpolation)\u001b[0m\n\u001b[0;32m    139\u001b[0m \u001b[39mif\u001b[39;00m \u001b[39mlen\u001b[39m(values) \u001b[39m==\u001b[39m \u001b[39m0\u001b[39m:\n\u001b[0;32m    140\u001b[0m     \u001b[39m# Can't pass dtype=values.dtype here bc we might have na_value=np.nan\u001b[39;00m\n\u001b[0;32m    141\u001b[0m     \u001b[39m#  with values.dtype=int64 see test_quantile_empty\u001b[39;00m\n\u001b[0;32m    142\u001b[0m     \u001b[39m# equiv: 'np.array([na_value] * len(qs))' but much faster\u001b[39;00m\n\u001b[0;32m    143\u001b[0m     \u001b[39mreturn\u001b[39;00m np\u001b[39m.\u001b[39mfull(\u001b[39mlen\u001b[39m(qs), na_value)\n\u001b[1;32m--> 145\u001b[0m \u001b[39mreturn\u001b[39;00m np\u001b[39m.\u001b[39;49mpercentile(\n\u001b[0;32m    146\u001b[0m     values,\n\u001b[0;32m    147\u001b[0m     qs,\n\u001b[0;32m    148\u001b[0m     \u001b[39m# error: No overload variant of \"percentile\" matches argument\u001b[39;49;00m\n\u001b[0;32m    149\u001b[0m     \u001b[39m# types \"ndarray[Any, Any]\", \"ndarray[Any, dtype[floating[_64Bit]]]\"\u001b[39;49;00m\n\u001b[0;32m    150\u001b[0m     \u001b[39m# , \"Dict[str, str]\"  [call-overload]\u001b[39;49;00m\n\u001b[0;32m    151\u001b[0m     method\u001b[39m=\u001b[39;49minterpolation,  \u001b[39m# type: ignore[call-overload]\u001b[39;49;00m\n\u001b[0;32m    152\u001b[0m )\n",
      "File \u001b[1;32mc:\\Users\\mekki\\AppData\\Local\\Programs\\Python\\Python312\\Lib\\site-packages\\numpy\\lib\\function_base.py:4283\u001b[0m, in \u001b[0;36mpercentile\u001b[1;34m(a, q, axis, out, overwrite_input, method, keepdims, interpolation)\u001b[0m\n\u001b[0;32m   4281\u001b[0m \u001b[39mif\u001b[39;00m \u001b[39mnot\u001b[39;00m _quantile_is_valid(q):\n\u001b[0;32m   4282\u001b[0m     \u001b[39mraise\u001b[39;00m \u001b[39mValueError\u001b[39;00m(\u001b[39m\"\u001b[39m\u001b[39mPercentiles must be in the range [0, 100]\u001b[39m\u001b[39m\"\u001b[39m)\n\u001b[1;32m-> 4283\u001b[0m \u001b[39mreturn\u001b[39;00m _quantile_unchecked(\n\u001b[0;32m   4284\u001b[0m     a, q, axis, out, overwrite_input, method, keepdims)\n",
      "File \u001b[1;32mc:\\Users\\mekki\\AppData\\Local\\Programs\\Python\\Python312\\Lib\\site-packages\\numpy\\lib\\function_base.py:4555\u001b[0m, in \u001b[0;36m_quantile_unchecked\u001b[1;34m(a, q, axis, out, overwrite_input, method, keepdims)\u001b[0m\n\u001b[0;32m   4547\u001b[0m \u001b[39mdef\u001b[39;00m \u001b[39m_quantile_unchecked\u001b[39m(a,\n\u001b[0;32m   4548\u001b[0m                         q,\n\u001b[0;32m   4549\u001b[0m                         axis\u001b[39m=\u001b[39m\u001b[39mNone\u001b[39;00m,\n\u001b[1;32m   (...)\u001b[0m\n\u001b[0;32m   4552\u001b[0m                         method\u001b[39m=\u001b[39m\u001b[39m\"\u001b[39m\u001b[39mlinear\u001b[39m\u001b[39m\"\u001b[39m,\n\u001b[0;32m   4553\u001b[0m                         keepdims\u001b[39m=\u001b[39m\u001b[39mFalse\u001b[39;00m):\n\u001b[0;32m   4554\u001b[0m \u001b[39m    \u001b[39m\u001b[39m\"\"\"Assumes that q is in [0, 1], and is an ndarray\"\"\"\u001b[39;00m\n\u001b[1;32m-> 4555\u001b[0m     \u001b[39mreturn\u001b[39;00m _ureduce(a,\n\u001b[0;32m   4556\u001b[0m                     func\u001b[39m=\u001b[39;49m_quantile_ureduce_func,\n\u001b[0;32m   4557\u001b[0m                     q\u001b[39m=\u001b[39;49mq,\n\u001b[0;32m   4558\u001b[0m                     keepdims\u001b[39m=\u001b[39;49mkeepdims,\n\u001b[0;32m   4559\u001b[0m                     axis\u001b[39m=\u001b[39;49maxis,\n\u001b[0;32m   4560\u001b[0m                     out\u001b[39m=\u001b[39;49mout,\n\u001b[0;32m   4561\u001b[0m                     overwrite_input\u001b[39m=\u001b[39;49moverwrite_input,\n\u001b[0;32m   4562\u001b[0m                     method\u001b[39m=\u001b[39;49mmethod)\n",
      "File \u001b[1;32mc:\\Users\\mekki\\AppData\\Local\\Programs\\Python\\Python312\\Lib\\site-packages\\numpy\\lib\\function_base.py:3823\u001b[0m, in \u001b[0;36m_ureduce\u001b[1;34m(a, func, keepdims, **kwargs)\u001b[0m\n\u001b[0;32m   3820\u001b[0m             index_out \u001b[39m=\u001b[39m (\u001b[39m0\u001b[39m, ) \u001b[39m*\u001b[39m nd\n\u001b[0;32m   3821\u001b[0m             kwargs[\u001b[39m'\u001b[39m\u001b[39mout\u001b[39m\u001b[39m'\u001b[39m] \u001b[39m=\u001b[39m out[(\u001b[39mEllipsis\u001b[39m, ) \u001b[39m+\u001b[39m index_out]\n\u001b[1;32m-> 3823\u001b[0m r \u001b[39m=\u001b[39m func(a, \u001b[39m*\u001b[39;49m\u001b[39m*\u001b[39;49mkwargs)\n\u001b[0;32m   3825\u001b[0m \u001b[39mif\u001b[39;00m out \u001b[39mis\u001b[39;00m \u001b[39mnot\u001b[39;00m \u001b[39mNone\u001b[39;00m:\n\u001b[0;32m   3826\u001b[0m     \u001b[39mreturn\u001b[39;00m out\n",
      "File \u001b[1;32mc:\\Users\\mekki\\AppData\\Local\\Programs\\Python\\Python312\\Lib\\site-packages\\numpy\\lib\\function_base.py:4721\u001b[0m, in \u001b[0;36m_quantile_ureduce_func\u001b[1;34m(a, q, axis, out, overwrite_input, method)\u001b[0m\n\u001b[0;32m   4719\u001b[0m     \u001b[39melse\u001b[39;00m:\n\u001b[0;32m   4720\u001b[0m         arr \u001b[39m=\u001b[39m a\u001b[39m.\u001b[39mcopy()\n\u001b[1;32m-> 4721\u001b[0m result \u001b[39m=\u001b[39m _quantile(arr,\n\u001b[0;32m   4722\u001b[0m                    quantiles\u001b[39m=\u001b[39;49mq,\n\u001b[0;32m   4723\u001b[0m                    axis\u001b[39m=\u001b[39;49maxis,\n\u001b[0;32m   4724\u001b[0m                    method\u001b[39m=\u001b[39;49mmethod,\n\u001b[0;32m   4725\u001b[0m                    out\u001b[39m=\u001b[39;49mout)\n\u001b[0;32m   4726\u001b[0m \u001b[39mreturn\u001b[39;00m result\n",
      "File \u001b[1;32mc:\\Users\\mekki\\AppData\\Local\\Programs\\Python\\Python312\\Lib\\site-packages\\numpy\\lib\\function_base.py:4840\u001b[0m, in \u001b[0;36m_quantile\u001b[1;34m(arr, quantiles, axis, method, out)\u001b[0m\n\u001b[0;32m   4838\u001b[0m     result_shape \u001b[39m=\u001b[39m virtual_indexes\u001b[39m.\u001b[39mshape \u001b[39m+\u001b[39m (\u001b[39m1\u001b[39m,) \u001b[39m*\u001b[39m (arr\u001b[39m.\u001b[39mndim \u001b[39m-\u001b[39m \u001b[39m1\u001b[39m)\n\u001b[0;32m   4839\u001b[0m     gamma \u001b[39m=\u001b[39m gamma\u001b[39m.\u001b[39mreshape(result_shape)\n\u001b[1;32m-> 4840\u001b[0m     result \u001b[39m=\u001b[39m _lerp(previous,\n\u001b[0;32m   4841\u001b[0m                    \u001b[39mnext\u001b[39;49m,\n\u001b[0;32m   4842\u001b[0m                    gamma,\n\u001b[0;32m   4843\u001b[0m                    out\u001b[39m=\u001b[39;49mout)\n\u001b[0;32m   4844\u001b[0m \u001b[39mif\u001b[39;00m np\u001b[39m.\u001b[39many(slices_having_nans):\n\u001b[0;32m   4845\u001b[0m     \u001b[39mif\u001b[39;00m result\u001b[39m.\u001b[39mndim \u001b[39m==\u001b[39m \u001b[39m0\u001b[39m \u001b[39mand\u001b[39;00m out \u001b[39mis\u001b[39;00m \u001b[39mNone\u001b[39;00m:\n\u001b[0;32m   4846\u001b[0m         \u001b[39m# can't write to a scalar, but indexing will be correct\u001b[39;00m\n",
      "File \u001b[1;32mc:\\Users\\mekki\\AppData\\Local\\Programs\\Python\\Python312\\Lib\\site-packages\\numpy\\lib\\function_base.py:4655\u001b[0m, in \u001b[0;36m_lerp\u001b[1;34m(a, b, t, out)\u001b[0m\n\u001b[0;32m   4641\u001b[0m \u001b[39mdef\u001b[39;00m \u001b[39m_lerp\u001b[39m(a, b, t, out\u001b[39m=\u001b[39m\u001b[39mNone\u001b[39;00m):\n\u001b[0;32m   4642\u001b[0m \u001b[39m    \u001b[39m\u001b[39m\"\"\"\u001b[39;00m\n\u001b[0;32m   4643\u001b[0m \u001b[39m    Compute the linear interpolation weighted by gamma on each point of\u001b[39;00m\n\u001b[0;32m   4644\u001b[0m \u001b[39m    two same shape array.\u001b[39;00m\n\u001b[1;32m   (...)\u001b[0m\n\u001b[0;32m   4653\u001b[0m \u001b[39m        Output array.\u001b[39;00m\n\u001b[0;32m   4654\u001b[0m \u001b[39m    \"\"\"\u001b[39;00m\n\u001b[1;32m-> 4655\u001b[0m     diff_b_a \u001b[39m=\u001b[39m subtract(b, a)\n\u001b[0;32m   4656\u001b[0m     \u001b[39m# asanyarray is a stop-gap until gh-13105\u001b[39;00m\n\u001b[0;32m   4657\u001b[0m     lerp_interpolation \u001b[39m=\u001b[39m asanyarray(add(a, diff_b_a \u001b[39m*\u001b[39m t, out\u001b[39m=\u001b[39mout))\n",
      "\u001b[1;31mTypeError\u001b[0m: unsupported operand type(s) for -: 'str' and 'str'"
     ]
    }
   ],
   "source": [
    "import pandas as pd\n",
    "\n",
    "# Charger le fichier CSV dans un DataFrame\n",
    "data = pd.read_csv('Dataset-Exos2.csv')\n",
    "\n",
    "# Calculer les quartiles Q1 et Q3\n",
    "Q1 = data.quantile(0.1)\n",
    "Q3 = data.quantile(0.9)\n",
    "\n",
    "# Calculer l'IQR (Interquartile Range)\n",
    "IQR = Q3 - Q1\n",
    "\n",
    "# Définir les bornes inférieure et supérieure pour les valeurs aberrantes\n",
    "seuil_inferieur = Q1 - 1.5 * IQR\n",
    "seuil_superieur = Q3 + 1.5 * IQR\n",
    "\n",
    "# Filtrer les valeurs aberrantes\n",
    "data_sans_aberrantes = data[(data >= seuil_inferieur) & (data <= seuil_superieur)].dropna()\n",
    "\n",
    "# Sauvegarder le DataFrame résultant dans un nouveau fichier CSV\n",
    "data_sans_aberrantes.to_csv('fichier_sans_aberrantes.csv', index=False)\n"
   ]
  }
 ],
 "metadata": {
  "kernelspec": {
   "display_name": "Python 3",
   "language": "python",
   "name": "python3"
  },
  "language_info": {
   "codemirror_mode": {
    "name": "ipython",
    "version": 3
   },
   "file_extension": ".py",
   "mimetype": "text/x-python",
   "name": "python",
   "nbconvert_exporter": "python",
   "pygments_lexer": "ipython3",
   "version": "3.12.0"
  }
 },
 "nbformat": 4,
 "nbformat_minor": 2
}
