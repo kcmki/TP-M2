{
 "cells": [
  {
   "cell_type": "code",
   "execution_count": 1,
   "metadata": {},
   "outputs": [],
   "source": [
    "import pandas as pd\n",
    "import numpy as np\n",
    "from matplotlib import pyplot as plt\n",
    "from math import sqrt\n",
    "from lib.dataset import Dataset\n",
    "from lib.knn import Knn\n",
    "from lib.decisionTree import decisionTree"
   ]
  },
  {
   "cell_type": "markdown",
   "metadata": {},
   "source": [
    "# Part 2"
   ]
  },
  {
   "cell_type": "markdown",
   "metadata": {},
   "source": [
    "# Analyse supervisé"
   ]
  },
  {
   "cell_type": "markdown",
   "metadata": {},
   "source": [
    "preparation des données"
   ]
  },
  {
   "cell_type": "code",
   "execution_count": 2,
   "metadata": {},
   "outputs": [],
   "source": [
    "Data = pd.read_csv(\"Data/Dataset1.csv\")\n",
    "ds = Dataset(Data)\n",
    "ds.preprocessData(null=\"drop\",outliers=None,normalisation=None)\n",
    "Data = ds.data\n",
    "train=Data.sample(frac=0.8,random_state=42)\n",
    "test=Data.drop(train.index)"
   ]
  },
  {
   "cell_type": "code",
   "execution_count": 3,
   "metadata": {},
   "outputs": [
    {
     "data": {
      "text/plain": [
       "(11, 14)"
      ]
     },
     "execution_count": 3,
     "metadata": {},
     "output_type": "execute_result"
    }
   ],
   "source": [
    "fert2 = test[test[\"Fertility\"] == 2]\n",
    "fert2.shape"
   ]
  },
  {
   "cell_type": "markdown",
   "metadata": {},
   "source": [
    "Définition et Initialisation de la classe "
   ]
  },
  {
   "cell_type": "code",
   "execution_count": 4,
   "metadata": {},
   "outputs": [],
   "source": [
    "class Classification:\n",
    "    #marge is the percentage of the train data between 0 and 1\n",
    "    def __init__(self, data,marge):\n",
    "        self.train=data.sample(frac=marge,random_state=42)\n",
    "        self.test=data.drop(self.train.index)\n",
    "\n",
    "    def testKnn(self,data=None,distance=\"euclidienne\",k=2):\n",
    "        \n",
    "        results = []\n",
    "        \n",
    "        self.knn = Knn(np.array(self.train)) \n",
    "        if data is None:\n",
    "            data = self.test\n",
    "\n",
    "        for i in range(len(data)):\n",
    "            elem = list(data.iloc[i])[:-1]\n",
    "            classe = self.knn.getClass(elem,algo=distance,k=k)\n",
    "            results.append(classe)\n",
    "\n",
    "        return results\n",
    "    \n",
    "    def testDecisionTree(self,data=None,maxDepth=10,minSamplesSplit=2):\n",
    "        if data is None:\n",
    "            data = self.test\n",
    "        \n",
    "        self.tree = decisionTree(maxDepth=maxDepth,minSamplesSplit=minSamplesSplit)\n",
    "        trainX,trainY = np.array(self.train)[:,:-1],np.array(self.train)[:,-1].reshape(-1,1)\n",
    "        self.tree.fit(trainX,trainY)\n",
    "\n",
    "        testX,testY = np.array(data)[:,:-1],np.array(data)[:,-1].reshape(-1,1)\n",
    "        pred = self.tree.predict(testX)\n",
    "        pred = np.array(pred).reshape(-1,1)\n",
    "\n",
    "        return pred\n",
    "    \n",
    "    def testRandomForest(self,data=None):\n",
    "        pass\n",
    "\n",
    "\n",
    "\n",
    "    def confMatrix(self,results):\n",
    "        self.matrix = np.zeros((len(self.test[\"Fertility\"].unique()),len(self.test[\"Fertility\"].unique())))\n",
    "        for i in range(len(self.test)):\n",
    "            self.matrix[int(self.test.iloc[i][\"Fertility\"])][int(results[i])]+=1\n",
    "        return self.matrix\n",
    "\n",
    "\n",
    "classificateur = Classification(Data,0.8)"
   ]
  },
  {
   "cell_type": "markdown",
   "metadata": {},
   "source": [
    "Knn execution"
   ]
  },
  {
   "cell_type": "code",
   "execution_count": 5,
   "metadata": {},
   "outputs": [],
   "source": [
    "knnResult = classificateur.testKnn()"
   ]
  },
  {
   "cell_type": "markdown",
   "metadata": {},
   "source": [
    "Tree execution"
   ]
  },
  {
   "cell_type": "code",
   "execution_count": 6,
   "metadata": {},
   "outputs": [],
   "source": [
    "treeResult = classificateur.testDecisionTree()"
   ]
  },
  {
   "cell_type": "markdown",
   "metadata": {},
   "source": [
    "Matrice de confusion"
   ]
  },
  {
   "cell_type": "code",
   "execution_count": 7,
   "metadata": {},
   "outputs": [
    {
     "data": {
      "text/plain": [
       "array([[63.,  7.,  1.],\n",
       "       [10., 79.,  5.],\n",
       "       [ 0.,  7.,  4.]])"
      ]
     },
     "execution_count": 7,
     "metadata": {},
     "output_type": "execute_result"
    }
   ],
   "source": [
    "classificateur.confMatrix(knnResult)"
   ]
  },
  {
   "cell_type": "code",
   "execution_count": 8,
   "metadata": {},
   "outputs": [
    {
     "name": "stderr",
     "output_type": "stream",
     "text": [
      "C:\\Users\\Mekki\\AppData\\Local\\Temp\\ipykernel_14128\\4248685146.py:44: DeprecationWarning: Conversion of an array with ndim > 0 to a scalar is deprecated, and will error in future. Ensure you extract a single element from your array before performing this operation. (Deprecated NumPy 1.25.)\n",
      "  self.matrix[int(self.test.iloc[i][\"Fertility\"])][int(results[i])]+=1\n"
     ]
    },
    {
     "data": {
      "text/plain": [
       "array([[67.,  4.,  0.],\n",
       "       [ 9., 81.,  4.],\n",
       "       [ 0.,  5.,  6.]])"
      ]
     },
     "execution_count": 8,
     "metadata": {},
     "output_type": "execute_result"
    }
   ],
   "source": [
    "classificateur.confMatrix(treeResult)"
   ]
  }
 ],
 "metadata": {
  "kernelspec": {
   "display_name": "Python 3",
   "language": "python",
   "name": "python3"
  },
  "language_info": {
   "codemirror_mode": {
    "name": "ipython",
    "version": 3
   },
   "file_extension": ".py",
   "mimetype": "text/x-python",
   "name": "python",
   "nbconvert_exporter": "python",
   "pygments_lexer": "ipython3",
   "version": "3.12.0"
  }
 },
 "nbformat": 4,
 "nbformat_minor": 2
}
