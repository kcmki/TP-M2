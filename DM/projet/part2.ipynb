{
 "cells": [
  {
   "cell_type": "code",
   "execution_count": 18,
   "metadata": {},
   "outputs": [],
   "source": [
    "import pandas as pd\n",
    "import numpy as np\n",
    "from matplotlib import pyplot as plt\n",
    "from math import sqrt\n",
    "from lib.dataset import Dataset\n",
    "from lib.knn import Knn\n",
    "from lib.decisionTree import decisionTree"
   ]
  },
  {
   "cell_type": "markdown",
   "metadata": {},
   "source": [
    "# Part 2"
   ]
  },
  {
   "cell_type": "markdown",
   "metadata": {},
   "source": [
    "# Analyse supervisé"
   ]
  },
  {
   "cell_type": "markdown",
   "metadata": {},
   "source": [
    "preparation des données"
   ]
  },
  {
   "cell_type": "code",
   "execution_count": 19,
   "metadata": {},
   "outputs": [],
   "source": [
    "Data = pd.read_csv(\"Data/Dataset1.csv\")\n",
    "ds = Dataset(Data)\n",
    "ds.preprocessData(null=\"drop\",outliers=None,normalisation=None)\n",
    "Data = ds.data\n",
    "train=Data.sample(frac=0.8)\n",
    "test=Data.drop(train.index)"
   ]
  },
  {
   "cell_type": "code",
   "execution_count": 20,
   "metadata": {},
   "outputs": [
    {
     "data": {
      "text/plain": [
       "(29, 14)"
      ]
     },
     "execution_count": 20,
     "metadata": {},
     "output_type": "execute_result"
    }
   ],
   "source": [
    "fert2 = train[train[\"Fertility\"] == 2]\n",
    "fert2.shape"
   ]
  },
  {
   "cell_type": "code",
   "execution_count": 21,
   "metadata": {},
   "outputs": [
    {
     "data": {
      "text/plain": [
       "(10, 14)"
      ]
     },
     "execution_count": 21,
     "metadata": {},
     "output_type": "execute_result"
    }
   ],
   "source": [
    "fert2 = test[test[\"Fertility\"] == 2]\n",
    "fert2.shape"
   ]
  },
  {
   "cell_type": "markdown",
   "metadata": {},
   "source": [
    "Définition et Initialisation de la classe "
   ]
  },
  {
   "cell_type": "code",
   "execution_count": 22,
   "metadata": {},
   "outputs": [],
   "source": [
    "class Classification:\n",
    "    #marge is the percentage of the train data between 0 and 1\n",
    "    def __init__(self, data,marge):\n",
    "        self.train=data.sample(frac=marge,random_state=42)\n",
    "        self.test=data.drop(self.train.index)\n",
    "        self.trees = None\n",
    "        self.knn = None\n",
    "        self.randomTrees = None\n",
    "\n",
    "    def testKnn(self,data=None,distance=\"euclidienne\",k=2):\n",
    "        \n",
    "        results = []\n",
    "        \n",
    "        self.knn = Knn(np.array(self.train)) \n",
    "        if data is None:\n",
    "            data = self.test\n",
    "\n",
    "        for i in range(len(data)):\n",
    "            elem = list(data.iloc[i])[:-1]\n",
    "            classe = self.knn.getClass(elem,algo=distance,k=k)\n",
    "            results.append(classe)\n",
    "\n",
    "        return results\n",
    "    \n",
    "    def trainDecisionTree(self,maxDepth=10,minSamplesSplit=2):\n",
    "        \n",
    "        self.tree = decisionTree(maxDepth=maxDepth,minSamplesSplit=minSamplesSplit)\n",
    "        trainX,trainY = np.array(self.train)[:,:-1],np.array(self.train)[:,-1].reshape(-1,1)\n",
    "        self.tree.fit(trainX,trainY)\n",
    "        \n",
    "        return self.tree\n",
    "    def testDecisionTree(self,data=None):\n",
    "        if data is None:\n",
    "            data = self.test\n",
    "        testX,testY = np.array(data)[:,:-1],np.array(data)[:,-1].reshape(-1,1)\n",
    "        pred = self.tree.predict(testX)\n",
    "        pred = np.array(pred).reshape(-1,1)\n",
    "\n",
    "        return pred\n",
    "    \n",
    "    def trainRandomForest(self,data=None,n_tree=100,maxDepth=10,minSamplesSplit=2):\n",
    "        self.randomTrees = []\n",
    "\n",
    "        nb_cols = int(sqrt(len(self.train.columns)-1))\n",
    "\n",
    "        for i in range(n_tree):\n",
    "            random_subset = train.sample(n=len(train), replace=True)\n",
    "            cols = []\n",
    "            while len(cols) < nb_cols:\n",
    "                col = np.random.randint(0,len(train.columns)-1)\n",
    "                if col not in cols:\n",
    "                    cols.append(col)\n",
    "            cols.append(len(train.columns)-1)\n",
    "            traincols = train.iloc[:,cols]\n",
    "            traincols = traincols.loc[random_subset.index]\n",
    "            trainX,trainY = np.array(traincols)[:,:-1],np.array(traincols)[:,-1].reshape(-1,1)\n",
    "            tree = decisionTree(maxDepth=maxDepth,minSamplesSplit=minSamplesSplit)\n",
    "            tree.fit(trainX,trainY)\n",
    "            self.randomTrees.append((tree,cols))\n",
    "        \n",
    "        return self.randomTrees\n",
    "\n",
    "    def testRandomForest(self,data=None):\n",
    "        if data is None:\n",
    "            data = self.test\n",
    "\n",
    "        if self.randomTrees is None:\n",
    "            print(\"You need to train the random forest first\")\n",
    "            return None\n",
    "        \n",
    "        results = []\n",
    "        for i in range(len(data)):\n",
    "            elem = list(data.iloc[i])[:-1]\n",
    "            elementClasses = []\n",
    "            for tree,cols in self.randomTrees:\n",
    "                row = [elem[i] for i in cols[:-1]]\n",
    "                prediction = tree.predict([row])[0]\n",
    "                elementClasses.append(prediction)\n",
    "\n",
    "            classe = max(set(elementClasses), key=elementClasses.count)\n",
    "            results.append(classe)\n",
    "\n",
    "        return results\n",
    "\n",
    "\n",
    "    def confMatrix(self,results):\n",
    "        self.matrix = np.zeros((len(self.test[\"Fertility\"].unique()),len(self.test[\"Fertility\"].unique())))\n",
    "        for i in range(len(self.test)):\n",
    "            self.matrix[int(self.test.iloc[i][\"Fertility\"])][int(results[i])]+=1\n",
    "        return self.matrix\n",
    "\n",
    "    def getMetrics(self,confMatrix):\n",
    "        metrics = {}\n",
    "        for i in range(len(confMatrix)):\n",
    "            TP = confMatrix[i][i]\n",
    "            FP = sum(confMatrix[:,i])-TP\n",
    "            FN = sum(confMatrix[i,:])-TP\n",
    "            TN = sum(sum(confMatrix))-TP-FP-FN\n",
    "            metrics[i] = {}\n",
    "            metrics[i][\"precision\"] = TP/(TP+FP)\n",
    "            metrics[i][\"recall\"] = TP/(TP+FN)\n",
    "            metrics[i][\"accuracy\"] = (TP+TN)/(TP+FP+FN+TN)\n",
    "            metrics[i][\"f1\"] = 2*(metrics[i][\"precision\"]*metrics[i][\"recall\"])/(metrics[i][\"precision\"]+metrics[i][\"recall\"])\n",
    "        return metrics\n",
    "\n",
    "classificateur = Classification(Data,0.8)"
   ]
  },
  {
   "cell_type": "markdown",
   "metadata": {},
   "source": [
    "Knn execution"
   ]
  },
  {
   "cell_type": "code",
   "execution_count": 23,
   "metadata": {},
   "outputs": [],
   "source": [
    "knnResult = classificateur.testKnn()"
   ]
  },
  {
   "cell_type": "markdown",
   "metadata": {},
   "source": [
    "Tree execution"
   ]
  },
  {
   "cell_type": "code",
   "execution_count": 24,
   "metadata": {},
   "outputs": [],
   "source": [
    "tree = classificateur.trainDecisionTree()"
   ]
  },
  {
   "cell_type": "code",
   "execution_count": 25,
   "metadata": {},
   "outputs": [],
   "source": [
    "treeResult = classificateur.testDecisionTree()"
   ]
  },
  {
   "cell_type": "markdown",
   "metadata": {},
   "source": [
    "Random tree execution"
   ]
  },
  {
   "cell_type": "code",
   "execution_count": 26,
   "metadata": {},
   "outputs": [],
   "source": [
    "trees = classificateur.trainRandomForest(n_tree=100,maxDepth=10,minSamplesSplit=2)"
   ]
  },
  {
   "cell_type": "code",
   "execution_count": 27,
   "metadata": {},
   "outputs": [],
   "source": [
    "randomResult = classificateur.testRandomForest()"
   ]
  },
  {
   "cell_type": "markdown",
   "metadata": {},
   "source": [
    "Matrice de confusion"
   ]
  },
  {
   "cell_type": "code",
   "execution_count": 28,
   "metadata": {},
   "outputs": [],
   "source": [
    "knnConfM = classificateur.confMatrix(knnResult)"
   ]
  },
  {
   "cell_type": "code",
   "execution_count": 29,
   "metadata": {},
   "outputs": [
    {
     "name": "stderr",
     "output_type": "stream",
     "text": [
      "C:\\Users\\Mekki\\AppData\\Local\\Temp\\ipykernel_12316\\416398200.py:89: DeprecationWarning: Conversion of an array with ndim > 0 to a scalar is deprecated, and will error in future. Ensure you extract a single element from your array before performing this operation. (Deprecated NumPy 1.25.)\n",
      "  self.matrix[int(self.test.iloc[i][\"Fertility\"])][int(results[i])]+=1\n"
     ]
    }
   ],
   "source": [
    "treeConfM = classificateur.confMatrix(treeResult)"
   ]
  },
  {
   "cell_type": "code",
   "execution_count": 30,
   "metadata": {},
   "outputs": [],
   "source": [
    "randomConfM = classificateur.confMatrix(randomResult)"
   ]
  },
  {
   "cell_type": "code",
   "execution_count": 31,
   "metadata": {},
   "outputs": [],
   "source": [
    "knnScore = classificateur.getMetrics(knnConfM)\n",
    "treeScore = classificateur.getMetrics(treeConfM)\n",
    "randomScore = classificateur.getMetrics(randomConfM)"
   ]
  },
  {
   "cell_type": "code",
   "execution_count": 32,
   "metadata": {},
   "outputs": [
    {
     "data": {
      "text/plain": [
       "{0: {'precision': 0.863013698630137,\n",
       "  'recall': 0.8873239436619719,\n",
       "  'accuracy': 0.8977272727272727,\n",
       "  'f1': 0.875},\n",
       " 1: {'precision': 0.8494623655913979,\n",
       "  'recall': 0.8404255319148937,\n",
       "  'accuracy': 0.8352272727272727,\n",
       "  'f1': 0.8449197860962566},\n",
       " 2: {'precision': 0.4,\n",
       "  'recall': 0.36363636363636365,\n",
       "  'accuracy': 0.9261363636363636,\n",
       "  'f1': 0.380952380952381}}"
      ]
     },
     "execution_count": 32,
     "metadata": {},
     "output_type": "execute_result"
    }
   ],
   "source": [
    "knnScore"
   ]
  },
  {
   "cell_type": "code",
   "execution_count": 33,
   "metadata": {},
   "outputs": [
    {
     "data": {
      "text/plain": [
       "{0: {'precision': 0.881578947368421,\n",
       "  'recall': 0.9436619718309859,\n",
       "  'accuracy': 0.9261363636363636,\n",
       "  'f1': 0.9115646258503401},\n",
       " 1: {'precision': 0.9,\n",
       "  'recall': 0.8617021276595744,\n",
       "  'accuracy': 0.875,\n",
       "  'f1': 0.8804347826086957},\n",
       " 2: {'precision': 0.6,\n",
       "  'recall': 0.5454545454545454,\n",
       "  'accuracy': 0.9488636363636364,\n",
       "  'f1': 0.5714285714285713}}"
      ]
     },
     "execution_count": 33,
     "metadata": {},
     "output_type": "execute_result"
    }
   ],
   "source": [
    "treeScore"
   ]
  },
  {
   "cell_type": "code",
   "execution_count": 34,
   "metadata": {},
   "outputs": [
    {
     "data": {
      "text/plain": [
       "{0: {'precision': 0.9726027397260274,\n",
       "  'recall': 1.0,\n",
       "  'accuracy': 0.9886363636363636,\n",
       "  'f1': 0.9861111111111112},\n",
       " 1: {'precision': 0.9583333333333334,\n",
       "  'recall': 0.9787234042553191,\n",
       "  'accuracy': 0.9659090909090909,\n",
       "  'f1': 0.968421052631579},\n",
       " 2: {'precision': 1.0,\n",
       "  'recall': 0.6363636363636364,\n",
       "  'accuracy': 0.9772727272727273,\n",
       "  'f1': 0.7777777777777778}}"
      ]
     },
     "execution_count": 34,
     "metadata": {},
     "output_type": "execute_result"
    }
   ],
   "source": [
    "randomScore"
   ]
  },
  {
   "cell_type": "code",
   "execution_count": 36,
   "metadata": {},
   "outputs": [],
   "source": [
    "import pickle\n",
    "\n",
    "pickle.dump(classificateur, open(\"lib/classificateur.p\", \"wb\"))"
   ]
  }
 ],
 "metadata": {
  "kernelspec": {
   "display_name": "Python 3",
   "language": "python",
   "name": "python3"
  },
  "language_info": {
   "codemirror_mode": {
    "name": "ipython",
    "version": 3
   },
   "file_extension": ".py",
   "mimetype": "text/x-python",
   "name": "python",
   "nbconvert_exporter": "python",
   "pygments_lexer": "ipython3",
   "version": "3.12.0"
  }
 },
 "nbformat": 4,
 "nbformat_minor": 2
}
