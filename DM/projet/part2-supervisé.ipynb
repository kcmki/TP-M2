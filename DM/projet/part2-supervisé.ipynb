{
 "cells": [
  {
   "cell_type": "code",
   "execution_count": 31,
   "metadata": {},
   "outputs": [],
   "source": [
    "import pandas as pd\n",
    "import numpy as np\n",
    "from matplotlib import pyplot as plt\n",
    "from math import sqrt\n",
    "from lib.dataset import Dataset\n",
    "from lib.knn import Knn\n",
    "from lib.decisionTree import decisionTree"
   ]
  },
  {
   "cell_type": "markdown",
   "metadata": {},
   "source": [
    "# Part 2"
   ]
  },
  {
   "cell_type": "markdown",
   "metadata": {},
   "source": [
    "# Analyse supervisé"
   ]
  },
  {
   "cell_type": "markdown",
   "metadata": {},
   "source": [
    "preparation des données"
   ]
  },
  {
   "cell_type": "code",
   "execution_count": 32,
   "metadata": {},
   "outputs": [],
   "source": [
    "Data = pd.read_csv(\"Data/Dataset1.csv\")\n",
    "ds = Dataset(Data)\n",
    "ds.preprocessData(null=\"drop\",outliers=None,normalisation=None)\n",
    "Data = ds.data\n",
    "train=Data.sample(frac=0.8)\n",
    "test=Data.drop(train.index)"
   ]
  },
  {
   "cell_type": "code",
   "execution_count": 33,
   "metadata": {},
   "outputs": [
    {
     "data": {
      "text/plain": [
       "(34, 14)"
      ]
     },
     "execution_count": 33,
     "metadata": {},
     "output_type": "execute_result"
    }
   ],
   "source": [
    "fert2 = train[train[\"Fertility\"] == 2]\n",
    "fert2.shape"
   ]
  },
  {
   "cell_type": "code",
   "execution_count": 34,
   "metadata": {},
   "outputs": [
    {
     "data": {
      "text/plain": [
       "(5, 14)"
      ]
     },
     "execution_count": 34,
     "metadata": {},
     "output_type": "execute_result"
    }
   ],
   "source": [
    "fert2 = test[test[\"Fertility\"] == 2]\n",
    "fert2.shape"
   ]
  },
  {
   "cell_type": "markdown",
   "metadata": {},
   "source": [
    "Définition et Initialisation de la classe "
   ]
  },
  {
   "cell_type": "code",
   "execution_count": 35,
   "metadata": {},
   "outputs": [],
   "source": [
    "class Classification:\n",
    "    #marge is the percentage of the train data between 0 and 1\n",
    "    def __init__(self, data,marge):\n",
    "        self.train=data.sample(frac=marge,random_state=42)\n",
    "        self.test=data.drop(self.train.index)\n",
    "        self.trees = None\n",
    "        self.knn = None\n",
    "        self.randomTrees = None\n",
    "\n",
    "    def testKnn(self,data=None,distance=\"euclidienne\",k=2):\n",
    "        \n",
    "        results = []\n",
    "        \n",
    "        self.knn = Knn(np.array(self.train)) \n",
    "        if data is None:\n",
    "            data = self.test\n",
    "\n",
    "        for i in range(len(data)):\n",
    "            elem = list(data.iloc[i])[:-1]\n",
    "            classe = self.knn.getClass(elem,algo=distance,k=k)\n",
    "            results.append(classe)\n",
    "\n",
    "        return results\n",
    "    \n",
    "    def trainDecisionTree(self,maxDepth=10,minSamplesSplit=2):\n",
    "        \n",
    "        self.tree = decisionTree(maxDepth=maxDepth,minSamplesSplit=minSamplesSplit)\n",
    "        trainX,trainY = np.array(self.train)[:,:-1],np.array(self.train)[:,-1].reshape(-1,1)\n",
    "        self.tree.fit(trainX,trainY)\n",
    "        \n",
    "        return self.tree\n",
    "    def testDecisionTree(self,data=None):\n",
    "        if data is None:\n",
    "            data = self.test\n",
    "        testX,testY = np.array(data)[:,:-1],np.array(data)[:,-1].reshape(-1,1)\n",
    "        pred = self.tree.predict(testX)\n",
    "        pred = np.array(pred).reshape(-1,1)\n",
    "\n",
    "        return pred\n",
    "    \n",
    "    def trainRandomForest(self,data=None,n_tree=100,maxDepth=10,minSamplesSplit=2):\n",
    "        self.randomTrees = []\n",
    "\n",
    "        nb_cols = int(sqrt(len(self.train.columns)-1))\n",
    "\n",
    "        for i in range(n_tree):\n",
    "            random_subset = train.sample(n=len(train), replace=True)\n",
    "            cols = []\n",
    "            while len(cols) < nb_cols:\n",
    "                col = np.random.randint(0,len(train.columns)-1)\n",
    "                if col not in cols:\n",
    "                    cols.append(col)\n",
    "            cols.append(len(train.columns)-1)\n",
    "            traincols = train.iloc[:,cols]\n",
    "            traincols = traincols.loc[random_subset.index]\n",
    "            trainX,trainY = np.array(traincols)[:,:-1],np.array(traincols)[:,-1].reshape(-1,1)\n",
    "            tree = decisionTree(maxDepth=maxDepth,minSamplesSplit=minSamplesSplit)\n",
    "            tree.fit(trainX,trainY)\n",
    "            self.randomTrees.append((tree,cols))\n",
    "        \n",
    "        return self.randomTrees\n",
    "\n",
    "    def testRandomForest(self,data=None):\n",
    "        if data is None:\n",
    "            data = self.test\n",
    "\n",
    "        if self.randomTrees is None:\n",
    "            print(\"You need to train the random forest first\")\n",
    "            return None\n",
    "        \n",
    "        results = []\n",
    "        for i in range(len(data)):\n",
    "            elem = list(data.iloc[i])[:-1]\n",
    "            elementClasses = []\n",
    "            for tree,cols in self.randomTrees:\n",
    "                row = [elem[i] for i in cols[:-1]]\n",
    "                prediction = tree.predict([row])[0]\n",
    "                elementClasses.append(prediction)\n",
    "            print(elementClasses)\n",
    "            print(set(elementClasses))\n",
    "            classe = max(set(elementClasses), key=elementClasses.count)\n",
    "            results.append(classe)\n",
    "\n",
    "        return results\n",
    "\n",
    "    def confMatrix(self,results):\n",
    "        self.matrix = np.zeros((len(self.test[\"Fertility\"].unique()),len(self.test[\"Fertility\"].unique())))\n",
    "        for i in range(len(self.test)):\n",
    "            self.matrix[int(self.test.iloc[i][\"Fertility\"])][int(results[i])]+=1\n",
    "        return self.matrix\n",
    "\n",
    "    def getMetrics(self,confMatrix):\n",
    "        metrics = {}\n",
    "        for i in range(len(confMatrix)):\n",
    "            TP = confMatrix[i][i]\n",
    "            FP = sum(confMatrix[:,i])-TP\n",
    "            FN = sum(confMatrix[i,:])-TP\n",
    "            TN = sum(sum(confMatrix))-TP-FP-FN\n",
    "            metrics[i] = {}\n",
    "            metrics[i][\"precision\"] = TP/(TP+FP)\n",
    "            metrics[i][\"recall\"] = TP/(TP+FN)\n",
    "            metrics[i][\"accuracy\"] = (TP+TN)/(TP+FP+FN+TN)\n",
    "            metrics[i][\"specificity\"] = TN/(TN+FP)\n",
    "            metrics[i][\"f1\"] = 2*(metrics[i][\"precision\"]*metrics[i][\"recall\"])/(metrics[i][\"precision\"]+metrics[i][\"recall\"])\n",
    "        return metrics\n",
    "\n",
    "classificateur = Classification(Data,0.8)"
   ]
  },
  {
   "cell_type": "markdown",
   "metadata": {},
   "source": [
    "Knn execution"
   ]
  },
  {
   "cell_type": "code",
   "execution_count": 36,
   "metadata": {},
   "outputs": [],
   "source": [
    "knnResult = classificateur.testKnn()"
   ]
  },
  {
   "cell_type": "markdown",
   "metadata": {},
   "source": [
    "Tree execution"
   ]
  },
  {
   "cell_type": "code",
   "execution_count": 37,
   "metadata": {},
   "outputs": [],
   "source": [
    "tree = classificateur.trainDecisionTree(maxDepth=3)"
   ]
  },
  {
   "cell_type": "code",
   "execution_count": 38,
   "metadata": {},
   "outputs": [],
   "source": [
    "treeResult = classificateur.testDecisionTree()"
   ]
  },
  {
   "cell_type": "markdown",
   "metadata": {},
   "source": [
    "Random tree execution"
   ]
  },
  {
   "cell_type": "code",
   "execution_count": 39,
   "metadata": {},
   "outputs": [],
   "source": [
    "trees = classificateur.trainRandomForest(n_tree=10,maxDepth=10,minSamplesSplit=2)"
   ]
  },
  {
   "cell_type": "code",
   "execution_count": 40,
   "metadata": {},
   "outputs": [
    {
     "name": "stdout",
     "output_type": "stream",
     "text": [
      "[1.0, 0.0, 0.0, 1.0, 1.0, 0.0, 0.0, 1.0, 0.0, 1.0]\n",
      "{0.0, 1.0}\n",
      "[0.0, 1.0, 1.0, 1.0, 1.0, 1.0, 1.0, 1.0, 0.0, 1.0]\n",
      "{0.0, 1.0}\n",
      "[0.0, 1.0, 0.0, 1.0, 0.0, 1.0, 0.0, 1.0, 1.0, 0.0]\n",
      "{0.0, 1.0}\n",
      "[0.0, 0.0, 0.0, 1.0, 0.0, 2.0, 0.0, 1.0, 2.0, 1.0]\n",
      "{0.0, 1.0, 2.0}\n",
      "[0.0, 0.0, 0.0, 1.0, 0.0, 0.0, 0.0, 0.0, 0.0, 1.0]\n",
      "{0.0, 1.0}\n",
      "[1.0, 1.0, 0.0, 1.0, 1.0, 0.0, 0.0, 0.0, 0.0, 1.0]\n",
      "{0.0, 1.0}\n",
      "[0.0, 0.0, 1.0, 1.0, 0.0, 0.0, 0.0, 1.0, 0.0, 0.0]\n",
      "{0.0, 1.0}\n",
      "[0.0, 0.0, 0.0, 0.0, 0.0, 0.0, 0.0, 0.0, 0.0, 0.0]\n",
      "{0.0}\n",
      "[0.0, 0.0, 1.0, 0.0, 1.0, 1.0, 1.0, 1.0, 1.0, 1.0]\n",
      "{0.0, 1.0}\n",
      "[0.0, 0.0, 0.0, 0.0, 0.0, 0.0, 0.0, 0.0, 0.0, 0.0]\n",
      "{0.0}\n",
      "[0.0, 0.0, 0.0, 1.0, 0.0, 0.0, 0.0, 0.0, 0.0, 0.0]\n",
      "{0.0, 1.0}\n",
      "[1.0, 1.0, 0.0, 1.0, 0.0, 1.0, 0.0, 0.0, 0.0, 1.0]\n",
      "{0.0, 1.0}\n",
      "[2.0, 0.0, 0.0, 1.0, 0.0, 0.0, 0.0, 0.0, 0.0, 1.0]\n",
      "{0.0, 1.0, 2.0}\n",
      "[0.0, 0.0, 0.0, 0.0, 1.0, 1.0, 0.0, 1.0, 0.0, 1.0]\n",
      "{0.0, 1.0}\n",
      "[0.0, 0.0, 1.0, 0.0, 1.0, 1.0, 1.0, 1.0, 1.0, 1.0]\n",
      "{0.0, 1.0}\n",
      "[0.0, 1.0, 1.0, 1.0, 1.0, 1.0, 1.0, 1.0, 1.0, 1.0]\n",
      "{0.0, 1.0}\n",
      "[0.0, 0.0, 1.0, 0.0, 1.0, 1.0, 0.0, 0.0, 0.0, 0.0]\n",
      "{0.0, 1.0}\n",
      "[0.0, 0.0, 0.0, 1.0, 0.0, 1.0, 0.0, 1.0, 0.0, 0.0]\n",
      "{0.0, 1.0}\n",
      "[0.0, 0.0, 0.0, 1.0, 0.0, 1.0, 0.0, 1.0, 1.0, 1.0]\n",
      "{0.0, 1.0}\n",
      "[2.0, 1.0, 1.0, 1.0, 1.0, 1.0, 1.0, 1.0, 1.0, 1.0]\n",
      "{1.0, 2.0}\n",
      "[0.0, 0.0, 0.0, 1.0, 1.0, 0.0, 1.0, 1.0, 2.0, 1.0]\n",
      "{0.0, 1.0, 2.0}\n",
      "[0.0, 0.0, 0.0, 1.0, 1.0, 1.0, 0.0, 1.0, 0.0, 1.0]\n",
      "{0.0, 1.0}\n",
      "[0.0, 0.0, 0.0, 0.0, 0.0, 1.0, 0.0, 1.0, 0.0, 0.0]\n",
      "{0.0, 1.0}\n",
      "[0.0, 1.0, 1.0, 0.0, 1.0, 1.0, 2.0, 1.0, 1.0, 0.0]\n",
      "{0.0, 1.0, 2.0}\n",
      "[0.0, 0.0, 0.0, 0.0, 0.0, 0.0, 0.0, 0.0, 0.0, 1.0]\n",
      "{0.0, 1.0}\n",
      "[0.0, 0.0, 1.0, 0.0, 0.0, 1.0, 0.0, 0.0, 0.0, 0.0]\n",
      "{0.0, 1.0}\n",
      "[0.0, 0.0, 0.0, 1.0, 0.0, 1.0, 0.0, 0.0, 1.0, 0.0]\n",
      "{0.0, 1.0}\n",
      "[0.0, 1.0, 0.0, 0.0, 0.0, 0.0, 0.0, 0.0, 0.0, 0.0]\n",
      "{0.0, 1.0}\n",
      "[0.0, 1.0, 1.0, 0.0, 1.0, 1.0, 1.0, 1.0, 0.0, 1.0]\n",
      "{0.0, 1.0}\n",
      "[1.0, 0.0, 0.0, 1.0, 0.0, 1.0, 0.0, 1.0, 0.0, 0.0]\n",
      "{0.0, 1.0}\n",
      "[1.0, 0.0, 0.0, 1.0, 1.0, 1.0, 1.0, 1.0, 1.0, 1.0]\n",
      "{0.0, 1.0}\n",
      "[2.0, 0.0, 0.0, 1.0, 0.0, 1.0, 0.0, 0.0, 0.0, 1.0]\n",
      "{0.0, 1.0, 2.0}\n",
      "[1.0, 0.0, 0.0, 0.0, 0.0, 0.0, 0.0, 1.0, 0.0, 0.0]\n",
      "{0.0, 1.0}\n",
      "[0.0, 0.0, 0.0, 0.0, 0.0, 1.0, 0.0, 0.0, 0.0, 0.0]\n",
      "{0.0, 1.0}\n",
      "[0.0, 1.0, 0.0, 0.0, 0.0, 0.0, 0.0, 0.0, 0.0, 0.0]\n",
      "{0.0, 1.0}\n",
      "[1.0, 0.0, 1.0, 0.0, 0.0, 1.0, 1.0, 0.0, 1.0, 0.0]\n",
      "{0.0, 1.0}\n",
      "[0.0, 1.0, 0.0, 1.0, 0.0, 0.0, 0.0, 1.0, 1.0, 0.0]\n",
      "{0.0, 1.0}\n",
      "[0.0, 0.0, 0.0, 0.0, 0.0, 0.0, 0.0, 0.0, 0.0, 0.0]\n",
      "{0.0}\n",
      "[0.0, 0.0, 0.0, 0.0, 0.0, 0.0, 0.0, 1.0, 0.0, 0.0]\n",
      "{0.0, 1.0}\n",
      "[1.0, 0.0, 0.0, 0.0, 0.0, 0.0, 0.0, 0.0, 0.0, 0.0]\n",
      "{0.0, 1.0}\n",
      "[0.0, 0.0, 0.0, 0.0, 0.0, 0.0, 0.0, 0.0, 1.0, 0.0]\n",
      "{0.0, 1.0}\n",
      "[0.0, 0.0, 0.0, 1.0, 0.0, 0.0, 0.0, 1.0, 0.0, 1.0]\n",
      "{0.0, 1.0}\n",
      "[0.0, 0.0, 1.0, 1.0, 1.0, 0.0, 1.0, 0.0, 0.0, 0.0]\n",
      "{0.0, 1.0}\n",
      "[1.0, 1.0, 1.0, 1.0, 1.0, 1.0, 1.0, 0.0, 1.0, 1.0]\n",
      "{0.0, 1.0}\n",
      "[1.0, 1.0, 0.0, 1.0, 0.0, 0.0, 0.0, 0.0, 0.0, 0.0]\n",
      "{0.0, 1.0}\n",
      "[0.0, 0.0, 1.0, 1.0, 1.0, 1.0, 1.0, 0.0, 1.0, 1.0]\n",
      "{0.0, 1.0}\n",
      "[1.0, 1.0, 1.0, 1.0, 1.0, 1.0, 1.0, 1.0, 0.0, 1.0]\n",
      "{0.0, 1.0}\n",
      "[1.0, 1.0, 0.0, 1.0, 0.0, 1.0, 1.0, 0.0, 0.0, 1.0]\n",
      "{0.0, 1.0}\n",
      "[1.0, 0.0, 0.0, 1.0, 0.0, 0.0, 0.0, 0.0, 1.0, 0.0]\n",
      "{0.0, 1.0}\n",
      "[0.0, 0.0, 0.0, 1.0, 0.0, 1.0, 0.0, 0.0, 0.0, 1.0]\n",
      "{0.0, 1.0}\n",
      "[0.0, 0.0, 0.0, 0.0, 1.0, 0.0, 0.0, 0.0, 1.0, 0.0]\n",
      "{0.0, 1.0}\n",
      "[0.0, 0.0, 0.0, 0.0, 0.0, 1.0, 0.0, 0.0, 0.0, 1.0]\n",
      "{0.0, 1.0}\n",
      "[0.0, 0.0, 0.0, 0.0, 0.0, 1.0, 0.0, 0.0, 0.0, 0.0]\n",
      "{0.0, 1.0}\n",
      "[0.0, 0.0, 1.0, 0.0, 0.0, 0.0, 0.0, 0.0, 0.0, 0.0]\n",
      "{0.0, 1.0}\n",
      "[0.0, 0.0, 0.0, 0.0, 1.0, 1.0, 0.0, 0.0, 0.0, 1.0]\n",
      "{0.0, 1.0}\n",
      "[0.0, 1.0, 0.0, 0.0, 0.0, 0.0, 0.0, 0.0, 0.0, 0.0]\n",
      "{0.0, 1.0}\n",
      "[0.0, 0.0, 0.0, 0.0, 0.0, 1.0, 0.0, 0.0, 0.0, 0.0]\n",
      "{0.0, 1.0}\n",
      "[0.0, 0.0, 0.0, 0.0, 0.0, 0.0, 0.0, 0.0, 0.0, 0.0]\n",
      "{0.0}\n",
      "[1.0, 1.0, 1.0, 1.0, 1.0, 1.0, 1.0, 0.0, 1.0, 1.0]\n",
      "{0.0, 1.0}\n",
      "[1.0, 1.0, 1.0, 1.0, 1.0, 1.0, 0.0, 0.0, 0.0, 1.0]\n",
      "{0.0, 1.0}\n",
      "[0.0, 1.0, 1.0, 1.0, 1.0, 1.0, 0.0, 0.0, 1.0, 1.0]\n",
      "{0.0, 1.0}\n",
      "[0.0, 0.0, 0.0, 0.0, 0.0, 1.0, 1.0, 1.0, 0.0, 0.0]\n",
      "{0.0, 1.0}\n",
      "[1.0, 1.0, 1.0, 1.0, 1.0, 1.0, 1.0, 1.0, 1.0, 1.0]\n",
      "{1.0}\n",
      "[1.0, 1.0, 1.0, 1.0, 1.0, 0.0, 1.0, 1.0, 0.0, 1.0]\n",
      "{0.0, 1.0}\n",
      "[0.0, 0.0, 0.0, 0.0, 1.0, 1.0, 1.0, 0.0, 0.0, 0.0]\n",
      "{0.0, 1.0}\n",
      "[1.0, 0.0, 1.0, 0.0, 0.0, 1.0, 1.0, 1.0, 0.0, 1.0]\n",
      "{0.0, 1.0}\n",
      "[0.0, 0.0, 1.0, 0.0, 0.0, 1.0, 0.0, 0.0, 0.0, 0.0]\n",
      "{0.0, 1.0}\n",
      "[1.0, 1.0, 1.0, 1.0, 0.0, 0.0, 1.0, 0.0, 1.0, 1.0]\n",
      "{0.0, 1.0}\n",
      "[2.0, 0.0, 1.0, 1.0, 0.0, 1.0, 1.0, 1.0, 1.0, 1.0]\n",
      "{0.0, 1.0, 2.0}\n",
      "[1.0, 0.0, 0.0, 0.0, 0.0, 0.0, 0.0, 0.0, 0.0, 0.0]\n",
      "{0.0, 1.0}\n",
      "[0.0, 0.0, 1.0, 0.0, 1.0, 0.0, 1.0, 0.0, 0.0, 1.0]\n",
      "{0.0, 1.0}\n",
      "[2.0, 0.0, 0.0, 0.0, 1.0, 1.0, 0.0, 0.0, 1.0, 0.0]\n",
      "{0.0, 1.0, 2.0}\n",
      "[1.0, 0.0, 1.0, 0.0, 0.0, 0.0, 0.0, 0.0, 0.0, 0.0]\n",
      "{0.0, 1.0}\n",
      "[0.0, 1.0, 1.0, 0.0, 0.0, 1.0, 1.0, 1.0, 0.0, 0.0]\n",
      "{0.0, 1.0}\n",
      "[0.0, 0.0, 0.0, 0.0, 0.0, 0.0, 0.0, 1.0, 0.0, 0.0]\n",
      "{0.0, 1.0}\n",
      "[0.0, 0.0, 0.0, 0.0, 1.0, 1.0, 0.0, 0.0, 0.0, 0.0]\n",
      "{0.0, 1.0}\n",
      "[1.0, 1.0, 1.0, 1.0, 0.0, 1.0, 1.0, 1.0, 1.0, 0.0]\n",
      "{0.0, 1.0}\n",
      "[0.0, 0.0, 0.0, 1.0, 1.0, 1.0, 0.0, 1.0, 1.0, 1.0]\n",
      "{0.0, 1.0}\n",
      "[1.0, 0.0, 0.0, 0.0, 0.0, 0.0, 0.0, 1.0, 0.0, 0.0]\n",
      "{0.0, 1.0}\n",
      "[0.0, 1.0, 0.0, 1.0, 0.0, 1.0, 0.0, 0.0, 0.0, 0.0]\n",
      "{0.0, 1.0}\n",
      "[1.0, 0.0, 0.0, 0.0, 1.0, 1.0, 1.0, 1.0, 0.0, 0.0]\n",
      "{0.0, 1.0}\n",
      "[0.0, 0.0, 0.0, 0.0, 0.0, 0.0, 0.0, 1.0, 0.0, 1.0]\n",
      "{0.0, 1.0}\n",
      "[1.0, 1.0, 0.0, 0.0, 1.0, 0.0, 0.0, 1.0, 0.0, 1.0]\n",
      "{0.0, 1.0}\n",
      "[2.0, 1.0, 1.0, 1.0, 1.0, 1.0, 1.0, 1.0, 1.0, 1.0]\n",
      "{1.0, 2.0}\n",
      "[1.0, 1.0, 1.0, 1.0, 1.0, 1.0, 1.0, 0.0, 1.0, 1.0]\n",
      "{0.0, 1.0}\n",
      "[1.0, 0.0, 1.0, 1.0, 1.0, 1.0, 1.0, 1.0, 0.0, 1.0]\n",
      "{0.0, 1.0}\n",
      "[0.0, 1.0, 1.0, 0.0, 1.0, 1.0, 0.0, 0.0, 1.0, 1.0]\n",
      "{0.0, 1.0}\n",
      "[2.0, 1.0, 1.0, 0.0, 1.0, 1.0, 1.0, 1.0, 1.0, 1.0]\n",
      "{0.0, 1.0, 2.0}\n",
      "[0.0, 0.0, 0.0, 0.0, 0.0, 0.0, 0.0, 0.0, 0.0, 0.0]\n",
      "{0.0}\n",
      "[1.0, 1.0, 1.0, 1.0, 0.0, 1.0, 1.0, 1.0, 0.0, 1.0]\n",
      "{0.0, 1.0}\n",
      "[0.0, 1.0, 1.0, 1.0, 0.0, 1.0, 1.0, 1.0, 1.0, 1.0]\n",
      "{0.0, 1.0}\n",
      "[1.0, 0.0, 0.0, 0.0, 0.0, 0.0, 0.0, 1.0, 0.0, 0.0]\n",
      "{0.0, 1.0}\n",
      "[1.0, 0.0, 1.0, 1.0, 1.0, 1.0, 1.0, 1.0, 1.0, 0.0]\n",
      "{0.0, 1.0}\n",
      "[1.0, 1.0, 2.0, 1.0, 1.0, 1.0, 1.0, 1.0, 0.0, 1.0]\n",
      "{0.0, 1.0, 2.0}\n",
      "[1.0, 0.0, 1.0, 0.0, 0.0, 1.0, 1.0, 0.0, 0.0, 1.0]\n",
      "{0.0, 1.0}\n",
      "[1.0, 0.0, 0.0, 0.0, 2.0, 1.0, 0.0, 0.0, 0.0, 0.0]\n",
      "{0.0, 1.0, 2.0}\n",
      "[1.0, 0.0, 0.0, 0.0, 0.0, 0.0, 0.0, 0.0, 0.0, 0.0]\n",
      "{0.0, 1.0}\n",
      "[2.0, 2.0, 2.0, 2.0, 1.0, 1.0, 2.0, 1.0, 0.0, 2.0]\n",
      "{0.0, 1.0, 2.0}\n",
      "[1.0, 1.0, 1.0, 0.0, 1.0, 1.0, 1.0, 1.0, 1.0, 2.0]\n",
      "{0.0, 1.0, 2.0}\n",
      "[0.0, 2.0, 1.0, 0.0, 1.0, 1.0, 1.0, 1.0, 0.0, 2.0]\n",
      "{0.0, 1.0, 2.0}\n",
      "[1.0, 1.0, 1.0, 1.0, 1.0, 1.0, 1.0, 0.0, 1.0, 1.0]\n",
      "{0.0, 1.0}\n",
      "[2.0, 0.0, 1.0, 1.0, 2.0, 1.0, 1.0, 1.0, 1.0, 0.0]\n",
      "{0.0, 1.0, 2.0}\n",
      "[1.0, 1.0, 0.0, 1.0, 0.0, 1.0, 1.0, 1.0, 1.0, 1.0]\n",
      "{0.0, 1.0}\n",
      "[1.0, 1.0, 1.0, 1.0, 1.0, 0.0, 1.0, 0.0, 1.0, 1.0]\n",
      "{0.0, 1.0}\n",
      "[1.0, 0.0, 1.0, 0.0, 1.0, 1.0, 1.0, 1.0, 0.0, 1.0]\n",
      "{0.0, 1.0}\n",
      "[0.0, 1.0, 1.0, 1.0, 1.0, 1.0, 1.0, 1.0, 1.0, 1.0]\n",
      "{0.0, 1.0}\n",
      "[1.0, 1.0, 1.0, 1.0, 1.0, 1.0, 1.0, 1.0, 2.0, 0.0]\n",
      "{0.0, 1.0, 2.0}\n",
      "[1.0, 1.0, 1.0, 1.0, 1.0, 1.0, 1.0, 1.0, 1.0, 1.0]\n",
      "{1.0}\n",
      "[1.0, 0.0, 0.0, 1.0, 0.0, 0.0, 0.0, 0.0, 1.0, 0.0]\n",
      "{0.0, 1.0}\n",
      "[0.0, 0.0, 0.0, 0.0, 1.0, 0.0, 0.0, 0.0, 1.0, 1.0]\n",
      "{0.0, 1.0}\n",
      "[1.0, 1.0, 1.0, 1.0, 1.0, 0.0, 1.0, 0.0, 1.0, 1.0]\n",
      "{0.0, 1.0}\n",
      "[1.0, 0.0, 1.0, 0.0, 0.0, 0.0, 1.0, 0.0, 2.0, 1.0]\n",
      "{0.0, 1.0, 2.0}\n",
      "[0.0, 1.0, 2.0, 1.0, 1.0, 1.0, 2.0, 1.0, 1.0, 1.0]\n",
      "{0.0, 1.0, 2.0}\n",
      "[0.0, 1.0, 1.0, 1.0, 1.0, 1.0, 1.0, 0.0, 0.0, 1.0]\n",
      "{0.0, 1.0}\n",
      "[2.0, 0.0, 1.0, 1.0, 2.0, 0.0, 1.0, 0.0, 0.0, 1.0]\n",
      "{0.0, 1.0, 2.0}\n",
      "[0.0, 1.0, 1.0, 0.0, 0.0, 0.0, 1.0, 1.0, 1.0, 0.0]\n",
      "{0.0, 1.0}\n",
      "[0.0, 0.0, 1.0, 0.0, 0.0, 1.0, 1.0, 0.0, 1.0, 0.0]\n",
      "{0.0, 1.0}\n",
      "[1.0, 1.0, 1.0, 1.0, 1.0, 0.0, 1.0, 1.0, 1.0, 1.0]\n",
      "{0.0, 1.0}\n",
      "[0.0, 0.0, 0.0, 0.0, 0.0, 0.0, 0.0, 0.0, 0.0, 0.0]\n",
      "{0.0}\n",
      "[0.0, 0.0, 0.0, 0.0, 0.0, 0.0, 0.0, 0.0, 0.0, 0.0]\n",
      "{0.0}\n",
      "[1.0, 1.0, 1.0, 1.0, 0.0, 0.0, 1.0, 1.0, 1.0, 1.0]\n",
      "{0.0, 1.0}\n",
      "[1.0, 0.0, 1.0, 0.0, 1.0, 0.0, 1.0, 1.0, 1.0, 1.0]\n",
      "{0.0, 1.0}\n",
      "[2.0, 0.0, 1.0, 1.0, 1.0, 1.0, 1.0, 0.0, 1.0, 1.0]\n",
      "{0.0, 1.0, 2.0}\n",
      "[0.0, 0.0, 1.0, 0.0, 1.0, 1.0, 1.0, 1.0, 1.0, 1.0]\n",
      "{0.0, 1.0}\n",
      "[1.0, 0.0, 1.0, 1.0, 1.0, 1.0, 1.0, 1.0, 1.0, 1.0]\n",
      "{0.0, 1.0}\n",
      "[1.0, 1.0, 1.0, 1.0, 1.0, 1.0, 0.0, 1.0, 1.0, 1.0]\n",
      "{0.0, 1.0}\n",
      "[0.0, 1.0, 0.0, 0.0, 1.0, 0.0, 0.0, 1.0, 2.0, 0.0]\n",
      "{0.0, 1.0, 2.0}\n",
      "[1.0, 1.0, 1.0, 1.0, 0.0, 1.0, 1.0, 2.0, 0.0, 1.0]\n",
      "{0.0, 1.0, 2.0}\n",
      "[0.0, 1.0, 1.0, 0.0, 2.0, 2.0, 1.0, 1.0, 1.0, 1.0]\n",
      "{0.0, 1.0, 2.0}\n",
      "[0.0, 0.0, 0.0, 1.0, 0.0, 0.0, 0.0, 0.0, 1.0, 1.0]\n",
      "{0.0, 1.0}\n",
      "[1.0, 1.0, 1.0, 1.0, 0.0, 0.0, 1.0, 1.0, 1.0, 1.0]\n",
      "{0.0, 1.0}\n",
      "[1.0, 0.0, 0.0, 0.0, 1.0, 2.0, 0.0, 0.0, 2.0, 0.0]\n",
      "{0.0, 1.0, 2.0}\n",
      "[1.0, 1.0, 1.0, 0.0, 0.0, 1.0, 1.0, 1.0, 1.0, 1.0]\n",
      "{0.0, 1.0}\n",
      "[1.0, 1.0, 1.0, 1.0, 0.0, 1.0, 1.0, 0.0, 1.0, 0.0]\n",
      "{0.0, 1.0}\n",
      "[1.0, 0.0, 1.0, 1.0, 0.0, 1.0, 1.0, 1.0, 1.0, 1.0]\n",
      "{0.0, 1.0}\n",
      "[0.0, 2.0, 2.0, 2.0, 1.0, 0.0, 1.0, 2.0, 2.0, 2.0]\n",
      "{0.0, 1.0, 2.0}\n",
      "[1.0, 0.0, 1.0, 1.0, 1.0, 1.0, 1.0, 1.0, 1.0, 1.0]\n",
      "{0.0, 1.0}\n",
      "[0.0, 2.0, 1.0, 1.0, 2.0, 0.0, 1.0, 0.0, 1.0, 2.0]\n",
      "{0.0, 1.0, 2.0}\n",
      "[2.0, 1.0, 1.0, 1.0, 1.0, 1.0, 1.0, 1.0, 1.0, 1.0]\n",
      "{1.0, 2.0}\n",
      "[0.0, 1.0, 1.0, 1.0, 1.0, 1.0, 1.0, 1.0, 1.0, 1.0]\n",
      "{0.0, 1.0}\n",
      "[1.0, 1.0, 2.0, 2.0, 2.0, 2.0, 2.0, 1.0, 2.0, 2.0]\n",
      "{1.0, 2.0}\n",
      "[2.0, 2.0, 1.0, 2.0, 1.0, 0.0, 2.0, 2.0, 2.0, 2.0]\n",
      "{0.0, 1.0, 2.0}\n",
      "[0.0, 0.0, 1.0, 1.0, 0.0, 1.0, 1.0, 1.0, 0.0, 1.0]\n",
      "{0.0, 1.0}\n",
      "[0.0, 1.0, 1.0, 2.0, 2.0, 2.0, 2.0, 2.0, 2.0, 2.0]\n",
      "{0.0, 1.0, 2.0}\n",
      "[0.0, 1.0, 1.0, 1.0, 1.0, 1.0, 2.0, 0.0, 1.0, 1.0]\n",
      "{0.0, 1.0, 2.0}\n",
      "[1.0, 1.0, 2.0, 1.0, 1.0, 1.0, 1.0, 1.0, 1.0, 1.0]\n",
      "{1.0, 2.0}\n",
      "[1.0, 1.0, 1.0, 1.0, 1.0, 1.0, 1.0, 1.0, 1.0, 1.0]\n",
      "{1.0}\n",
      "[1.0, 1.0, 0.0, 1.0, 1.0, 1.0, 0.0, 1.0, 2.0, 1.0]\n",
      "{0.0, 1.0, 2.0}\n",
      "[1.0, 1.0, 1.0, 1.0, 1.0, 1.0, 2.0, 1.0, 1.0, 1.0]\n",
      "{1.0, 2.0}\n",
      "[1.0, 1.0, 1.0, 0.0, 0.0, 1.0, 1.0, 0.0, 2.0, 1.0]\n",
      "{0.0, 1.0, 2.0}\n",
      "[1.0, 0.0, 1.0, 1.0, 1.0, 1.0, 1.0, 0.0, 0.0, 0.0]\n",
      "{0.0, 1.0}\n",
      "[1.0, 1.0, 1.0, 1.0, 1.0, 0.0, 1.0, 1.0, 0.0, 1.0]\n",
      "{0.0, 1.0}\n",
      "[1.0, 1.0, 1.0, 1.0, 1.0, 1.0, 1.0, 1.0, 1.0, 1.0]\n",
      "{1.0}\n",
      "[1.0, 1.0, 1.0, 1.0, 1.0, 1.0, 1.0, 1.0, 0.0, 1.0]\n",
      "{0.0, 1.0}\n",
      "[1.0, 1.0, 1.0, 1.0, 1.0, 0.0, 1.0, 0.0, 1.0, 0.0]\n",
      "{0.0, 1.0}\n",
      "[1.0, 1.0, 1.0, 1.0, 0.0, 1.0, 1.0, 0.0, 1.0, 0.0]\n",
      "{0.0, 1.0}\n",
      "[1.0, 1.0, 1.0, 1.0, 0.0, 1.0, 1.0, 1.0, 1.0, 1.0]\n",
      "{0.0, 1.0}\n",
      "[1.0, 1.0, 1.0, 2.0, 1.0, 2.0, 1.0, 0.0, 2.0, 2.0]\n",
      "{0.0, 1.0, 2.0}\n",
      "[1.0, 1.0, 1.0, 1.0, 1.0, 1.0, 1.0, 0.0, 0.0, 1.0]\n",
      "{0.0, 1.0}\n",
      "[0.0, 1.0, 1.0, 1.0, 1.0, 1.0, 1.0, 1.0, 1.0, 1.0]\n",
      "{0.0, 1.0}\n",
      "[1.0, 2.0, 1.0, 1.0, 0.0, 0.0, 2.0, 0.0, 1.0, 1.0]\n",
      "{0.0, 1.0, 2.0}\n",
      "[1.0, 1.0, 1.0, 1.0, 1.0, 1.0, 1.0, 1.0, 0.0, 1.0]\n",
      "{0.0, 1.0}\n",
      "[0.0, 1.0, 1.0, 0.0, 1.0, 1.0, 0.0, 1.0, 1.0, 1.0]\n",
      "{0.0, 1.0}\n",
      "[1.0, 2.0, 1.0, 1.0, 1.0, 1.0, 1.0, 1.0, 1.0, 1.0]\n",
      "{1.0, 2.0}\n",
      "[1.0, 1.0, 0.0, 0.0, 1.0, 1.0, 1.0, 1.0, 1.0, 1.0]\n",
      "{0.0, 1.0}\n",
      "[2.0, 1.0, 1.0, 0.0, 0.0, 1.0, 1.0, 0.0, 2.0, 1.0]\n",
      "{0.0, 1.0, 2.0}\n",
      "[1.0, 0.0, 0.0, 1.0, 0.0, 1.0, 0.0, 0.0, 0.0, 1.0]\n",
      "{0.0, 1.0}\n",
      "[0.0, 0.0, 1.0, 0.0, 0.0, 1.0, 0.0, 0.0, 0.0, 1.0]\n",
      "{0.0, 1.0}\n",
      "[1.0, 1.0, 1.0, 1.0, 0.0, 1.0, 1.0, 1.0, 1.0, 1.0]\n",
      "{0.0, 1.0}\n",
      "[0.0, 1.0, 1.0, 1.0, 1.0, 1.0, 1.0, 1.0, 2.0, 1.0]\n",
      "{0.0, 1.0, 2.0}\n",
      "[0.0, 1.0, 1.0, 0.0, 1.0, 1.0, 1.0, 0.0, 0.0, 1.0]\n",
      "{0.0, 1.0}\n",
      "[0.0, 1.0, 1.0, 1.0, 1.0, 0.0, 1.0, 0.0, 1.0, 1.0]\n",
      "{0.0, 1.0}\n",
      "[1.0, 0.0, 1.0, 1.0, 0.0, 1.0, 2.0, 1.0, 1.0, 0.0]\n",
      "{0.0, 1.0, 2.0}\n",
      "[2.0, 2.0, 2.0, 0.0, 2.0, 1.0, 2.0, 1.0, 2.0, 2.0]\n",
      "{0.0, 1.0, 2.0}\n",
      "[1.0, 1.0, 1.0, 1.0, 0.0, 1.0, 1.0, 1.0, 1.0, 1.0]\n",
      "{0.0, 1.0}\n",
      "[0.0, 2.0, 1.0, 0.0, 0.0, 1.0, 2.0, 1.0, 2.0, 1.0]\n",
      "{0.0, 1.0, 2.0}\n"
     ]
    }
   ],
   "source": [
    "randomResult = classificateur.testRandomForest()"
   ]
  },
  {
   "cell_type": "markdown",
   "metadata": {},
   "source": [
    "Matrice de confusion"
   ]
  },
  {
   "cell_type": "code",
   "execution_count": 41,
   "metadata": {},
   "outputs": [
    {
     "data": {
      "text/plain": [
       "array([[63.,  7.,  1.],\n",
       "       [10., 79.,  5.],\n",
       "       [ 0.,  7.,  4.]])"
      ]
     },
     "execution_count": 41,
     "metadata": {},
     "output_type": "execute_result"
    }
   ],
   "source": [
    "knnConfM = classificateur.confMatrix(knnResult)\n",
    "knnConfM"
   ]
  },
  {
   "cell_type": "code",
   "execution_count": 42,
   "metadata": {},
   "outputs": [
    {
     "name": "stderr",
     "output_type": "stream",
     "text": [
      "C:\\Users\\Mekki\\AppData\\Local\\Temp\\ipykernel_4280\\3011453908.py:90: DeprecationWarning: Conversion of an array with ndim > 0 to a scalar is deprecated, and will error in future. Ensure you extract a single element from your array before performing this operation. (Deprecated NumPy 1.25.)\n",
      "  self.matrix[int(self.test.iloc[i][\"Fertility\"])][int(results[i])]+=1\n"
     ]
    },
    {
     "data": {
      "text/plain": [
       "array([[68.,  3.,  0.],\n",
       "       [10., 77.,  7.],\n",
       "       [ 0.,  6.,  5.]])"
      ]
     },
     "execution_count": 42,
     "metadata": {},
     "output_type": "execute_result"
    }
   ],
   "source": [
    "treeConfM = classificateur.confMatrix(treeResult)\n",
    "treeConfM"
   ]
  },
  {
   "cell_type": "code",
   "execution_count": 43,
   "metadata": {},
   "outputs": [
    {
     "data": {
      "text/plain": [
       "array([[68.,  3.,  0.],\n",
       "       [10., 84.,  0.],\n",
       "       [ 0.,  5.,  6.]])"
      ]
     },
     "execution_count": 43,
     "metadata": {},
     "output_type": "execute_result"
    }
   ],
   "source": [
    "randomConfM = classificateur.confMatrix(randomResult)\n",
    "randomConfM"
   ]
  },
  {
   "cell_type": "code",
   "execution_count": 44,
   "metadata": {},
   "outputs": [],
   "source": [
    "knnScore = classificateur.getMetrics(knnConfM)\n",
    "treeScore = classificateur.getMetrics(treeConfM)\n",
    "randomScore = classificateur.getMetrics(randomConfM)"
   ]
  },
  {
   "cell_type": "code",
   "execution_count": 45,
   "metadata": {},
   "outputs": [
    {
     "data": {
      "text/plain": [
       "{0: {'precision': 0.863013698630137,\n",
       "  'recall': 0.8873239436619719,\n",
       "  'accuracy': 0.8977272727272727,\n",
       "  'specificity': 0.9047619047619048,\n",
       "  'f1': 0.875},\n",
       " 1: {'precision': 0.8494623655913979,\n",
       "  'recall': 0.8404255319148937,\n",
       "  'accuracy': 0.8352272727272727,\n",
       "  'specificity': 0.8292682926829268,\n",
       "  'f1': 0.8449197860962566},\n",
       " 2: {'precision': 0.4,\n",
       "  'recall': 0.36363636363636365,\n",
       "  'accuracy': 0.9261363636363636,\n",
       "  'specificity': 0.9636363636363636,\n",
       "  'f1': 0.380952380952381}}"
      ]
     },
     "execution_count": 45,
     "metadata": {},
     "output_type": "execute_result"
    }
   ],
   "source": [
    "knnScore"
   ]
  },
  {
   "cell_type": "code",
   "execution_count": 46,
   "metadata": {},
   "outputs": [
    {
     "data": {
      "text/plain": [
       "{0: {'precision': 0.8717948717948718,\n",
       "  'recall': 0.9577464788732394,\n",
       "  'accuracy': 0.9261363636363636,\n",
       "  'specificity': 0.9047619047619048,\n",
       "  'f1': 0.9127516778523489},\n",
       " 1: {'precision': 0.8953488372093024,\n",
       "  'recall': 0.8191489361702128,\n",
       "  'accuracy': 0.8522727272727273,\n",
       "  'specificity': 0.8902439024390244,\n",
       "  'f1': 0.8555555555555555},\n",
       " 2: {'precision': 0.4166666666666667,\n",
       "  'recall': 0.45454545454545453,\n",
       "  'accuracy': 0.9261363636363636,\n",
       "  'specificity': 0.9575757575757575,\n",
       "  'f1': 0.43478260869565216}}"
      ]
     },
     "execution_count": 46,
     "metadata": {},
     "output_type": "execute_result"
    }
   ],
   "source": [
    "treeScore"
   ]
  },
  {
   "cell_type": "code",
   "execution_count": 47,
   "metadata": {},
   "outputs": [
    {
     "data": {
      "text/plain": [
       "{0: {'precision': 0.8717948717948718,\n",
       "  'recall': 0.9577464788732394,\n",
       "  'accuracy': 0.9261363636363636,\n",
       "  'specificity': 0.9047619047619048,\n",
       "  'f1': 0.9127516778523489},\n",
       " 1: {'precision': 0.9130434782608695,\n",
       "  'recall': 0.8936170212765957,\n",
       "  'accuracy': 0.8977272727272727,\n",
       "  'specificity': 0.9024390243902439,\n",
       "  'f1': 0.9032258064516129},\n",
       " 2: {'precision': 1.0,\n",
       "  'recall': 0.5454545454545454,\n",
       "  'accuracy': 0.9715909090909091,\n",
       "  'specificity': 1.0,\n",
       "  'f1': 0.7058823529411764}}"
      ]
     },
     "execution_count": 47,
     "metadata": {},
     "output_type": "execute_result"
    }
   ],
   "source": [
    "randomScore"
   ]
  },
  {
   "cell_type": "code",
   "execution_count": 48,
   "metadata": {},
   "outputs": [],
   "source": [
    "import pickle\n",
    "\n",
    "#pickle.dump(classificateur, open(\"lib/classificateur2.p\", \"wb\"))"
   ]
  }
 ],
 "metadata": {
  "kernelspec": {
   "display_name": "Python 3",
   "language": "python",
   "name": "python3"
  },
  "language_info": {
   "codemirror_mode": {
    "name": "ipython",
    "version": 3
   },
   "file_extension": ".py",
   "mimetype": "text/x-python",
   "name": "python",
   "nbconvert_exporter": "python",
   "pygments_lexer": "ipython3",
   "version": "3.12.0"
  }
 },
 "nbformat": 4,
 "nbformat_minor": 2
}
