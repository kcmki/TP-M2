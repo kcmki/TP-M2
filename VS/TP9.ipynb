{
 "cells": [
  {
   "cell_type": "code",
   "execution_count": 11,
   "metadata": {},
   "outputs": [],
   "source": [
    "import cv2\n",
    "import numpy as np"
   ]
  },
  {
   "cell_type": "markdown",
   "metadata": {},
   "source": [
    "# TP6 : filtre morphologique"
   ]
  },
  {
   "cell_type": "code",
   "execution_count": 12,
   "metadata": {},
   "outputs": [],
   "source": [
    "sizeErode = 1\n",
    "sizeDilate = 1\n",
    "sizeMorph = 1\n",
    "\n",
    "cv2.namedWindow(\"Erode\")\n",
    "cv2.namedWindow(\"Dilate\")\n",
    "cv2.namedWindow(\"morph\")\n",
    "img = cv2.imread(\"TP.jpg\",cv2.IMREAD_GRAYSCALE)\n",
    "\n",
    "cv2.threshold(img,130,255,0,img)\n",
    "\n",
    "def dilate_func():\n",
    "    kernel = cv2.getStructuringElement(cv2.MORPH_RECT,(sizeDilate*2+1,sizeDilate*2+1))\n",
    "    img_dilate = cv2.dilate(img,kernel,iterations=1)\n",
    "\n",
    "    cv2.imshow(\"Dilate\",img_dilate)\n",
    "def changeDilateSize(x):\n",
    "    global sizeDilate\n",
    "    sizeDilate = x\n",
    "    dilate_func()\n",
    "\n",
    "\n",
    "def Erode_func():\n",
    "    kernel = cv2.getStructuringElement(cv2.MORPH_RECT,(sizeErode*2+1,sizeErode*2+1))\n",
    "    img_Erode = cv2.erode(img,kernel,iterations=1)\n",
    "    cv2.imshow(\"Erode\",img_Erode)\n",
    "def changeErodeSize(x):\n",
    "    global sizeErode\n",
    "    sizeErode = x\n",
    "    Erode_func()\n",
    "\n",
    "\n",
    "def Operation():\n",
    "\n",
    "    kernel = cv2.getStructuringElement(cv2.MORPH_RECT,(sizeMorph*2+1,sizeMorph*2+1))\n",
    "    img_op = cv2.morphologyEx(img,cv2.MORPH_CLOSE,kernel,iterations=1)\n",
    "\n",
    "    cv2.imshow(\"morph\",img_op)\n",
    "    \n",
    "def changeMorphSize(x):\n",
    "    global sizeMorph \n",
    "    sizeMorph = x\n",
    "    Operation()\n",
    "\n",
    "cv2.createTrackbar(\"sizeDilate\",\"Dilate\",0,21,changeDilateSize)\n",
    "\n",
    "cv2.createTrackbar(\"sizeErode\",\"Erode\",0,21,changeErodeSize)\n",
    "\n",
    "cv2.createTrackbar(\"sizeMorph\",\"morph\",0,21,changeMorphSize)\n"
   ]
  },
  {
   "cell_type": "code",
   "execution_count": 13,
   "metadata": {},
   "outputs": [],
   "source": [
    "dilate_func()\n",
    "Erode_func()\n",
    "\n",
    "Operation()\n",
    "\n",
    "cv2.waitKey(0)\n",
    "cv2.destroyAllWindows()"
   ]
  }
 ],
 "metadata": {
  "kernelspec": {
   "display_name": "Python 3",
   "language": "python",
   "name": "python3"
  },
  "language_info": {
   "codemirror_mode": {
    "name": "ipython",
    "version": 3
   },
   "file_extension": ".py",
   "mimetype": "text/x-python",
   "name": "python",
   "nbconvert_exporter": "python",
   "pygments_lexer": "ipython3",
   "version": "3.12.0"
  }
 },
 "nbformat": 4,
 "nbformat_minor": 2
}
