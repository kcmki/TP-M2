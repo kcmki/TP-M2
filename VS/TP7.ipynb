{
 "cells": [
  {
   "cell_type": "code",
   "execution_count": 6,
   "metadata": {},
   "outputs": [],
   "source": [
    "import cv2\n",
    "import numpy as np\n",
    "import matplotlib\n",
    "\n",
    "#><"
   ]
  },
  {
   "cell_type": "markdown",
   "metadata": {},
   "source": [
    "# TP7 : La couleur et la conversion"
   ]
  },
  {
   "cell_type": "code",
   "execution_count": 13,
   "metadata": {},
   "outputs": [],
   "source": [
    "img = cv2.imread(\"TP.jpg\",cv2.IMREAD_COLOR)\n",
    "imgHSV = cv2.cvtColor(img,cv2.COLOR_BGR2HSV)\n",
    "\n",
    "if img is None:\n",
    "    print(\"Erreur chargement de l'image\")\n",
    "    exit(0)\n",
    "    \n",
    "img16 = np.uint16(img)*256"
   ]
  },
  {
   "cell_type": "code",
   "execution_count": 14,
   "metadata": {},
   "outputs": [],
   "source": [
    "img_r = np.zeros(img.shape,dtype=img.dtype)\n",
    "img_g = np.zeros(img.shape,dtype=img.dtype)\n",
    "img_b = np.zeros(img.shape,dtype=img.dtype)\n",
    "\n",
    "\n",
    "for h in range(img.shape[0]):\n",
    "    for w in range(img.shape[1]):\n",
    "        img_b[h,w,0] = img[h,w,0]\n",
    "        img_g[h,w,1] = img[h,w,1]\n",
    "        img_r[h,w,2] = img[h,w,2]\n",
    "\n",
    "img_b[:,:,0] = img[:,:,0]"
   ]
  },
  {
   "cell_type": "code",
   "execution_count": 17,
   "metadata": {},
   "outputs": [],
   "source": [
    "\n",
    "cv2.imshow(\"red\",img_r)\n",
    "cv2.imshow(\"green\",img_g)\n",
    "cv2.imshow(\"blue\",img_b)\n",
    "\n",
    "cv2.imshow(\"img1\",img16)\n",
    "\n",
    "cv2.waitKey(0)\n",
    "cv2.destroyAllWindows()\n",
    "\n"
   ]
  },
  {
   "cell_type": "markdown",
   "metadata": {},
   "source": [
    "# TP 8"
   ]
  },
  {
   "cell_type": "code",
   "execution_count": 12,
   "metadata": {},
   "outputs": [],
   "source": [
    "cap = cv2.VideoCapture(0)\n",
    "fw,fh = int(cap.get(3)),int(cap.get(4))\n",
    "fourcc = cv2.VideoWriter_fourcc(\"X\",\"V\",\"I\",\"D\")\n",
    "out = cv2.VideoWriter(\"output.avi\",fourcc,2,(fw,fh))\n",
    "\n",
    "if not cap.isOpened():\n",
    "    print(\"erreur\")\n",
    "    exit(0)\n",
    "\n",
    "while cap.isOpened():\n",
    "    ret,frame = cap.read()\n",
    "    if not ret :\n",
    "        print(\"erreur cap.reead\")\n",
    "\n",
    "    out.write(frame)\n",
    "    cv2.imshow(\"cam\",frame)\n",
    "    if cv2.waitKey(200) & 0xFF == ord(\"q\"):\n",
    "        break\n",
    "\n",
    "out.release()\n",
    "cap.release()\n",
    "cv2.destroyAllWindows()"
   ]
  }
 ],
 "metadata": {
  "kernelspec": {
   "display_name": "Python 3",
   "language": "python",
   "name": "python3"
  },
  "language_info": {
   "codemirror_mode": {
    "name": "ipython",
    "version": 3
   },
   "file_extension": ".py",
   "mimetype": "text/x-python",
   "name": "python",
   "nbconvert_exporter": "python",
   "pygments_lexer": "ipython3",
   "version": "3.12.0"
  }
 },
 "nbformat": 4,
 "nbformat_minor": 2
}
