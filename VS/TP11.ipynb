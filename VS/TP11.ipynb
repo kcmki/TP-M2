{
 "cells": [
  {
   "cell_type": "code",
   "execution_count": 1,
   "metadata": {},
   "outputs": [],
   "source": [
    "import cv2\n",
    "import numpy as np"
   ]
  },
  {
   "cell_type": "markdown",
   "metadata": {},
   "source": [
    "# TP11"
   ]
  },
  {
   "cell_type": "code",
   "execution_count": 2,
   "metadata": {},
   "outputs": [],
   "source": [
    "\n",
    "#BLEU\n",
    "low = np.array([95,80,60])\n",
    "\n",
    "high = np.array([115,255,150])\n",
    "\n",
    "# ROSE\n",
    "low = np.array([120,30,60])\n",
    "\n",
    "high = np.array([160,110,255])\n"
   ]
  },
  {
   "cell_type": "code",
   "execution_count": 3,
   "metadata": {},
   "outputs": [],
   "source": [
    "def detect_inrange(image,low,high,min,max):\n",
    "    points = []\n",
    "\n",
    "    image = cv2.blur(image,(5,5))\n",
    "    image = cv2.cvtColor(image,cv2.COLOR_BGR2HSV)\n",
    "    mask = cv2.inRange(image,low,high)\n",
    "    elements = cv2.findContours(mask,cv2.RETR_EXTERNAL,cv2.CHAIN_APPROX_SIMPLE)[-2]\n",
    "    elements = sorted(elements,key=lambda x:cv2.contourArea(x),reverse=True)\n",
    "\n",
    "    for elem in elements:\n",
    "        if cv2.contourArea(elem) < max and min < cv2.contourArea(elem):\n",
    "            ((x,y),rayon) = cv2.minEnclosingCircle(elem)\n",
    "\n",
    "            points.append([int(x),int(y),int(rayon),int(cv2.contourArea(elem))])\n",
    "\n",
    "    return image,mask,points      "
   ]
  },
  {
   "cell_type": "code",
   "execution_count": 4,
   "metadata": {},
   "outputs": [],
   "source": [
    "from math import sqrt\n",
    "\n",
    "\n",
    "def pixelize(image):\n",
    "    block_size=30\n",
    "    array = np.ones((block_size*block_size))\n",
    "    # Create a list to store the blocks\n",
    "    pixels = []\n",
    "\n",
    "    # Iterate over the matrix in steps of block_size\n",
    "    for i in range(0, len(image), block_size):\n",
    "        for j in range(0, len(image[i]), block_size):\n",
    "            layer = ()\n",
    "            # Extract the block\n",
    "            for k in range(0,len(image[i][j])):\n",
    "                block = image[i:i+block_size, j:j+block_size][k]\n",
    "            \n",
    "                # Convert the block to a 1D list\n",
    "                block_list = block.flatten().tolist()\n",
    "                result = sum([a*b for a,b in zip(block_list,array)]) / (block_size*block_size)\n",
    "                layer = layer + (result,)\n",
    "            pixels.append(layer)\n",
    "    matsize = int(sqrt(len(pixels)))\n",
    "    img = np.zeros(image.shape,dtype=np.uint16)\n",
    "    for i in range(matsize):\n",
    "        for j in range(matsize):\n",
    "            img[i,j] = pixels[(i*matsize)+j]\n",
    "    #print(pixels)\n",
    "    return img"
   ]
  },
  {
   "cell_type": "code",
   "execution_count": 5,
   "metadata": {},
   "outputs": [],
   "source": [
    "img = cv2.imread(\"TP.jpg\",cv2.IMREAD_COLOR)\n",
    "\n",
    "img = pixelize(img)\n",
    "\n",
    "cv2.imshow(\"ixel\",img)"
   ]
  },
  {
   "cell_type": "code",
   "execution_count": 6,
   "metadata": {},
   "outputs": [
    {
     "ename": "KeyboardInterrupt",
     "evalue": "",
     "output_type": "error",
     "traceback": [
      "\u001b[1;31m---------------------------------------------------------------------------\u001b[0m",
      "\u001b[1;31mKeyboardInterrupt\u001b[0m                         Traceback (most recent call last)",
      "\u001b[1;32mc:\\Users\\mekki\\Desktop\\TP2\\VS\\TP11.ipynb Cell 7\u001b[0m line \u001b[0;36m1\n\u001b[1;32m----> <a href='vscode-notebook-cell:/c%3A/Users/mekki/Desktop/TP2/VS/TP11.ipynb#W3sZmlsZQ%3D%3D?line=0'>1</a>\u001b[0m cap \u001b[39m=\u001b[39m cv2\u001b[39m.\u001b[39;49mVideoCapture(\u001b[39m0\u001b[39;49m)\n\u001b[0;32m      <a href='vscode-notebook-cell:/c%3A/Users/mekki/Desktop/TP2/VS/TP11.ipynb#W3sZmlsZQ%3D%3D?line=1'>2</a>\u001b[0m fw,fh \u001b[39m=\u001b[39m \u001b[39mint\u001b[39m(cap\u001b[39m.\u001b[39mget(\u001b[39m3\u001b[39m)),\u001b[39mint\u001b[39m(cap\u001b[39m.\u001b[39mget(\u001b[39m4\u001b[39m))\n\u001b[0;32m      <a href='vscode-notebook-cell:/c%3A/Users/mekki/Desktop/TP2/VS/TP11.ipynb#W3sZmlsZQ%3D%3D?line=3'>4</a>\u001b[0m \u001b[39mif\u001b[39;00m \u001b[39mnot\u001b[39;00m cap\u001b[39m.\u001b[39misOpened():\n",
      "\u001b[1;31mKeyboardInterrupt\u001b[0m: "
     ]
    }
   ],
   "source": [
    "cap = cv2.VideoCapture(0)\n",
    "fw,fh = int(cap.get(3)),int(cap.get(4))\n",
    "\n",
    "if not cap.isOpened():\n",
    "    print(\"erreur\")\n",
    "    exit(0)\n",
    "\n",
    "while cap.isOpened():\n",
    "    ret,frame = cap.read()\n",
    "    if not ret :\n",
    "        print(\"erreur cap.reead\")\n",
    "\n",
    "    image,mask,points = detect_inrange(frame,low,high,500,4000)\n",
    "\n",
    "    image = cv2.cvtColor(image,cv2.COLOR_HSV2BGR)\n",
    "    cv2.circle(image,(100,100),20,(0,255,0),5)\n",
    "    \n",
    "    print(image[100,100])\n",
    "\n",
    "    if len(points) > 0:\n",
    "        point = points[0]\n",
    "        cv2.circle(image,(point[0],point[1]),point[2],(255,0,0),2)\n",
    "        cv2.putText(image,str(point[3]),(point[0],point[1]),cv2.FONT_HERSHEY_COMPLEX,1,(255,0,0),2,cv2.LINE_AA)\n",
    "\n",
    "        image = pixelize(image)\n",
    "\n",
    "\n",
    "    if mask is not None:\n",
    "        cv2.imshow(\"mask\",mask)\n",
    "\n",
    "    cv2.imshow(\"cam\",image)\n",
    "\n",
    "    if cv2.waitKey(200) & 0xFF == ord(\"q\"):\n",
    "        break\n",
    "\n",
    "out.release()\n",
    "cap.release()\n",
    "cv2.destroyAllWindows()"
   ]
  }
 ],
 "metadata": {
  "kernelspec": {
   "display_name": "Python 3",
   "language": "python",
   "name": "python3"
  },
  "language_info": {
   "codemirror_mode": {
    "name": "ipython",
    "version": 3
   },
   "file_extension": ".py",
   "mimetype": "text/x-python",
   "name": "python",
   "nbconvert_exporter": "python",
   "pygments_lexer": "ipython3",
   "version": "3.12.0"
  }
 },
 "nbformat": 4,
 "nbformat_minor": 2
}
