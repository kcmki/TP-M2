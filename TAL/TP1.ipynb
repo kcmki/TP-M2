{
 "cells": [
  {
   "cell_type": "markdown",
   "metadata": {},
   "source": [
    "# Prétraitement"
   ]
  },
  {
   "cell_type": "code",
   "execution_count": 1,
   "metadata": {},
   "outputs": [],
   "source": [
    "import nltk\n",
    "import string\n",
    "from nltk.corpus import stopwords\n",
    "from nltk.tokenize import word_tokenize\n",
    "from sklearn.feature_extraction.text import TfidfVectorizer\n",
    "from nltk.stem import PorterStemmer\n",
    "from nltk.stem import WordNetLemmatizer\n"
   ]
  },
  {
   "cell_type": "code",
   "execution_count": 2,
   "metadata": {},
   "outputs": [],
   "source": [
    "text = open('data.txt', 'r').read()"
   ]
  },
  {
   "cell_type": "code",
   "execution_count": 3,
   "metadata": {},
   "outputs": [
    {
     "name": "stdout",
     "output_type": "stream",
     "text": [
      "['Knowledge', 'graph', 'KG', 'play', 'increasingly', 'important', 'role', 'recommender', 'systems', 'recent', 'technical', 'trend', 'develop', 'endtoend', 'model', 'found', 'graph', 'neural', 'network', 'GNNs', 'However', 'exist', 'GNNbased', 'model', 'coarsegrained', 'relational', 'model', 'fail', '1', 'identify', 'useritem', 'relation', 'finegrained', 'level', 'intents', '2', 'exploit', 'relation', 'dependencies', 'preserve', 'semantics', 'longrange', 'connectivity', 'study', 'explore', 'intents', 'behind', 'useritem', 'interaction', 'use', 'auxiliary', 'item', 'knowledge', 'propose', 'new', 'model', 'Knowledge', 'Graphbased', 'Intent', 'Network', 'KGIN', 'Technically', 'model', 'intent', 'attentive', 'combination', 'KG', 'relations', 'encourage', 'independence', 'different', 'intents', 'better', 'model', 'capability', 'interpretability', 'Furthermore', 'devise', 'new', 'information', 'aggregation', 'scheme', 'GNN', 'recursively', 'integrate', 'relation', 'sequence', 'longrange', 'connectivity', 'ie', 'relational', 'paths', 'scheme', 'allow', 'us', 'distill', 'useful', 'information', 'user', 'intents', 'encode', 'representations', 'users', 'items', 'Experimental', 'result', 'three', 'benchmark', 'datasets', 'show', 'KGIN', 'achieve', 'significant', 'improvements', 'stateoftheart', 'methods', 'like', 'KGAT', '41', 'KGNNLS', '38', 'CKAN', '47', 'analyse', 'show', 'KGIN', 'offer', 'interpretable', 'explanations', 'predictions', 'identify', 'influential', 'intents', 'relational', 'paths', 'order', 'model', 'evolution', 'user', 'preference', 'learn', 'useritem', 'embeddings', 'base', 'timeordered', 'item', 'purchase', 'sequence', 'define', 'Sequential', 'RecommendationSR', 'problem', 'Existing', 'methods', 'leverage', 'sequential', 'pattern', 'model', 'item', 'transition', 'However', 'ignore', 'crucial', 'temporal', 'collaborative', 'signal', 'latent', 'evolve', 'useritem', 'interactions', 'coexist', 'sequential', 'pattern', 'Therefore', 'propose', 'unify', 'sequential', 'pattern', 'temporal', 'collaborative', 'signal', 'improve', 'quality', 'recommendation', 'rather', 'challenge', 'Firstly', 'hard', 'simultaneously', 'encode', 'sequential', 'pattern', 'collaborative', 'signal', 'Secondly', 'nontrivial', 'express', 'temporal', 'effect', 'collaborative', 'signal', 'Hence', 'design', 'new', 'framework', 'Temporal', 'Graph', 'Sequential', 'Recommender', 'TGSRec', 'upon', 'define', 'continuoustime', 'bipartite', 'graph', 'propose', 'novel', 'Temporal', 'Collaborative', 'Transformer', 'TCT', 'layer', 'TGSRec', 'advance', 'selfattention', 'mechanism', 'adopt', 'novel', 'collaborative', 'attention', 'TCT', 'layer', 'simultaneously', 'capture', 'collaborative', 'signal', 'users', 'items', 'well', 'consider', 'temporal', 'dynamics', 'inside', 'sequential', 'pattern', 'propagate', 'information', 'learn', 'TCT', 'layer', 'temporal', 'graph', 'unify', 'sequential', 'pattern', 'temporal', 'collaborative', 'signal', 'Empirical', 'result', 'five', 'datasets', 'show', 'modelname', 'significantly', 'outperform', 'baselines', 'average', '225', '221', 'absolute', 'improvements', 'Recall10', 'MRR', 'respectively', 'Motivated', 'vast', 'applications', 'knowledge', 'graph', 'increase', 'demand', 'education', 'domain', 'propose', 'system', 'call', 'KnowEdu', 'automatically', 'construct', 'knowledge', 'graph', 'education', 'leverage', 'heterogeneous', 'data', 'eg', 'pedagogical', 'data', 'learn', 'assessment', 'data', 'education', 'domain', 'system', 'first', 'extract', 'concepts', 'subject', 'course', 'identify', 'educational', 'relations', 'concepts', 'specifically', 'adopt', 'neural', 'sequence', 'label', 'algorithm', 'pedagogical', 'data', 'extract', 'instructional', 'concepts', 'employ', 'probabilistic', 'association', 'rule', 'mine', 'learn', 'assessment', 'data', 'identify', 'relations', 'educational', 'significance', 'detail', 'mention', 'efforts', 'exemplary', 'case', 'construct', 'demonstrative', 'knowledge', 'graph', 'mathematics', 'instructional', 'concepts', 'prerequisite', 'relations', 'derive', 'curriculum', 'standards', 'conceptbased', 'performance', 'data', 'students', 'Evaluation', 'result', 'show', 'F1', 'score', 'concept', 'extraction', 'exceed', '070', 'relation', 'identification', 'area', 'curve', 'mean', 'average', 'precision', 'achieve', '095', '087', 'respectively', 'Knowledge', 'graph', 'KG', 'contain', 'wellstructured', 'external', 'information', 'show', 'effective', 'highquality', 'recommendation', 'However', 'exist', 'KG', 'enhance', 'recommendation', 'methods', 'largely', 'focus', 'explore', 'advance', 'neural', 'network', 'architectures', 'better', 'investigate', 'structural', 'information', 'KG', 'model', 'learn', 'methods', 'mainly', 'rely', 'Negative', 'Sampling', 'NS', 'optimize', 'model', 'KG', 'embed', 'task', 'recommendation', 'task', 'Since', 'NS', 'robust', 'eg', 'sample', 'small', 'fraction', 'negative', 'instance', 'may', 'lose', 'lot', 'useful', 'information', 'reasonable', 'argue', 'methods', 'insufficient', 'capture', 'collaborative', 'information', 'among', 'users', 'items', 'entities', 'paper', 'propose', 'novel', 'Jointly', 'NonSampling', 'learn', 'model', 'Knowledge', 'graph', 'enhance', 'Recommendation', 'JNSKR', 'Specifically', 'first', 'design', 'new', 'efficient', 'NS', 'optimization', 'algorithm', 'knowledge', 'graph', 'embed', 'learn', 'subgraphs', 'encode', 'propose', 'attentive', 'neural', 'network', 'better', 'characterize', 'user', 'preference', 'items', 'novel', 'design', 'memorization', 'strategies', 'joint', 'learn', 'framework', 'JNSKR', 'model', 'finegrained', 'connections', 'among', 'users', 'items', 'entities', 'also', 'efficiently', 'learn', 'model', 'parameters', 'whole', 'train', 'data', 'include', 'nonobserved', 'data', 'rather', 'low', 'time', 'complexity', 'Experimental', 'result', 'two', 'public', 'benchmarks', 'show', 'JNSKR', 'significantly', 'outperform', 'stateoftheart', 'methods', 'like', 'RippleNet', 'KGAT', 'Remarkably', 'JNSKR', 'also', 'show', 'significant', 'advantage', 'train', 'efficiency', '20', 'time', 'faster', 'KGAT', 'make', 'applicable', 'realworld', 'largescale', 'systems']\n",
      "['knowledg', 'graph', 'kg', 'play', 'increasingli', 'import', 'role', 'recommend', 'system', 'recent', 'technic', 'trend', 'develop', 'endtoend', 'model', 'found', 'graph', 'neural', 'network', 'gnn', 'howev', 'exist', 'gnnbase', 'model', 'coarsegrain', 'relat', 'model', 'fail', '1', 'identifi', 'useritem', 'relat', 'finegrain', 'level', 'intent', '2', 'exploit', 'relat', 'depend', 'preserv', 'semant', 'longrang', 'connect', 'studi', 'explor', 'intent', 'behind', 'useritem', 'interact', 'use', 'auxiliari', 'item', 'knowledg', 'propos', 'new', 'model', 'knowledg', 'graphbas', 'intent', 'network', 'kgin', 'technic', 'model', 'intent', 'attent', 'combin', 'kg', 'relat', 'encourag', 'independ', 'differ', 'intent', 'better', 'model', 'capabl', 'interpret', 'furthermor', 'devis', 'new', 'inform', 'aggreg', 'scheme', 'gnn', 'recurs', 'integr', 'relat', 'sequenc', 'longrang', 'connect', 'ie', 'relat', 'path', 'scheme', 'allow', 'us', 'distil', 'use', 'inform', 'user', 'intent', 'encod', 'represent', 'user', 'item', 'experiment', 'result', 'three', 'benchmark', 'dataset', 'show', 'kgin', 'achiev', 'signific', 'improv', 'stateoftheart', 'method', 'like', 'kgat', '41', 'kgnnl', '38', 'ckan', '47', 'analys', 'show', 'kgin', 'offer', 'interpret', 'explan', 'predict', 'identifi', 'influenti', 'intent', 'relat', 'path', 'order', 'model', 'evolut', 'user', 'prefer', 'learn', 'useritem', 'embed', 'base', 'timeord', 'item', 'purchas', 'sequenc', 'defin', 'sequenti', 'recommendationsr', 'problem', 'exist', 'method', 'leverag', 'sequenti', 'pattern', 'model', 'item', 'transit', 'howev', 'ignor', 'crucial', 'tempor', 'collabor', 'signal', 'latent', 'evolv', 'useritem', 'interact', 'coexist', 'sequenti', 'pattern', 'therefor', 'propos', 'unifi', 'sequenti', 'pattern', 'tempor', 'collabor', 'signal', 'improv', 'qualiti', 'recommend', 'rather', 'challeng', 'firstli', 'hard', 'simultan', 'encod', 'sequenti', 'pattern', 'collabor', 'signal', 'secondli', 'nontrivi', 'express', 'tempor', 'effect', 'collabor', 'signal', 'henc', 'design', 'new', 'framework', 'tempor', 'graph', 'sequenti', 'recommend', 'tgsrec', 'upon', 'defin', 'continuoustim', 'bipartit', 'graph', 'propos', 'novel', 'tempor', 'collabor', 'transform', 'tct', 'layer', 'tgsrec', 'advanc', 'selfattent', 'mechan', 'adopt', 'novel', 'collabor', 'attent', 'tct', 'layer', 'simultan', 'captur', 'collabor', 'signal', 'user', 'item', 'well', 'consid', 'tempor', 'dynam', 'insid', 'sequenti', 'pattern', 'propag', 'inform', 'learn', 'tct', 'layer', 'tempor', 'graph', 'unifi', 'sequenti', 'pattern', 'tempor', 'collabor', 'signal', 'empir', 'result', 'five', 'dataset', 'show', 'modelnam', 'significantli', 'outperform', 'baselin', 'averag', '225', '221', 'absolut', 'improv', 'recall10', 'mrr', 'respect', 'motiv', 'vast', 'applic', 'knowledg', 'graph', 'increas', 'demand', 'educ', 'domain', 'propos', 'system', 'call', 'knowedu', 'automat', 'construct', 'knowledg', 'graph', 'educ', 'leverag', 'heterogen', 'data', 'eg', 'pedagog', 'data', 'learn', 'assess', 'data', 'educ', 'domain', 'system', 'first', 'extract', 'concept', 'subject', 'cours', 'identifi', 'educ', 'relat', 'concept', 'specif', 'adopt', 'neural', 'sequenc', 'label', 'algorithm', 'pedagog', 'data', 'extract', 'instruct', 'concept', 'employ', 'probabilist', 'associ', 'rule', 'mine', 'learn', 'assess', 'data', 'identifi', 'relat', 'educ', 'signific', 'detail', 'mention', 'effort', 'exemplari', 'case', 'construct', 'demonstr', 'knowledg', 'graph', 'mathemat', 'instruct', 'concept', 'prerequisit', 'relat', 'deriv', 'curriculum', 'standard', 'conceptbas', 'perform', 'data', 'student', 'evalu', 'result', 'show', 'f1', 'score', 'concept', 'extract', 'exceed', '070', 'relat', 'identif', 'area', 'curv', 'mean', 'averag', 'precis', 'achiev', '095', '087', 'respect', 'knowledg', 'graph', 'kg', 'contain', 'wellstructur', 'extern', 'inform', 'show', 'effect', 'highqual', 'recommend', 'howev', 'exist', 'kg', 'enhanc', 'recommend', 'method', 'larg', 'focu', 'explor', 'advanc', 'neural', 'network', 'architectur', 'better', 'investig', 'structur', 'inform', 'kg', 'model', 'learn', 'method', 'mainli', 'reli', 'neg', 'sampl', 'ns', 'optim', 'model', 'kg', 'emb', 'task', 'recommend', 'task', 'sinc', 'ns', 'robust', 'eg', 'sampl', 'small', 'fraction', 'neg', 'instanc', 'may', 'lose', 'lot', 'use', 'inform', 'reason', 'argu', 'method', 'insuffici', 'captur', 'collabor', 'inform', 'among', 'user', 'item', 'entiti', 'paper', 'propos', 'novel', 'jointli', 'nonsampl', 'learn', 'model', 'knowledg', 'graph', 'enhanc', 'recommend', 'jnskr', 'specif', 'first', 'design', 'new', 'effici', 'ns', 'optim', 'algorithm', 'knowledg', 'graph', 'emb', 'learn', 'subgraph', 'encod', 'propos', 'attent', 'neural', 'network', 'better', 'character', 'user', 'prefer', 'item', 'novel', 'design', 'memor', 'strategi', 'joint', 'learn', 'framework', 'jnskr', 'model', 'finegrain', 'connect', 'among', 'user', 'item', 'entiti', 'also', 'effici', 'learn', 'model', 'paramet', 'whole', 'train', 'data', 'includ', 'nonobserv', 'data', 'rather', 'low', 'time', 'complex', 'experiment', 'result', 'two', 'public', 'benchmark', 'show', 'jnskr', 'significantli', 'outperform', 'stateoftheart', 'method', 'like', 'ripplenet', 'kgat', 'remark', 'jnskr', 'also', 'show', 'signific', 'advantag', 'train', 'effici', '20', 'time', 'faster', 'kgat', 'make', 'applic', 'realworld', 'largescal', 'system']\n",
      "[('demand', 1), ('call', 1), ('knowedu', 1), ('automat', 1), ('heterogen', 1), ('subject', 1), ('cours', 1), ('label', 1), ('employ', 1), ('probabilist', 1), ('associ', 1), ('rule', 1), ('mine', 1), ('detail', 1), ('mention', 1), ('effort', 1), ('exemplari', 1), ('case', 1), ('demonstr', 1), ('mathemat', 1), ('prerequisit', 1), ('deriv', 1), ('curriculum', 1), ('standard', 1), ('conceptbas', 1), ('perform', 1), ('student', 1), ('evalu', 1), ('f1', 1), ('score', 1), ('exceed', 1), ('070', 1), ('identif', 1), ('area', 1), ('curv', 1), ('mean', 1), ('precis', 1), ('095', 1), ('087', 1), ('contain', 1), ('wellstructur', 1), ('extern', 1), ('highqual', 1), ('larg', 1), ('focu', 1), ('architectur', 1), ('investig', 1), ('structur', 1), ('mainli', 1), ('reli', 1), ('sinc', 1), ('robust', 1), ('small', 1), ('fraction', 1), ('instanc', 1), ('may', 1), ('lose', 1), ('lot', 1), ('reason', 1), ('argu', 1), ('insuffici', 1), ('paper', 1), ('jointli', 1), ('nonsampl', 1), ('subgraph', 1), ('character', 1), ('memor', 1), ('strategi', 1), ('joint', 1), ('paramet', 1), ('whole', 1), ('includ', 1), ('nonobserv', 1), ('low', 1), ('complex', 1), ('two', 1), ('public', 1), ('ripplenet', 1), ('remark', 1), ('advantag', 1), ('20', 1), ('faster', 1), ('make', 1), ('realworld', 1), ('largescal', 1)]\n"
     ]
    }
   ],
   "source": [
    "\n",
    "\n",
    "\n",
    "def Traitement(text,rarity=0.7,min=0):\n",
    "\n",
    "    translator = str.maketrans('', '', string.punctuation)\n",
    "    text_without_punctuations = text.translate(translator)\n",
    "    lemmatizer = WordNetLemmatizer()\n",
    "    stemmer = PorterStemmer()\n",
    "\n",
    "    tokens = word_tokenize(text_without_punctuations)\n",
    "\n",
    "    filtered_tokens = [word for word in tokens if word.lower() not in stopwords.words(\"english\")]\n",
    "\n",
    "    lemmatized_words = [lemmatizer.lemmatize(word, pos='v') for word in filtered_tokens]\n",
    "    print(lemmatized_words)\n",
    "    stemmed_words = [stemmer.stem(word) for word in lemmatized_words]\n",
    "    print(stemmed_words)\n",
    "\n",
    "    # creating dictionary of frequency\n",
    "    my_dict = {}\n",
    "    for term in stemmed_words:\n",
    "        if term in my_dict:\n",
    "            my_dict[term] += 1\n",
    "        else:\n",
    "            my_dict[term] = 1\n",
    "\n",
    "    my_dict = sorted(my_dict.items(), key=lambda x: x[1], reverse=True)\n",
    "    \n",
    "\n",
    "    # removing % of most cited words\n",
    "    seuil = len(my_dict) * rarity\n",
    "    my_dict = my_dict[int(seuil):]\n",
    "    \n",
    "    # removing words that are cited less than min\n",
    "    for i in range(len(my_dict)):\n",
    "        if my_dict[i][1] <= min:\n",
    "            my_dict = my_dict[:i]\n",
    "            break\n",
    "    print(my_dict)\n",
    "\n",
    "\n",
    "\n",
    "    \n",
    "\n",
    "\n",
    "Traitement(text)"
   ]
  },
  {
   "cell_type": "markdown",
   "metadata": {},
   "source": []
  }
 ],
 "metadata": {
  "kernelspec": {
   "display_name": "Python 3",
   "language": "python",
   "name": "python3"
  },
  "language_info": {
   "codemirror_mode": {
    "name": "ipython",
    "version": 3
   },
   "file_extension": ".py",
   "mimetype": "text/x-python",
   "name": "python",
   "nbconvert_exporter": "python",
   "pygments_lexer": "ipython3",
   "version": "3.9.1"
  }
 },
 "nbformat": 4,
 "nbformat_minor": 2
}
