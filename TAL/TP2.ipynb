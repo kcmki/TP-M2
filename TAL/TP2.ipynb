{
 "cells": [
  {
   "cell_type": "code",
   "execution_count": 3,
   "metadata": {},
   "outputs": [],
   "source": [
    "import spacy\n",
    "\n",
    "nlp = spacy.load(\"en_core_web_sm\")\n",
    "\n",
    "from gensim import corpora"
   ]
  },
  {
   "cell_type": "code",
   "execution_count": 54,
   "metadata": {},
   "outputs": [
    {
     "name": "stdout",
     "output_type": "stream",
     "text": [
      "[['Knowledge', 'graph', 'KG', 'play', 'increasingly', 'important', 'role', 'recommender', 'system', ' ', 'recent', 'technical', 'trend', 'develop', 'end', 'end', 'model', 'found', 'graph', 'neural', 'network', 'gnn', ' ', 'exist', 'GNN', 'base', 'model', 'coarse', 'grain', 'relational', 'modeling', ' ', 'fail', 'identify', 'user', 'item', 'relation', 'fine', 'grain', 'level', 'intent', ' ', 'exploit', 'relation', 'dependency', 'preserve', 'semantic', 'long', 'range', 'connectivity', 'study', 'explore', 'intent', 'user', 'item', 'interaction', 'auxiliary', 'item', 'knowledge', ' ', 'propose', 'new', 'model', 'Knowledge', 'Graph', 'base', 'Intent', 'Network', 'KGIN', 'technically', ' ', 'model', 'intent', 'attentive', 'combination', 'KG', 'relation', 'encourage', 'independence', 'different', ' ', 'intent', 'well', 'model', 'capability', 'interpretability', 'furthermore', 'devise', 'new', 'information', 'aggregation', ' ', 'scheme', 'GNN', 'recursively', 'integrate', 'relation', 'sequence', 'long', 'range', 'connectivity', ' ', 'i.e.', 'relational', 'path', 'scheme', 'allow', 'distill', 'useful', 'information', 'user', 'intent', 'encode', ' ', 'representation', 'user', 'item', 'experimental', 'result', 'benchmark', 'dataset', ' ', 'KGIN', 'achieve', 'significant', 'improvement', 'state', 'art', 'method', 'like', 'KGAT', 's', 'KGNN', 'LS', 'CKAN', 'analyse', 'KGIN', 'offer', 'interpretable', 'explanation', ' ', 'prediction', 'identify', 'influential', 'intent', 'relational', 'path'], ['order', 'model', 'evolution', 'user', 'preference', 'learn', 'user', 'item', 'embedding', 'base', ' ', 'time', 'order', 'item', 'purchasing', 'sequence', 'define', 'Sequential', 'Recommendation~(SR', 'problem', ' ', 'exist', 'method', 'leverage', 'sequential', 'pattern', 'model', 'item', 'transition', 'ignore', ' ', 'crucial', 'temporal', 'collaborative', 'signal', 'latent', 'evolve', 'user', 'item', 'interaction', 'coexist', ' ', 'sequential', 'pattern', 'propose', 'unify', 'sequential', 'pattern', 'temporal', 'collaborative', ' ', 'signal', 'improve', 'quality', 'recommendation', 'challenging', 'firstly', 'hard', ' ', 'simultaneously', 'encode', 'sequential', 'pattern', 'collaborative', 'signal', 'secondly', 'non', 'trivial', ' ', 'express', 'temporal', 'effect', 'collaborative', 'signal', 'design', 'new', 'framework', 'Temporal', 'Graph', 'Sequential', 'Recommender', 'TGSRec', 'define', ' ', 'continuous', 'time', 'bipartite', 'graph', 'propose', 'novel', 'Temporal', 'Collaborative', 'Transformer', 'TCT', 'layer', 'TGSRec', ' ', 'advance', 'self', 'attention', 'mechanism', 'adopt', 'novel', 'collaborative', 'attention', ' ', 'TCT', 'layer', 'simultaneously', 'capture', 'collaborative', 'signal', 'user', 'item', ' ', 'consider', 'temporal', 'dynamic', 'inside', 'sequential', 'pattern', 'propagate', 'information', 'learn', 'TCT', ' ', 'layer', 'temporal', 'graph', 'unify', 'sequential', 'pattern', 'temporal', 'collaborative', 'signal', ' ', 'empirical', 'result', 'dataset', 'modelname', 'significantly', 'outperform', 'baseline', ' ', 'average', 'absolute', 'improvement', 'Recall@10', 'MRR', 'respectively'], ['motivate', 'vast', 'application', 'knowledge', 'graph', 'increase', ' ', 'demand', 'education', 'domain', 'propose', 'system', 'call', 'KnowEdu', 'automatically', ' ', 'construct', 'knowledge', 'graph', 'education', 'leverage', 'heterogeneous', 'datum', ' ', 'e.g.', 'pedagogical', 'datum', 'learn', 'assessment', 'datum', 'education', 'domain', ' ', 'system', 'extract', 'concept', 'subject', 'course', 'identify', ' ', 'educational', 'relation', 'concept', 'specifically', ' ', 'adopt', 'neural', 'sequence', 'label', 'algorithm', 'pedagogical', 'datum', 'extract', 'instructional', ' ', 'concept', 'employ', 'probabilistic', 'association', 'rule', 'mining', 'learn', 'assessment', 'datum', ' ', 'identify', 'relation', 'educational', 'significance', 'detail', 'mention', 'effort', ' ', 'exemplary', 'case', 'construct', 'demonstrative', 'knowledge', 'graph', 'mathematic', ' ', 'instructional', 'concept', 'prerequisite', 'relation', 'derive', 'curriculum', ' ', 'standard', 'concept', 'base', 'performance', 'datum', 'student', 'evaluation', 'result', ' ', 'f1', 'score', 'concept', 'extraction', 'exceed', 'relation', 'identification', ' ', 'area', 'curve', 'mean', 'average', 'precision', 'achieve', 'respectively'], ['Knowledge', 'graph', 'KG', 'contain', 'structure', 'external', 'information', 'show', 'effective', ' ', 'high', 'quality', 'recommendation', 'exist', 'KG', 'enhance', 'recommendation', 'method', 'largely', ' ', 'focus', 'explore', 'advanced', 'neural', 'network', 'architecture', 'well', 'investigate', 'structural', ' ', 'information', 'KG', 'model', 'learning', 'method', 'mainly', 'rely', 'Negative', 'Sampling', ' ', 'NS', 'optimize', 'model', 'KG', 'embed', 'task', 'recommendation', 'task', 'NS', 'robust', ' ', 'e.g.', 'sample', 'small', 'fraction', 'negative', 'instance', 'lose', 'lot', 'useful', 'information', ' ', 'reasonable', 'argue', 'method', 'insufficient', 'capture', 'collaborative', 'information', 'user', ' ', 'item', 'entity', 'paper', 'propose', 'novel', 'jointly', 'Non', 'sampling', 'learning', 'model', 'Knowledge', 'graph', ' ', 'enhance', 'Recommendation', 'JNSKR', 'specifically', 'design', 'new', 'efficient', 'NS', 'optimization', 'algorithm', ' ', 'knowledge', 'graph', 'embed', 'learning', 'subgraph', 'encode', 'propose', 'attentive', ' ', 'neural', 'network', 'well', 'characterize', 'user', 'preference', 'item', 'novel', 'design', 'memorization', ' ', 'strategy', 'joint', 'learning', 'framework', 'JNSKR', 'model', 'fine', 'grain', 'connection', 'user', ' ', 'item', 'entity', 'efficiently', 'learn', 'model', 'parameter', 'training', 'datum', ' ', 'include', 'non', 'observed', 'datum', 'low', 'time', 'complexity', 'experimental', 'result', 'public', ' ', 'benchmark', 'JNSKR', 'significantly', 'outperform', 'state', 'art', 'method', 'like', 'RippleNet', 'KGAT', ' ', 'remarkably', 'JNSKR', 'show', 'significant', 'advantage', 'training', 'efficiency', 'time', 'fast', 'KGAT', ' ', 'make', 'applicable', 'real', 'world', 'large', 'scale', 'system']]\n"
     ]
    }
   ],
   "source": [
    "files = [\"../RI/TPRI/D1.txt\",\"../RI/TPRI/D2.txt\",\"../RI/TPRI/D3.txt\",\"../RI/TPRI/D4.txt\"]\n",
    "documents = []\n",
    "\n",
    "for i in range(len(files)):\n",
    "    documents.append(open(files[i]).read().replace(\"\\n\",\" \"))\n",
    "\n",
    "\n",
    "texts = []\n",
    "\n",
    "for document in documents:\n",
    "\n",
    "    text = []\n",
    "\n",
    "    doc = nlp(document)\n",
    "\n",
    "    for w in doc:\n",
    "\n",
    "        if not w.is_stop and not w.is_punct and not w.like_num:\n",
    "\n",
    "            text.append(w.lemma_)\n",
    "\n",
    "    texts.append(text)\n",
    "\n",
    "print(texts)\n",
    "\n",
    "dictionary = corpora.Dictionary(texts)\n",
    "\n",
    "corpus = [dictionary.doc2bow(text) for text in texts]\n"
   ]
  },
  {
   "cell_type": "markdown",
   "metadata": {},
   "source": [
    "# TF IDF"
   ]
  },
  {
   "cell_type": "code",
   "execution_count": 55,
   "metadata": {},
   "outputs": [
    {
     "name": "stdout",
     "output_type": "stream",
     "text": [
      "[(1, 0.08254240376785688), (2, 0.16508480753571375), (3, 0.04127120188392844), (4, 0.08254240376785688), (5, 0.08254240376785688), (6, 0.04127120188392844), (7, 0.24762721130357065), (8, 0.08254240376785688), (9, 0.08254240376785688), (10, 0.08254240376785688), (11, 0.08254240376785688), (12, 0.04127120188392844), (13, 0.08254240376785688), (14, 0.08254240376785688), (15, 0.08254240376785688), (16, 0.04127120188392844), (17, 0.04127120188392844), (18, 0.08254240376785688), (19, 0.03425819284427593), (20, 0.04127120188392844), (21, 0.08254240376785688), (22, 0.08254240376785688), (23, 0.08254240376785688), (24, 0.16508480753571375), (25, 0.04127120188392844), (26, 0.08254240376785688), (27, 0.08254240376785688), (28, 0.08254240376785688), (29, 0.08254240376785688), (30, 0.08254240376785688), (31, 0.017129096422137963), (32, 0.08254240376785688), (33, 0.16508480753571375), (34, 0.017129096422137963), (35, 0.04127120188392844), (36, 0.08254240376785688), (37, 0.08254240376785688), (38, 0.04127120188392844), (39, 0.08254240376785688), (40, 0.04127120188392844), (41, 0.08254240376785688), (42, 0.08254240376785688), (43, 0.08254240376785688), (44, 0.08254240376785688), (46, 0.08254240376785688), (47, 0.08254240376785688), (48, 0.08254240376785688), (49, 0.04127120188392844), (50, 0.08254240376785688), (51, 0.08254240376785688), (52, 0.08254240376785688), (53, 0.03425819284427593), (54, 0.08254240376785688), (55, 0.4952544226071413), (56, 0.04127120188392844), (57, 0.08254240376785688), (58, 0.08254240376785688), (59, 0.06851638568855185), (60, 0.017129096422137963), (61, 0.08254240376785688), (62, 0.04127120188392844), (63, 0.16508480753571375), (64, 0.017129096422137963), (65, 0.08564548211068983), (66, 0.08254240376785688), (67, 0.04127120188392844), (68, 0.017129096422137963), (69, 0.03425819284427593), (70, 0.08254240376785688), (71, 0.16508480753571375), (72, 0.08254240376785688), (73, 0.08254240376785688), (74, 0.08254240376785688), (76, 0.16508480753571375), (77, 0.08254240376785688), (78, 0.08254240376785688), (79, 0.08254240376785688), (80, 0.16508480753571375), (81, 0.24762721130357065), (82, 0.08254240376785688), (84, 0.08254240376785688), (85, 0.08254240376785688), (86, 0.16508480753571375), (87, 0.08254240376785688), (88, 0.017129096422137963), (89, 0.04127120188392844), (90, 0.04127120188392844), (91, 0.08254240376785688), (92, 0.017129096422137963), (93, 0.08254240376785688), (94, 0.08254240376785688), (95, 0.08254240376785688), (96, 0.04127120188392844), (97, 0.06851638568855185), (98, 0.04127120188392844)]\n",
      "[(3, 0.03150256624235155), (19, 0.013074746314091707), (25, 0.03150256624235155), (31, 0.013074746314091707), (34, 0.013074746314091707), (49, 0.03150256624235155), (53, 0.013074746314091707), (56, 0.03150256624235155), (59, 0.06537373157045855), (64, 0.013074746314091707), (65, 0.026149492628183415), (69, 0.013074746314091707), (88, 0.013074746314091707), (97, 0.05229898525636683), (99, 0.0630051324847031), (100, 0.0630051324847031), (101, 0.0630051324847031), (102, 0.0630051324847031), (103, 0.0630051324847031), (104, 0.1260102649694062), (105, 0.1890153974541093), (106, 0.1260102649694062), (107, 0.1260102649694062), (108, 0.0630051324847031), (109, 0.0630051324847031), (110, 0.03150256624235155), (111, 0.0630051324847031), (112, 0.1260102649694062), (113, 0.03150256624235155), (114, 0.0630051324847031), (115, 0.0630051324847031), (116, 0.03150256624235155), (117, 0.0630051324847031), (118, 0.0630051324847031), (119, 0.22051796369646087), (120, 0.0630051324847031), (121, 0.0630051324847031), (122, 0.0630051324847031), (123, 0.1260102649694062), (124, 0.03150256624235155), (125, 0.0630051324847031), (126, 0.0630051324847031), (127, 0.0630051324847031), (128, 0.0630051324847031), (129, 0.0630051324847031), (130, 0.0630051324847031), (131, 0.0630051324847031), (132, 0.0630051324847031), (133, 0.03150256624235155), (134, 0.0630051324847031), (135, 0.0630051324847031), (136, 0.0630051324847031), (137, 0.0630051324847031), (138, 0.0630051324847031), (139, 0.1890153974541093), (140, 0.026149492628183415), (141, 0.03150256624235155), (142, 0.0630051324847031), (143, 0.0630051324847031), (144, 0.03150256624235155), (145, 0.0630051324847031), (146, 0.1260102649694062), (147, 0.03150256624235155), (148, 0.3780307949082186), (149, 0.03150256624235155), (150, 0.0630051324847031), (151, 0.0630051324847031), (152, 0.0630051324847031), (153, 0.03150256624235155), (154, 0.03150256624235155), (155, 0.03150256624235155), (156, 0.0630051324847031), (157, 0.0630051324847031), (158, 0.3780307949082186), (159, 0.3780307949082186), (160, 0.03150256624235155), (161, 0.1260102649694062), (162, 0.3780307949082186), (163, 0.0630051324847031), (164, 0.0630051324847031), (165, 0.0630051324847031), (166, 0.1260102649694062)]\n",
      "[(12, 0.04370835092815263), (19, 0.018140604666822595), (47, 0.08741670185630526), (60, 0.054421814000467784), (68, 0.018140604666822595), (80, 0.17483340371261052), (88, 0.018140604666822595), (92, 0.03628120933364519), (110, 0.04370835092815263), (113, 0.04370835092815263), (140, 0.03628120933364519), (141, 0.04370835092815263), (155, 0.04370835092815263), (167, 0.08741670185630526), (168, 0.04370835092815263), (169, 0.08741670185630526), (170, 0.08741670185630526), (171, 0.17483340371261052), (172, 0.08741670185630526), (173, 0.08741670185630526), (174, 0.08741670185630526), (175, 0.08741670185630526), (176, 0.5245002111378316), (177, 0.17483340371261052), (178, 0.08741670185630526), (179, 0.08741670185630526), (180, 0.08741670185630526), (181, 0.2622501055689158), (182, 0.08741670185630526), (183, 0.08741670185630526), (184, 0.08741670185630526), (185, 0.08741670185630526), (186, 0.17483340371261052), (187, 0.04370835092815263), (188, 0.2622501055689158), (189, 0.17483340371261052), (190, 0.08741670185630526), (191, 0.08741670185630526), (192, 0.08741670185630526), (193, 0.08741670185630526), (194, 0.08741670185630526), (195, 0.17483340371261052), (196, 0.08741670185630526), (197, 0.08741670185630526), (198, 0.08741670185630526), (199, 0.08741670185630526), (200, 0.08741670185630526), (201, 0.17483340371261052), (202, 0.08741670185630526), (203, 0.08741670185630526), (204, 0.08741670185630526), (205, 0.08741670185630526), (206, 0.08741670185630526), (207, 0.08741670185630526), (208, 0.17483340371261052), (209, 0.08741670185630526), (210, 0.08741670185630526), (211, 0.08741670185630526), (212, 0.08741670185630526), (213, 0.08741670185630526), (214, 0.08741670185630526), (215, 0.08741670185630526), (216, 0.04370835092815263), (217, 0.08741670185630526), (218, 0.08741670185630526), (219, 0.08741670185630526), (220, 0.08741670185630526)]\n",
      "[(5, 0.165289006321313), (6, 0.0826445031606565), (9, 0.0826445031606565), (16, 0.04132225158032825), (17, 0.04132225158032825), (20, 0.04132225158032825), (31, 0.017150283960470684), (34, 0.017150283960470684), (35, 0.04132225158032825), (38, 0.04132225158032825), (40, 0.04132225158032825), (44, 0.04132225158032825), (53, 0.06860113584188274), (59, 0.05145085188141205), (60, 0.017150283960470684), (62, 0.04132225158032825), (64, 0.06860113584188274), (65, 0.08575141980235343), (67, 0.0826445031606565), (68, 0.03430056792094137), (69, 0.017150283960470684), (89, 0.04132225158032825), (90, 0.04132225158032825), (92, 0.017150283960470684), (96, 0.04132225158032825), (97, 0.05145085188141205), (98, 0.0826445031606565), (116, 0.04132225158032825), (119, 0.04132225158032825), (124, 0.0826445031606565), (133, 0.04132225158032825), (140, 0.017150283960470684), (144, 0.04132225158032825), (145, 0.0826445031606565), (147, 0.04132225158032825), (149, 0.04132225158032825), (153, 0.04132225158032825), (154, 0.12396675474098474), (160, 0.04132225158032825), (163, 0.0826445031606565), (168, 0.04132225158032825), (181, 0.0826445031606565), (187, 0.04132225158032825), (216, 0.04132225158032825), (221, 0.330578012642626), (222, 0.2479335094819695), (223, 0.0826445031606565), (224, 0.0826445031606565), (225, 0.0826445031606565), (226, 0.0826445031606565), (227, 0.0826445031606565), (228, 0.0826445031606565), (229, 0.0826445031606565), (230, 0.0826445031606565), (231, 0.0826445031606565), (232, 0.0826445031606565), (233, 0.0826445031606565), (234, 0.0826445031606565), (235, 0.0826445031606565), (236, 0.0826445031606565), (237, 0.0826445031606565), (238, 0.0826445031606565), (239, 0.0826445031606565), (240, 0.0826445031606565), (241, 0.165289006321313), (242, 0.165289006321313), (243, 0.165289006321313), (244, 0.0826445031606565), (245, 0.0826445031606565), (246, 0.0826445031606565), (247, 0.0826445031606565), (248, 0.0826445031606565), (249, 0.0826445031606565), (250, 0.0826445031606565), (251, 0.0826445031606565), (252, 0.0826445031606565), (253, 0.0826445031606565), (254, 0.0826445031606565), (255, 0.0826445031606565), (256, 0.0826445031606565), (257, 0.330578012642626), (258, 0.0826445031606565), (259, 0.0826445031606565), (260, 0.0826445031606565), (261, 0.0826445031606565), (262, 0.0826445031606565), (263, 0.0826445031606565), (264, 0.0826445031606565), (265, 0.0826445031606565), (266, 0.0826445031606565), (267, 0.0826445031606565), (268, 0.0826445031606565), (269, 0.0826445031606565), (270, 0.0826445031606565), (271, 0.0826445031606565), (272, 0.0826445031606565), (273, 0.0826445031606565), (274, 0.0826445031606565), (275, 0.0826445031606565), (276, 0.0826445031606565), (277, 0.0826445031606565), (278, 0.0826445031606565), (279, 0.165289006321313), (280, 0.0826445031606565), (281, 0.0826445031606565), (282, 0.0826445031606565), (283, 0.0826445031606565), (284, 0.0826445031606565), (285, 0.165289006321313), (286, 0.165289006321313), (287, 0.0826445031606565)]\n"
     ]
    }
   ],
   "source": [
    "from gensim import models\n",
    "\n",
    "tfidf = models.TfidfModel(corpus)\n",
    "\n",
    "for document in tfidf[corpus]:\n",
    "    print(document)"
   ]
  },
  {
   "cell_type": "markdown",
   "metadata": {},
   "source": [
    "# N grams"
   ]
  },
  {
   "cell_type": "code",
   "execution_count": 63,
   "metadata": {},
   "outputs": [
    {
     "name": "stdout",
     "output_type": "stream",
     "text": [
      "[['Knowledge_graph', 'KG', 'play', 'increasingly', 'important', 'role', 'recommender', 'system', ' ', 'recent', 'technical', 'trend', 'develop', 'end', 'end', 'model', 'found', 'graph', 'neural_network', 'gnn', ' _exist', 'GNN', 'base', 'model', 'coarse', 'grain', 'relational', 'modeling', ' ', 'fail', 'identify', 'user_item', 'relation', 'fine_grain', 'level', 'intent', ' ', 'exploit', 'relation', 'dependency', 'preserve', 'semantic', 'long_range', 'connectivity', 'study', 'explore', 'intent', 'user_item', 'interaction', 'auxiliary', 'item', 'knowledge', ' ', 'propose', 'new', 'model_Knowledge', 'Graph', 'base', 'Intent', 'Network', 'KGIN', 'technically', ' ', 'model', 'intent', 'attentive', 'combination', 'KG', 'relation', 'encourage', 'independence', 'different', ' ', 'intent', 'well', 'model', 'capability', 'interpretability', 'furthermore', 'devise', 'new', 'information', 'aggregation', ' ', 'scheme', 'GNN', 'recursively', 'integrate', 'relation', 'sequence', 'long_range', 'connectivity', ' ', 'i.e.', 'relational_path', 'scheme', 'allow', 'distill', 'useful_information', 'user', 'intent', 'encode', ' ', 'representation', 'user_item', 'experimental_result', 'benchmark', 'dataset', ' ', 'KGIN', 'achieve', 'significant', 'improvement', 'state_art', 'method_like', 'KGAT', 's', 'KGNN', 'LS', 'CKAN', 'analyse', 'KGIN', 'offer', 'interpretable', 'explanation', ' ', 'prediction', 'identify', 'influential', 'intent', 'relational_path'], ['order', 'model', 'evolution', 'user_preference', 'learn', 'user_item', 'embedding', 'base', ' ', 'time', 'order', 'item', 'purchasing', 'sequence', 'define', 'Sequential', 'Recommendation~(SR', 'problem', ' _exist', 'method', 'leverage', 'sequential_pattern', 'model', 'item', 'transition', 'ignore', ' ', 'crucial', 'temporal_collaborative', 'signal', 'latent', 'evolve', 'user_item', 'interaction', 'coexist', ' ', 'sequential_pattern', 'propose', 'unify_sequential', 'pattern_temporal', 'collaborative', ' ', 'signal', 'improve', 'quality_recommendation', 'challenging', 'firstly', 'hard', ' ', 'simultaneously', 'encode', 'sequential_pattern', 'collaborative_signal', 'secondly', 'non', 'trivial', ' ', 'express', 'temporal', 'effect', 'collaborative_signal', 'design_new', 'framework', 'Temporal', 'Graph', 'Sequential', 'Recommender', 'TGSRec', 'define', ' ', 'continuous', 'time', 'bipartite', 'graph', 'propose_novel', 'Temporal', 'Collaborative', 'Transformer', 'TCT_layer', 'TGSRec', ' ', 'advance', 'self', 'attention', 'mechanism', 'adopt', 'novel', 'collaborative', 'attention', ' ', 'TCT_layer', 'simultaneously', 'capture_collaborative', 'signal', 'user_item', ' ', 'consider', 'temporal', 'dynamic', 'inside', 'sequential_pattern', 'propagate', 'information', 'learn', 'TCT', ' ', 'layer', 'temporal', 'graph', 'unify_sequential', 'pattern_temporal', 'collaborative_signal', ' ', 'empirical', 'result', 'dataset', 'modelname', 'significantly_outperform', 'baseline', ' ', 'average', 'absolute', 'improvement', 'Recall@10', 'MRR', 'respectively'], ['motivate', 'vast', 'application', 'knowledge_graph', 'increase', ' ', 'demand', 'education_domain', 'propose', 'system', 'call', 'KnowEdu', 'automatically', ' ', 'construct', 'knowledge_graph', 'education', 'leverage', 'heterogeneous', 'datum_ ', 'e.g.', 'pedagogical_datum', 'learn_assessment', 'datum', 'education_domain', ' ', 'system', 'extract', 'concept', 'subject', 'course', 'identify', ' ', 'educational', 'relation', 'concept', 'specifically', ' ', 'adopt', 'neural', 'sequence', 'label', 'algorithm', 'pedagogical_datum', 'extract', 'instructional', ' ', 'concept', 'employ', 'probabilistic', 'association', 'rule', 'mining', 'learn_assessment', 'datum_ ', 'identify', 'relation', 'educational', 'significance', 'detail', 'mention', 'effort', ' ', 'exemplary', 'case', 'construct', 'demonstrative', 'knowledge_graph', 'mathematic', ' ', 'instructional', 'concept', 'prerequisite', 'relation', 'derive', 'curriculum', ' ', 'standard', 'concept', 'base', 'performance', 'datum', 'student', 'evaluation', 'result', ' ', 'f1', 'score', 'concept', 'extraction', 'exceed', 'relation', 'identification', ' ', 'area', 'curve', 'mean', 'average', 'precision', 'achieve', 'respectively'], ['Knowledge_graph', 'KG', 'contain', 'structure', 'external', 'information', 'show', 'effective', ' ', 'high', 'quality_recommendation', 'exist', 'KG', 'enhance', 'recommendation', 'method', 'largely', ' ', 'focus', 'explore', 'advanced', 'neural_network', 'architecture', 'well', 'investigate', 'structural', ' ', 'information', 'KG', 'model', 'learning', 'method', 'mainly', 'rely', 'Negative', 'Sampling', ' ', 'NS', 'optimize', 'model', 'KG', 'embed', 'task', 'recommendation', 'task', 'NS', 'robust', ' _e.g.', 'sample', 'small', 'fraction', 'negative', 'instance', 'lose', 'lot', 'useful_information', ' ', 'reasonable', 'argue', 'method', 'insufficient', 'capture_collaborative', 'information_user', ' _item', 'entity', 'paper', 'propose_novel', 'jointly', 'Non', 'sampling', 'learning', 'model_Knowledge', 'graph', ' ', 'enhance', 'Recommendation', 'JNSKR', 'specifically', 'design_new', 'efficient', 'NS', 'optimization', 'algorithm', ' ', 'knowledge_graph', 'embed', 'learning', 'subgraph', 'encode', 'propose', 'attentive', ' ', 'neural_network', 'well', 'characterize', 'user_preference', 'item', 'novel', 'design', 'memorization', ' ', 'strategy', 'joint', 'learning', 'framework', 'JNSKR', 'model', 'fine_grain', 'connection', 'user_ ', 'item_entity', 'efficiently', 'learn', 'model', 'parameter', 'training', 'datum_ ', 'include', 'non', 'observed', 'datum', 'low', 'time', 'complexity', 'experimental_result', 'public', ' ', 'benchmark', 'JNSKR', 'significantly_outperform', 'state_art', 'method_like', 'RippleNet', 'KGAT_ ', 'remarkably', 'JNSKR', 'show', 'significant', 'advantage', 'training', 'efficiency', 'time', 'fast', 'KGAT_ ', 'make', 'applicable', 'real', 'world', 'large', 'scale', 'system']]\n",
      "[['Knowledge_graph', 'KG', 'play', 'increasingly', 'important', 'role', 'recommender', 'system', ' ', 'recent', 'technical', 'trend', 'develop', 'end', 'end', 'model', 'found', 'graph', 'neural_network', 'gnn', ' _exist', 'GNN', 'base', 'model', 'coarse', 'grain', 'relational', 'modeling', ' ', 'fail', 'identify', 'user_item', 'relation', 'fine_grain', 'level', 'intent', ' ', 'exploit', 'relation', 'dependency', 'preserve', 'semantic', 'long_range', 'connectivity', 'study', 'explore', 'intent', 'user_item', 'interaction', 'auxiliary', 'item', 'knowledge', ' ', 'propose', 'new', 'model_Knowledge', 'Graph', 'base', 'Intent', 'Network', 'KGIN', 'technically', ' ', 'model', 'intent', 'attentive', 'combination', 'KG', 'relation', 'encourage', 'independence', 'different', ' ', 'intent', 'well', 'model', 'capability', 'interpretability', 'furthermore', 'devise', 'new', 'information', 'aggregation', ' ', 'scheme', 'GNN', 'recursively', 'integrate', 'relation', 'sequence', 'long_range', 'connectivity', ' ', 'i.e.', 'relational_path', 'scheme', 'allow', 'distill', 'useful_information', 'user', 'intent', 'encode', ' ', 'representation', 'user_item', 'experimental_result', 'benchmark', 'dataset', ' ', 'KGIN', 'achieve', 'significant', 'improvement', 'state_art', 'method_like', 'KGAT', 's', 'KGNN', 'LS', 'CKAN', 'analyse', 'KGIN', 'offer', 'interpretable', 'explanation', ' ', 'prediction', 'identify', 'influential', 'intent', 'relational_path'], ['order', 'model', 'evolution', 'user_preference', 'learn', 'user_item', 'embedding', 'base', ' ', 'time', 'order', 'item', 'purchasing', 'sequence', 'define', 'Sequential', 'Recommendation~(SR', 'problem', ' _exist', 'method', 'leverage', 'sequential_pattern', 'model', 'item', 'transition', 'ignore', ' ', 'crucial', 'temporal_collaborative', 'signal', 'latent', 'evolve', 'user_item', 'interaction', 'coexist', ' ', 'sequential_pattern', 'propose', 'unify_sequential', 'pattern_temporal', 'collaborative', ' ', 'signal', 'improve', 'quality_recommendation', 'challenging', 'firstly', 'hard', ' ', 'simultaneously', 'encode', 'sequential_pattern', 'collaborative_signal', 'secondly', 'non', 'trivial', ' ', 'express', 'temporal', 'effect', 'collaborative_signal', 'design_new', 'framework', 'Temporal', 'Graph', 'Sequential', 'Recommender', 'TGSRec', 'define', ' ', 'continuous', 'time', 'bipartite', 'graph', 'propose_novel', 'Temporal', 'Collaborative', 'Transformer', 'TCT_layer', 'TGSRec', ' ', 'advance', 'self', 'attention', 'mechanism', 'adopt', 'novel', 'collaborative', 'attention', ' ', 'TCT_layer', 'simultaneously', 'capture_collaborative', 'signal', 'user_item', ' ', 'consider', 'temporal', 'dynamic', 'inside', 'sequential_pattern', 'propagate', 'information', 'learn', 'TCT', ' ', 'layer', 'temporal', 'graph', 'unify_sequential', 'pattern_temporal', 'collaborative_signal', ' ', 'empirical', 'result', 'dataset', 'modelname', 'significantly_outperform', 'baseline', ' ', 'average', 'absolute', 'improvement', 'Recall@10', 'MRR', 'respectively'], ['motivate', 'vast', 'application', 'knowledge_graph', 'increase', ' ', 'demand', 'education_domain', 'propose', 'system', 'call', 'KnowEdu', 'automatically', ' ', 'construct', 'knowledge_graph', 'education', 'leverage', 'heterogeneous', 'datum_ ', 'e.g.', 'pedagogical_datum', 'learn_assessment', 'datum', 'education_domain', ' ', 'system', 'extract', 'concept', 'subject', 'course', 'identify', ' ', 'educational', 'relation', 'concept', 'specifically', ' ', 'adopt', 'neural', 'sequence', 'label', 'algorithm', 'pedagogical_datum', 'extract', 'instructional', ' ', 'concept', 'employ', 'probabilistic', 'association', 'rule', 'mining', 'learn_assessment', 'datum_ ', 'identify', 'relation', 'educational', 'significance', 'detail', 'mention', 'effort', ' ', 'exemplary', 'case', 'construct', 'demonstrative', 'knowledge_graph', 'mathematic', ' ', 'instructional', 'concept', 'prerequisite', 'relation', 'derive', 'curriculum', ' ', 'standard', 'concept', 'base', 'performance', 'datum', 'student', 'evaluation', 'result', ' ', 'f1', 'score', 'concept', 'extraction', 'exceed', 'relation', 'identification', ' ', 'area', 'curve', 'mean', 'average', 'precision', 'achieve', 'respectively'], ['Knowledge_graph', 'KG', 'contain', 'structure', 'external', 'information', 'show', 'effective', ' ', 'high', 'quality_recommendation', 'exist', 'KG', 'enhance', 'recommendation', 'method', 'largely', ' ', 'focus', 'explore', 'advanced', 'neural_network', 'architecture', 'well', 'investigate', 'structural', ' ', 'information', 'KG', 'model', 'learning', 'method', 'mainly', 'rely', 'Negative', 'Sampling', ' ', 'NS', 'optimize', 'model', 'KG', 'embed', 'task', 'recommendation', 'task', 'NS', 'robust', ' _e.g.', 'sample', 'small', 'fraction', 'negative', 'instance', 'lose', 'lot', 'useful_information', ' ', 'reasonable', 'argue', 'method', 'insufficient', 'capture_collaborative', 'information_user', ' _item', 'entity', 'paper', 'propose_novel', 'jointly', 'Non', 'sampling', 'learning', 'model_Knowledge', 'graph', ' ', 'enhance', 'Recommendation', 'JNSKR', 'specifically', 'design_new', 'efficient', 'NS', 'optimization', 'algorithm', ' ', 'knowledge_graph', 'embed', 'learning', 'subgraph', 'encode', 'propose', 'attentive', ' ', 'neural_network', 'well', 'characterize', 'user_preference', 'item', 'novel', 'design', 'memorization', ' ', 'strategy', 'joint', 'learning', 'framework', 'JNSKR', 'model', 'fine_grain', 'connection', 'user_ ', 'item_entity', 'efficiently', 'learn', 'model', 'parameter', 'training', 'datum_ ', 'include', 'non', 'observed', 'datum', 'low', 'time', 'complexity', 'experimental_result', 'public', ' ', 'benchmark', 'JNSKR', 'significantly_outperform', 'state_art', 'method_like', 'RippleNet', 'KGAT_ ', 'remarkably', 'JNSKR', 'show', 'significant', 'advantage', 'training', 'efficiency', 'time', 'fast', 'KGAT_ ', 'make', 'applicable', 'real', 'world', 'large', 'scale', 'system']]\n"
     ]
    }
   ],
   "source": [
    "import gensim\n",
    "\n",
    "\n",
    "bigram = gensim.models.Phrases(texts, min_count=1, threshold=1)\n",
    "\n",
    "big = [bigram[line] for line in texts]\n",
    "\n",
    "print(big)\n",
    "\n",
    "trig = gensim.models.Phrases(big)\n",
    "\n",
    "trig = [bigram[line] for line in big]\n",
    "\n",
    "print(trig)\n",
    "\n",
    "\n",
    "dictionary = corpora.Dictionary(texts)\n",
    "\n",
    "corpus = [dictionary.doc2bow(text) for text in texts]\n"
   ]
  }
 ],
 "metadata": {
  "kernelspec": {
   "display_name": "Python 3",
   "language": "python",
   "name": "python3"
  },
  "language_info": {
   "codemirror_mode": {
    "name": "ipython",
    "version": 3
   },
   "file_extension": ".py",
   "mimetype": "text/x-python",
   "name": "python",
   "nbconvert_exporter": "python",
   "pygments_lexer": "ipython3",
   "version": "3.12.0"
  }
 },
 "nbformat": 4,
 "nbformat_minor": 2
}
