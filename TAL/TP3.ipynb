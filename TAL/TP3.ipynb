{
 "cells": [
  {
   "cell_type": "code",
   "execution_count": 113,
   "metadata": {},
   "outputs": [],
   "source": [
    "import pandas as pd\n",
    "import os\n",
    "from tqdm import tqdm\n",
    "import spacy\n",
    "from spacy.tokens import DocBin\n",
    "from spacy.training.example import Example\n"
   ]
  },
  {
   "cell_type": "markdown",
   "metadata": {},
   "source": [
    "Training data"
   ]
  },
  {
   "cell_type": "code",
   "execution_count": 173,
   "metadata": {},
   "outputs": [],
   "source": [
    "TRAIN_DATA = [\n",
    "    (\"The sky is blue\", {\"entities\": [(11, 15, \"COLOR\")]}),\n",
    "    (\"She wore a red dress\", {\"entities\": [(11, 14, \"COLOR\")]}),\n",
    "    (\"The car is painted in green\", {\"entities\": [(22, 27, \"COLOR\")]}),\n",
    "    (\"The sunsets are often orange\", {\"entities\": [(22, 28, \"COLOR\")]}),\n",
    "    (\"The flag is red, white, and blue\", {\"entities\": [(12, 15, \"COLOR\"), (17, 22, \"COLOR\"), (28, 32, \"COLOR\")]}),\n",
    "    (\"The room was painted in shades of gray\", {\"entities\": [(34, 38, \"COLOR\")]}),\n",
    "    (\"The sky can be beautifully pink during sunsets\", {\"entities\": [(27, 31, \"COLOR\")]}),\n",
    "    (\"The leaves turn yellow in the fall\", {\"entities\": [(16, 22, \"COLOR\")]}),\n",
    "]"
   ]
  },
  {
   "cell_type": "markdown",
   "metadata": {},
   "source": [
    "# Training a NER tagger\n",
    "\n",
    "train a pos tagger to recognize a new entity “USTHB” and “LRIA” as ORG,  "
   ]
  },
  {
   "cell_type": "code",
   "execution_count": 174,
   "metadata": {},
   "outputs": [
    {
     "name": "stderr",
     "output_type": "stream",
     "text": [
      "100%|██████████| 8/8 [00:00<00:00, 2666.65it/s]\n"
     ]
    }
   ],
   "source": [
    "#nlp = spacy.blank(\"en\") # load a new spacy model\n",
    "nlp = spacy.blank(\"en\") # load other spacy model\n",
    "\n",
    "db = DocBin() # create a DocBin object\n",
    "\n",
    "for text, annot in tqdm(TRAIN_DATA): # data in previous format\n",
    "    doc = nlp.make_doc(text) # create doc object from text\n",
    "    ents = []\n",
    "    for start, end, label in annot[\"entities\"]: # add character indexes\n",
    "        span = doc.char_span(start, end, label=label, alignment_mode=\"contract\")\n",
    "\n",
    "        if span is None:\n",
    "            print(text)\n",
    "            print(\"Skipping entity\")\n",
    "        else:\n",
    "            ents.append(span)\n",
    "    doc.ents = ents # label the text with the ents\n",
    "    db.add(doc)\n",
    "\n",
    "db.to_disk(\"./train.spacy\") # save the docbin object"
   ]
  },
  {
   "cell_type": "code",
   "execution_count": 175,
   "metadata": {},
   "outputs": [
    {
     "data": {
      "text/plain": [
       "0"
      ]
     },
     "execution_count": 175,
     "metadata": {},
     "output_type": "execute_result"
    }
   ],
   "source": [
    "import os\n",
    "os.system('python -m spacy init fill-config tagger_config.cfg config.cfg')"
   ]
  },
  {
   "cell_type": "code",
   "execution_count": 176,
   "metadata": {},
   "outputs": [
    {
     "data": {
      "text/plain": [
       "0"
      ]
     },
     "execution_count": 176,
     "metadata": {},
     "output_type": "execute_result"
    }
   ],
   "source": [
    "import os\n",
    "os.system('python -m spacy train config.cfg --output ./output --paths.train ./train.spacy --paths.dev ./train.spacy')"
   ]
  },
  {
   "cell_type": "markdown",
   "metadata": {},
   "source": [
    "testing"
   ]
  },
  {
   "cell_type": "code",
   "execution_count": 20,
   "metadata": {},
   "outputs": [
    {
     "data": {
      "text/html": [
       "<span class=\"tex2jax_ignore\"><div class=\"entities\" style=\"line-height: 2.5; direction: ltr\">The grass is \n",
       "<mark class=\"entity\" style=\"background: #ddd; padding: 0.45em 0.6em; margin: 0 0.25em; line-height: 1; border-radius: 0.35em;\">\n",
       "    green\n",
       "    <span style=\"font-size: 0.8em; font-weight: bold; line-height: 1; border-radius: 0.35em; vertical-align: middle; margin-left: 0.5rem\">COLOR</span>\n",
       "</mark>\n",
       ".</div></span>"
      ],
      "text/plain": [
       "<IPython.core.display.HTML object>"
      ]
     },
     "metadata": {},
     "output_type": "display_data"
    },
    {
     "data": {
      "text/html": [
       "<span class=\"tex2jax_ignore\"><div class=\"entities\" style=\"line-height: 2.5; direction: ltr\">the \n",
       "<mark class=\"entity\" style=\"background: #ddd; padding: 0.45em 0.6em; margin: 0 0.25em; line-height: 1; border-radius: 0.35em;\">\n",
       "    blue\n",
       "    <span style=\"font-size: 0.8em; font-weight: bold; line-height: 1; border-radius: 0.35em; vertical-align: middle; margin-left: 0.5rem\">COLOR</span>\n",
       "</mark>\n",
       " carpet is beautifully shinning</div></span>"
      ],
      "text/plain": [
       "<IPython.core.display.HTML object>"
      ]
     },
     "metadata": {},
     "output_type": "display_data"
    },
    {
     "data": {
      "text/html": [
       "<span class=\"tex2jax_ignore\"><div class=\"entities\" style=\"line-height: 2.5; direction: ltr\">The sky is \n",
       "<mark class=\"entity\" style=\"background: #ddd; padding: 0.45em 0.6em; margin: 0 0.25em; line-height: 1; border-radius: 0.35em;\">\n",
       "    blue\n",
       "    <span style=\"font-size: 0.8em; font-weight: bold; line-height: 1; border-radius: 0.35em; vertical-align: middle; margin-left: 0.5rem\">COLOR</span>\n",
       "</mark>\n",
       ".</div></span>"
      ],
      "text/plain": [
       "<IPython.core.display.HTML object>"
      ]
     },
     "metadata": {},
     "output_type": "display_data"
    },
    {
     "data": {
      "text/html": [
       "<span class=\"tex2jax_ignore\"><div class=\"entities\" style=\"line-height: 2.5; direction: ltr\">the color of the sky was \n",
       "<mark class=\"entity\" style=\"background: #ddd; padding: 0.45em 0.6em; margin: 0 0.25em; line-height: 1; border-radius: 0.35em;\">\n",
       "    red\n",
       "    <span style=\"font-size: 0.8em; font-weight: bold; line-height: 1; border-radius: 0.35em; vertical-align: middle; margin-left: 0.5rem\">COLOR</span>\n",
       "</mark>\n",
       " because of the flames</div></span>"
      ],
      "text/plain": [
       "<IPython.core.display.HTML object>"
      ]
     },
     "metadata": {},
     "output_type": "display_data"
    },
    {
     "data": {
      "text/html": [
       "<span class=\"tex2jax_ignore\"><div class=\"entities\" style=\"line-height: 2.5; direction: ltr\">that room walls were painted in half \n",
       "<mark class=\"entity\" style=\"background: #ddd; padding: 0.45em 0.6em; margin: 0 0.25em; line-height: 1; border-radius: 0.35em;\">\n",
       "    gray\n",
       "    <span style=\"font-size: 0.8em; font-weight: bold; line-height: 1; border-radius: 0.35em; vertical-align: middle; margin-left: 0.5rem\">COLOR</span>\n",
       "</mark>\n",
       " and half \n",
       "<mark class=\"entity\" style=\"background: #ddd; padding: 0.45em 0.6em; margin: 0 0.25em; line-height: 1; border-radius: 0.35em;\">\n",
       "    white\n",
       "    <span style=\"font-size: 0.8em; font-weight: bold; line-height: 1; border-radius: 0.35em; vertical-align: middle; margin-left: 0.5rem\">COLOR</span>\n",
       "</mark>\n",
       "</div></span>"
      ],
      "text/plain": [
       "<IPython.core.display.HTML object>"
      ]
     },
     "metadata": {},
     "output_type": "display_data"
    },
    {
     "data": {
      "text/html": [
       "<span class=\"tex2jax_ignore\"><div class=\"entities\" style=\"line-height: 2.5; direction: ltr\">The sun is bright.</div></span>"
      ],
      "text/plain": [
       "<IPython.core.display.HTML object>"
      ]
     },
     "metadata": {},
     "output_type": "display_data"
    }
   ],
   "source": [
    "nlp = spacy.load(\"./output/model-best\")\n",
    "TEST_DATA = [\n",
    "    \"The grass is green.\",\n",
    "    \"the blue carpet is beautifully shinning\",\n",
    "    \"The sky is blue.\",\n",
    "    \"the color of the sky was red because of the flames\",\n",
    "    \"that room walls were painted in half gray and half white\",\n",
    "    \"The sun is bright.\"\n",
    "]\n",
    "\n",
    "for text in TEST_DATA:\n",
    "        doc = nlp(text)\n",
    "        spacy.displacy.render(doc, style=\"ent\", jupyter=True)"
   ]
  },
  {
   "cell_type": "markdown",
   "metadata": {},
   "source": [
    "# old training method"
   ]
  },
  {
   "cell_type": "code",
   "execution_count": 13,
   "metadata": {},
   "outputs": [],
   "source": [
    "import random\n",
    "from pathlib import Path\n",
    "import spacy\n",
    "from spacy.training.example import Example\n",
    "\n",
    "\n",
    "TRAIN_DATA = [\n",
    "    (\"The sky is blue\", {\"entities\": [(11, 15, \"COLOR\")]}),\n",
    "    (\"She wore a red dress\", {\"entities\": [(11, 14, \"COLOR\")]}),\n",
    "    (\"The car is painted in green\", {\"entities\": [(22, 27, \"COLOR\")]}),\n",
    "    (\"The sunsets are often orange\", {\"entities\": [(22, 28, \"COLOR\")]}),\n",
    "    (\"The flag is red, white, and blue\", {\"entities\": [(12, 15, \"COLOR\"), (17, 22, \"COLOR\"), (28, 32, \"COLOR\")]}),\n",
    "    (\"The room was painted in shades of gray\", {\"entities\": [(34, 38, \"COLOR\")]}),\n",
    "    (\"The sky can be beautifully pink during sunsets\", {\"entities\": [(27, 31, \"COLOR\")]}),\n",
    "    (\"The leaves turn yellow in the fall\", {\"entities\": [(16, 22, \"COLOR\")]}),\n",
    "]"
   ]
  },
  {
   "cell_type": "code",
   "execution_count": 1,
   "metadata": {},
   "outputs": [
    {
     "ename": "NameError",
     "evalue": "name 'spacy' is not defined",
     "output_type": "error",
     "traceback": [
      "\u001b[1;31m---------------------------------------------------------------------------\u001b[0m",
      "\u001b[1;31mNameError\u001b[0m                                 Traceback (most recent call last)",
      "\u001b[1;32md:\\_dev\\TP2\\TAL\\TP3.ipynb Cell 12\u001b[0m line \u001b[0;36m1\n\u001b[1;32m----> <a href='vscode-notebook-cell:/d%3A/_dev/TP2/TAL/TP3.ipynb#X14sZmlsZQ%3D%3D?line=0'>1</a>\u001b[0m nlp \u001b[39m=\u001b[39m spacy\u001b[39m.\u001b[39mblank(\u001b[39m'\u001b[39m\u001b[39men\u001b[39m\u001b[39m'\u001b[39m)\n\u001b[0;32m      <a href='vscode-notebook-cell:/d%3A/_dev/TP2/TAL/TP3.ipynb#X14sZmlsZQ%3D%3D?line=2'>3</a>\u001b[0m ner \u001b[39m=\u001b[39m nlp\u001b[39m.\u001b[39madd_pipe(\u001b[39m'\u001b[39m\u001b[39mner\u001b[39m\u001b[39m'\u001b[39m)\n\u001b[0;32m      <a href='vscode-notebook-cell:/d%3A/_dev/TP2/TAL/TP3.ipynb#X14sZmlsZQ%3D%3D?line=4'>5</a>\u001b[0m \u001b[39mfor\u001b[39;00m _, annotations \u001b[39min\u001b[39;00m TRAIN_DATA:\n",
      "\u001b[1;31mNameError\u001b[0m: name 'spacy' is not defined"
     ]
    }
   ],
   "source": [
    "nlp = spacy.blank('en')\n",
    "\n",
    "ner = nlp.add_pipe('ner')\n",
    "\n",
    "for _, annotations in TRAIN_DATA:\n",
    "    for ent in annotations.get('entities'):\n",
    "            ner.add_label(ent[2])\n",
    "\n",
    "other_pipes = [pipe for pipe in nlp.pipe_names if pipe != 'ner']\n",
    "\n"
   ]
  },
  {
   "cell_type": "code",
   "execution_count": 15,
   "metadata": {},
   "outputs": [],
   "source": [
    "examples = []\n",
    "for input_data, annot in TRAIN_DATA:\n",
    "    doc = nlp.make_doc(input_data)\n",
    "    example = Example.from_dict(doc, annot)\n",
    "    examples.append(example)\n",
    "\n",
    "with nlp.disable_pipes(*other_pipes):  # only train NER\n",
    "    optimizer = nlp.begin_training()\n",
    "    for itn in range(20):\n",
    "        random.shuffle(examples)\n",
    "        losses = {}\n",
    "        for example in examples:\n",
    "            nlp.update(\n",
    "                [example],\n",
    "                drop=0.5, # dropout-make it harder to memorise data\n",
    "                sgd=optimizer, # callable to update weights\n",
    "                losses=losses)\n",
    "\n",
    "nlp.to_disk(\"./model_ner_old\")"
   ]
  },
  {
   "cell_type": "code",
   "execution_count": 16,
   "metadata": {},
   "outputs": [
    {
     "data": {
      "text/html": [
       "<span class=\"tex2jax_ignore\"><div class=\"entities\" style=\"line-height: 2.5; direction: ltr\">The sky is \n",
       "<mark class=\"entity\" style=\"background: #ddd; padding: 0.45em 0.6em; margin: 0 0.25em; line-height: 1; border-radius: 0.35em;\">\n",
       "    blue\n",
       "    <span style=\"font-size: 0.8em; font-weight: bold; line-height: 1; border-radius: 0.35em; vertical-align: middle; margin-left: 0.5rem\">COLOR</span>\n",
       "</mark>\n",
       "</div></span>"
      ],
      "text/plain": [
       "<IPython.core.display.HTML object>"
      ]
     },
     "metadata": {},
     "output_type": "display_data"
    },
    {
     "data": {
      "text/html": [
       "<span class=\"tex2jax_ignore\"><div class=\"entities\" style=\"line-height: 2.5; direction: ltr\">She wore a \n",
       "<mark class=\"entity\" style=\"background: #ddd; padding: 0.45em 0.6em; margin: 0 0.25em; line-height: 1; border-radius: 0.35em;\">\n",
       "    red\n",
       "    <span style=\"font-size: 0.8em; font-weight: bold; line-height: 1; border-radius: 0.35em; vertical-align: middle; margin-left: 0.5rem\">COLOR</span>\n",
       "</mark>\n",
       " dress</div></span>"
      ],
      "text/plain": [
       "<IPython.core.display.HTML object>"
      ]
     },
     "metadata": {},
     "output_type": "display_data"
    },
    {
     "data": {
      "text/html": [
       "<span class=\"tex2jax_ignore\"><div class=\"entities\" style=\"line-height: 2.5; direction: ltr\">The car is painted in \n",
       "<mark class=\"entity\" style=\"background: #ddd; padding: 0.45em 0.6em; margin: 0 0.25em; line-height: 1; border-radius: 0.35em;\">\n",
       "    green\n",
       "    <span style=\"font-size: 0.8em; font-weight: bold; line-height: 1; border-radius: 0.35em; vertical-align: middle; margin-left: 0.5rem\">COLOR</span>\n",
       "</mark>\n",
       "</div></span>"
      ],
      "text/plain": [
       "<IPython.core.display.HTML object>"
      ]
     },
     "metadata": {},
     "output_type": "display_data"
    },
    {
     "data": {
      "text/html": [
       "<span class=\"tex2jax_ignore\"><div class=\"entities\" style=\"line-height: 2.5; direction: ltr\">The sunsets are often \n",
       "<mark class=\"entity\" style=\"background: #ddd; padding: 0.45em 0.6em; margin: 0 0.25em; line-height: 1; border-radius: 0.35em;\">\n",
       "    orange\n",
       "    <span style=\"font-size: 0.8em; font-weight: bold; line-height: 1; border-radius: 0.35em; vertical-align: middle; margin-left: 0.5rem\">COLOR</span>\n",
       "</mark>\n",
       "</div></span>"
      ],
      "text/plain": [
       "<IPython.core.display.HTML object>"
      ]
     },
     "metadata": {},
     "output_type": "display_data"
    },
    {
     "data": {
      "text/html": [
       "<span class=\"tex2jax_ignore\"><div class=\"entities\" style=\"line-height: 2.5; direction: ltr\">The flag is \n",
       "<mark class=\"entity\" style=\"background: #ddd; padding: 0.45em 0.6em; margin: 0 0.25em; line-height: 1; border-radius: 0.35em;\">\n",
       "    red\n",
       "    <span style=\"font-size: 0.8em; font-weight: bold; line-height: 1; border-radius: 0.35em; vertical-align: middle; margin-left: 0.5rem\">COLOR</span>\n",
       "</mark>\n",
       ", \n",
       "<mark class=\"entity\" style=\"background: #ddd; padding: 0.45em 0.6em; margin: 0 0.25em; line-height: 1; border-radius: 0.35em;\">\n",
       "    white\n",
       "    <span style=\"font-size: 0.8em; font-weight: bold; line-height: 1; border-radius: 0.35em; vertical-align: middle; margin-left: 0.5rem\">COLOR</span>\n",
       "</mark>\n",
       ", and \n",
       "<mark class=\"entity\" style=\"background: #ddd; padding: 0.45em 0.6em; margin: 0 0.25em; line-height: 1; border-radius: 0.35em;\">\n",
       "    blue\n",
       "    <span style=\"font-size: 0.8em; font-weight: bold; line-height: 1; border-radius: 0.35em; vertical-align: middle; margin-left: 0.5rem\">COLOR</span>\n",
       "</mark>\n",
       "</div></span>"
      ],
      "text/plain": [
       "<IPython.core.display.HTML object>"
      ]
     },
     "metadata": {},
     "output_type": "display_data"
    },
    {
     "data": {
      "text/html": [
       "<span class=\"tex2jax_ignore\"><div class=\"entities\" style=\"line-height: 2.5; direction: ltr\">The room was painted in shades of \n",
       "<mark class=\"entity\" style=\"background: #ddd; padding: 0.45em 0.6em; margin: 0 0.25em; line-height: 1; border-radius: 0.35em;\">\n",
       "    gray\n",
       "    <span style=\"font-size: 0.8em; font-weight: bold; line-height: 1; border-radius: 0.35em; vertical-align: middle; margin-left: 0.5rem\">COLOR</span>\n",
       "</mark>\n",
       "</div></span>"
      ],
      "text/plain": [
       "<IPython.core.display.HTML object>"
      ]
     },
     "metadata": {},
     "output_type": "display_data"
    },
    {
     "data": {
      "text/html": [
       "<span class=\"tex2jax_ignore\"><div class=\"entities\" style=\"line-height: 2.5; direction: ltr\">The sky can be beautifully \n",
       "<mark class=\"entity\" style=\"background: #ddd; padding: 0.45em 0.6em; margin: 0 0.25em; line-height: 1; border-radius: 0.35em;\">\n",
       "    pink\n",
       "    <span style=\"font-size: 0.8em; font-weight: bold; line-height: 1; border-radius: 0.35em; vertical-align: middle; margin-left: 0.5rem\">COLOR</span>\n",
       "</mark>\n",
       " during sunsets</div></span>"
      ],
      "text/plain": [
       "<IPython.core.display.HTML object>"
      ]
     },
     "metadata": {},
     "output_type": "display_data"
    },
    {
     "data": {
      "text/html": [
       "<span class=\"tex2jax_ignore\"><div class=\"entities\" style=\"line-height: 2.5; direction: ltr\">The leaves turn \n",
       "<mark class=\"entity\" style=\"background: #ddd; padding: 0.45em 0.6em; margin: 0 0.25em; line-height: 1; border-radius: 0.35em;\">\n",
       "    yellow\n",
       "    <span style=\"font-size: 0.8em; font-weight: bold; line-height: 1; border-radius: 0.35em; vertical-align: middle; margin-left: 0.5rem\">COLOR</span>\n",
       "</mark>\n",
       " in the fall</div></span>"
      ],
      "text/plain": [
       "<IPython.core.display.HTML object>"
      ]
     },
     "metadata": {},
     "output_type": "display_data"
    }
   ],
   "source": [
    "nlp = spacy.load(\"./model_ner_old\")\n",
    "for text, _ in TRAIN_DATA:\n",
    "        doc = nlp(text)\n",
    "        spacy.displacy.render(doc, style=\"ent\", jupyter=True)"
   ]
  },
  {
   "cell_type": "markdown",
   "metadata": {},
   "source": [
    "# Training a POS Tagger\n",
    "\n",
    " ner tagger to recognize a new entity label called “COLOR”"
   ]
  },
  {
   "cell_type": "code",
   "execution_count": 27,
   "metadata": {},
   "outputs": [],
   "source": [
    "import random\n",
    "from pathlib import Path\n",
    "from spacy.pipeline.ner import Config\n",
    "import spacy\n",
    "from spacy.training.example import Example\n",
    "\n",
    "TAG_MAP = {\n",
    "    'NNS': {'pos': 'NNS'},\n",
    "    'any': {'pos': 'any'}\n",
    "}\n",
    "\n",
    "TRAIN_DATA = [\n",
    "    (\"there is many students in this class they'll pass student by student\", {'tags': ['any', 'any', 'any', 'NNS', 'any', 'any', 'any', 'any', 'any', 'any', 'any', 'any', 'any']}),\n",
    "    (\"There are several books on the shelf and they'll read book by book\",{\"tags\": ['any', 'any', 'any', 'NNS', 'any', 'any', 'any', 'any', 'any', 'any', 'any', 'any', 'any', 'any']}),\n",
    "    (\"There are many cats in the park\", {\"tags\": [\"any\", \"any\", \"any\", \"NNS\", \"any\", \"any\", \"any\"]}),\n",
    "    (\"She has two dogs at home\", {\"tags\": [\"any\", \"any\", \"any\", \"NNS\", \"any\", \"any\"]}),\n",
    "    (\"She has one dog at home\", {\"tags\": [\"any\", \"any\", \"any\", \"any\", \"any\", \"any\"]}),\n",
    "    (\"there is a cat in the garden\", {\"tags\": [\"any\", \"any\", \"any\", \"any\", \"any\", \"any\", \"any\"]}),\n",
    "    (\"There are multiple houses in the neighborhood\", {\"tags\": [\"any\", \"any\", \"any\", \"NNS\", \"any\", \"any\", \"any\"]}),\n",
    "    (\"The kids play with colorful balls in the park\", {\"tags\": [\"any\", \"NNS\", \"any\", \"any\", \"any\", \"NNS\", \"any\", \"any\", \"any\"]}),\n",
    "    (\"She has three cats and four dogs at home\", {\"tags\": [\"any\", \"any\", \"any\", \"NNS\", \"any\", \"any\", \"NNS\", \"any\", \"any\"]}),\n",
    "    (\"We saw some birds in the sky\", {\"tags\": [\"any\", \"any\", \"any\", \"NNS\", \"any\", \"any\", \"any\"]}),\n",
    "    (\"The students are studying for their exams\", {\"tags\": [\"any\", \"NNS\", \"any\", \"any\", \"any\", \"any\", \"NNS\"]}),\n",
    "    (\"I counted the apples and there are twenty\", {\"tags\": [\"any\", \"any\", \"any\", \"NNS\", \"any\", \"any\", \"any\", \"any\"]}),\n",
    "\n",
    "]\n",
    "\n",
    "nlp = spacy.blank(\"en\")\n",
    "# Create a new NER component\n",
    "tagger = nlp.add_pipe(\"tagger\")\n",
    "\n",
    "# Add the labels to the tagger\n",
    "for tag, values in TAG_MAP.items():\n",
    "    tagger.add_label(tag)\n",
    "\n"
   ]
  },
  {
   "cell_type": "code",
   "execution_count": 30,
   "metadata": {},
   "outputs": [],
   "source": [
    "\n",
    "examples = []\n",
    "\n",
    "for input_data, annot in TRAIN_DATA:\n",
    "    doc = nlp.make_doc(input_data)\n",
    "    example = Example.from_dict(doc, annot)\n",
    "    examples.append(example)\n",
    "\n",
    "nlp.initialize(lambda: examples)\n",
    "optimizer = nlp.begin_training()\n",
    "\n",
    "for i in range(50):\n",
    "    losses={}\n",
    "    random.shuffle(examples)\n",
    "    for example in examples:\n",
    "        nlp.update([example],sgd=optimizer,losses=losses)\n",
    "    "
   ]
  },
  {
   "cell_type": "code",
   "execution_count": 29,
   "metadata": {},
   "outputs": [
    {
     "name": "stdout",
     "output_type": "stream",
     "text": [
      "Tags [('there', 'any', ''), ('is', 'any', ''), ('many', 'any', ''), ('laboratories', 'NNS', '')]\n"
     ]
    }
   ],
   "source": [
    "nlp.to_disk(\"./model_post\")\n",
    "\n",
    "doc = nlp(\"there is many laboratories\")\n",
    "print('Tags', [(t.text, t.tag_, t.pos_) for t in doc])"
   ]
  },
  {
   "cell_type": "code",
   "execution_count": 181,
   "metadata": {},
   "outputs": [],
   "source": [
    "def getIndex(text,word_to_find):\n",
    "    # Split the text into words\n",
    "    words = text.split()\n",
    "\n",
    "    # Initialize a variable to store the start index\n",
    "    start_index = None\n",
    "\n",
    "    # Iterate through the words and find the start index of the target word\n",
    "    for i, word in enumerate(words):\n",
    "        if word == word_to_find:\n",
    "            start_index = sum(len(words[j]) + 1 for j in range(i))\n",
    "            break\n",
    "        \n",
    "    return start_index"
   ]
  }
 ],
 "metadata": {
  "kernelspec": {
   "display_name": "Python 3",
   "language": "python",
   "name": "python3"
  },
  "language_info": {
   "codemirror_mode": {
    "name": "ipython",
    "version": 3
   },
   "file_extension": ".py",
   "mimetype": "text/x-python",
   "name": "python",
   "nbconvert_exporter": "python",
   "pygments_lexer": "ipython3",
   "version": "3.9.1"
  }
 },
 "nbformat": 4,
 "nbformat_minor": 2
}
