{
 "cells": [
  {
   "cell_type": "code",
   "execution_count": 113,
   "metadata": {},
   "outputs": [],
   "source": [
    "import pandas as pd\n",
    "import os\n",
    "from tqdm import tqdm\n",
    "import spacy\n",
    "from spacy.tokens import DocBin\n",
    "from spacy.training.example import Example\n"
   ]
  },
  {
   "cell_type": "markdown",
   "metadata": {},
   "source": [
    "Training data"
   ]
  },
  {
   "cell_type": "code",
   "execution_count": 173,
   "metadata": {},
   "outputs": [],
   "source": [
    "TRAIN_DATA = [\n",
    "    (\"The sky is blue\", {\"entities\": [(11, 15, \"COLOR\")]}),\n",
    "    (\"She wore a red dress\", {\"entities\": [(11, 14, \"COLOR\")]}),\n",
    "    (\"The car is painted in green\", {\"entities\": [(22, 27, \"COLOR\")]}),\n",
    "    (\"The sunsets are often orange\", {\"entities\": [(22, 28, \"COLOR\")]}),\n",
    "    (\"The flag is red, white, and blue\", {\"entities\": [(12, 15, \"COLOR\"), (17, 22, \"COLOR\"), (28, 32, \"COLOR\")]}),\n",
    "    (\"The room was painted in shades of gray\", {\"entities\": [(34, 38, \"COLOR\")]}),\n",
    "    (\"The sky can be beautifully pink during sunsets\", {\"entities\": [(27, 31, \"COLOR\")]}),\n",
    "    (\"The leaves turn yellow in the fall\", {\"entities\": [(16, 22, \"COLOR\")]}),\n",
    "]"
   ]
  },
  {
   "cell_type": "markdown",
   "metadata": {},
   "source": [
    "# Training a NER tagger\n",
    "\n",
    "train a pos tagger to recognize a new entity “USTHB” and “LRIA” as ORG,  "
   ]
  },
  {
   "cell_type": "code",
   "execution_count": 174,
   "metadata": {},
   "outputs": [
    {
     "name": "stderr",
     "output_type": "stream",
     "text": [
      "100%|██████████| 8/8 [00:00<00:00, 2666.65it/s]\n"
     ]
    }
   ],
   "source": [
    "#nlp = spacy.blank(\"en\") # load a new spacy model\n",
    "nlp = spacy.blank(\"en\") # load other spacy model\n",
    "\n",
    "db = DocBin() # create a DocBin object\n",
    "\n",
    "for text, annot in tqdm(TRAIN_DATA): # data in previous format\n",
    "    doc = nlp.make_doc(text) # create doc object from text\n",
    "    ents = []\n",
    "    for start, end, label in annot[\"entities\"]: # add character indexes\n",
    "        span = doc.char_span(start, end, label=label, alignment_mode=\"contract\")\n",
    "\n",
    "        if span is None:\n",
    "            print(text)\n",
    "            print(\"Skipping entity\")\n",
    "        else:\n",
    "            ents.append(span)\n",
    "    doc.ents = ents # label the text with the ents\n",
    "    db.add(doc)\n",
    "\n",
    "db.to_disk(\"./train.spacy\") # save the docbin object"
   ]
  },
  {
   "cell_type": "code",
   "execution_count": 175,
   "metadata": {},
   "outputs": [
    {
     "data": {
      "text/plain": [
       "0"
      ]
     },
     "execution_count": 175,
     "metadata": {},
     "output_type": "execute_result"
    }
   ],
   "source": [
    "import os\n",
    "os.system('python -m spacy init fill-config tagger_config.cfg config.cfg')"
   ]
  },
  {
   "cell_type": "code",
   "execution_count": 176,
   "metadata": {},
   "outputs": [
    {
     "data": {
      "text/plain": [
       "0"
      ]
     },
     "execution_count": 176,
     "metadata": {},
     "output_type": "execute_result"
    }
   ],
   "source": [
    "import os\n",
    "os.system('python -m spacy train config.cfg --output ./output --paths.train ./train.spacy --paths.dev ./train.spacy')"
   ]
  },
  {
   "cell_type": "markdown",
   "metadata": {},
   "source": [
    "testing"
   ]
  },
  {
   "cell_type": "code",
   "execution_count": 179,
   "metadata": {},
   "outputs": [
    {
     "name": "stdout",
     "output_type": "stream",
     "text": [
      "blue -> COLOR\n",
      "red -> COLOR\n",
      "gray -> COLOR\n",
      "white -> COLOR\n"
     ]
    }
   ],
   "source": [
    "nlp = spacy.load(\"./output/model-best\")\n",
    "\n",
    "doc = nlp(\"the blue carpet is beautifully shinning\")\n",
    "for ent in doc.ents:\n",
    "    print(ent.text,\"->\", ent.label_)\n",
    "\n",
    "doc = nlp(\"the color of the sky was red because of the flames\")\n",
    "for ent in doc.ents:\n",
    "    print(ent.text,\"->\", ent.label_)\n",
    "\n",
    "doc = nlp(\"that rooms walls were painted in half gray and half white\")\n",
    "for ent in doc.ents:\n",
    "    print(ent.text,\"->\", ent.label_)"
   ]
  },
  {
   "cell_type": "markdown",
   "metadata": {},
   "source": [
    "# Training a POS Tagger\n",
    "\n",
    " ner tagger to recognize a new entity label called “COLOR”"
   ]
  },
  {
   "cell_type": "code",
   "execution_count": 128,
   "metadata": {},
   "outputs": [],
   "source": [
    "import random\n",
    "from pathlib import Path\n",
    "from spacy.pipeline.ner import Config\n",
    "\n",
    "TAG_MAP = {\n",
    "    'ORG': {'pos': 'ORG'},\n",
    "    '.': {'pos': 'any'}\n",
    "}\n",
    "\n",
    "TRAIN_DATA = [\n",
    "    (\"USTHB is the biggest university in algiers .\", {'tags': ['ORG', '.', '.', '.', '.', '.', '.', '.']}),\n",
    "]\n",
    "\n",
    "nlp = spacy.blank(\"en\")\n",
    "# Create a new NER component\n",
    "tagger = nlp.add_pipe(\"tagger\")\n",
    "\n",
    "for tag, values in TAG_MAP.items():\n",
    "    tagger.add_label(tag)\n",
    "\n"
   ]
  },
  {
   "cell_type": "code",
   "execution_count": 129,
   "metadata": {},
   "outputs": [
    {
     "name": "stdout",
     "output_type": "stream",
     "text": [
      "Tags [('the', '.', ''), ('LRIA', '.', ''), ('is', '.', ''), ('a', '.', ''), ('research', '.', ''), ('laboratory', '.', ''), ('in', '.', ''), ('the', '.', ''), ('IT', '.', ''), ('faculty', '.', ''), ('at', '.', ''), ('USTHB', 'ORG', ''), ('specialized', '.', ''), ('in', '.', ''), ('AI', '.', ''), ('.', '.', '')]\n"
     ]
    }
   ],
   "source": [
    "optimizer = nlp.begin_training()\n",
    "examples = []\n",
    "\n",
    "for input_data, annot in TRAIN_DATA:\n",
    "    doc = nlp.make_doc(input_data)\n",
    "    example = Example.from_dict(doc, annot)\n",
    "    examples.append(example)\n",
    "\n",
    "for i in range(20):\n",
    "    random.shuffle(examples)\n",
    "    nlp.update(examples)\n",
    "\n",
    "doc = nlp(\"the LRIA is a research laboratory in the IT faculty at USTHB specialized in AI.\")\n",
    "print('Tags', [(t.text, t.tag_, t.pos_) for t in doc])"
   ]
  },
  {
   "cell_type": "code",
   "execution_count": 181,
   "metadata": {},
   "outputs": [],
   "source": [
    "def getIndex(text,word_to_find):\n",
    "    # Split the text into words\n",
    "    words = text.split()\n",
    "\n",
    "    # Initialize a variable to store the start index\n",
    "    start_index = None\n",
    "\n",
    "    # Iterate through the words and find the start index of the target word\n",
    "    for i, word in enumerate(words):\n",
    "        if word == word_to_find:\n",
    "            start_index = sum(len(words[j]) + 1 for j in range(i))\n",
    "            break\n",
    "        \n",
    "    return start_index"
   ]
  }
 ],
 "metadata": {
  "kernelspec": {
   "display_name": "Python 3",
   "language": "python",
   "name": "python3"
  },
  "language_info": {
   "codemirror_mode": {
    "name": "ipython",
    "version": 3
   },
   "file_extension": ".py",
   "mimetype": "text/x-python",
   "name": "python",
   "nbconvert_exporter": "python",
   "pygments_lexer": "ipython3",
   "version": "3.9.1"
  }
 },
 "nbformat": 4,
 "nbformat_minor": 2
}
